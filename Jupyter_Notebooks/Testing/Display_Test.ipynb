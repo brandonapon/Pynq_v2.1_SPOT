{
 "cells": [
  {
   "cell_type": "code",
   "execution_count": 1,
   "metadata": {
    "scrolled": false
   },
   "outputs": [
    {
     "data": {
      "application/javascript": [
       "\n",
       "require(['notebook/js/codecell'], function(codecell) {\n",
       "  codecell.CodeCell.options_default.highlight_modes[\n",
       "      'magic_text/x-csrc'] = {'reg':[/^%%microblaze/]};\n",
       "  Jupyter.notebook.events.one('kernel_ready.Kernel', function(){\n",
       "      Jupyter.notebook.get_cells().map(function(cell){\n",
       "          if (cell.cell_type == 'code'){ cell.auto_highlight(); } }) ;\n",
       "  });\n",
       "});\n"
      ]
     },
     "metadata": {},
     "output_type": "display_data"
    },
    {
     "data": {
      "text/plain": [
       "3"
      ]
     },
     "execution_count": 1,
     "metadata": {},
     "output_type": "execute_result"
    }
   ],
   "source": [
    "from pynq.overlays.base import BaseOverlay\n",
    "base = BaseOverlay(\"base.bit\")\n",
    "\n",
    "from pynq.lib.arduino import Arduino_RA8875\n",
    "test = Arduino_RA8875(base.ARDUINO)\n",
    "\n",
    "test.init()\n",
    "test.display()\n",
    "test.gpio()\n",
    "test.pwm()\n"
   ]
  },
  {
   "cell_type": "code",
   "execution_count": 2,
   "metadata": {},
   "outputs": [],
   "source": [
    "def _convert_color(color):\n",
    "    \"\"\"Convert a 24-bit color to 16-bit.\n",
    "\n",
    "    The input `color` is assumed to be a 3-component list [R,G,B], each with\n",
    "    8 bits for color level.\n",
    "\n",
    "    This method will translate that list of colors into a 16-bit number,\n",
    "    with first 5 bits indicating R component,\n",
    "    last 5 bits indicating B component, and remaining\n",
    "    6 bits in the middle indicating G component.\n",
    "    i.e., 16-bit color -> (5 bits, 6 bits, 5 bits) -> (R,G,B).\n",
    "\n",
    "    \"\"\"\n",
    "    for i in color:\n",
    "        if i not in range(256):\n",
    "            raise ValueError(\"Valid color value for R, G, B is 0 - 255.\")\n",
    "    red, green, blue = color\n",
    "    return ((blue & 0xF8) << 8) | ((green & 0xFC) << 3) | ((red & 0xF8) >> 3)"
   ]
  },
  {
   "cell_type": "code",
   "execution_count": 16,
   "metadata": {},
   "outputs": [],
   "source": [
    "from PIL import Image\n",
    "from numpy import array\n",
    "img = Image.open('data/Yogananda.jpg')\n",
    "img.resize((240,240), Image.ANTIALIAS)\n",
    "img_array = array(img)\n",
    "img.close()\n",
    "\n",
    "file_size = 240*240*2\n",
    "buf0 = test.buf_manager.cma_alloc(file_size, data_type=\"uint8_t\")\n",
    "buf1 = test.buf_manager.cma_get_buffer(buf0, file_size)\n",
    "phy_addr = test.buf_manager.cma_get_phy_addr(buf0)\n",
    "index = 0\n",
    "image_save = open(\"yoga.txt\", \"w\")\n",
    "for j in range(240):\n",
    "    for i in range(240):\n",
    "        red, green, blue = img_array[i][j]\n",
    "#         pixel = ((blue & 0xF8) << 8) | ((green & 0xFC) << 3) | ((red & 0xF8) >> 3)\n",
    "        pixel = ((blue & 0xF8) >> 3) | ((green & 0xFC) << 3) | ((red & 0xF8) << 8)\n",
    "        image_save.write(hex(pixel) + \"\\n\")\n",
    "        index = 2 * ((240 - i - 1) * 240 + j)\n",
    "        buf1[index] = bytes([pixel & 0xFF])\n",
    "        buf1[index + 1] = bytes([(pixel & 0xFF00) >> 8])\n",
    "image_save.close()\n",
    "test.microblaze.write_mailbox(0, 0)\n",
    "test.microblaze.write_mailbox(4, 0)\n",
    "test.microblaze.write_mailbox(8, phy_addr)\n",
    "test.microblaze.write_mailbox(12, 240)\n",
    "test.microblaze.write_mailbox(16, 240)\n",
    "test.microblaze.write_blocking_command(0x8)"
   ]
  },
  {
   "cell_type": "code",
   "execution_count": 38,
   "metadata": {},
   "outputs": [],
   "source": [
    "from PIL import Image\n",
    "from numpy import array\n",
    "img = Image.open('data/logo_small.png')\n",
    "width, height = img.size\n",
    "img.resize((width,height), Image.ANTIALIAS)\n",
    "img_array = array(img)\n",
    "img.close()\n",
    "\n",
    "file_size = width*height*2\n",
    "buf0 = test.buf_manager.cma_alloc(file_size, data_type=\"uint8_t\")\n",
    "buf1 = test.buf_manager.cma_get_buffer(buf0, file_size)\n",
    "phy_addr = test.buf_manager.cma_get_phy_addr(buf0)\n",
    "index = 0\n",
    "for j in range(width):\n",
    "    for i in range(height):\n",
    "        red, green, blue = img_array[i][j]\n",
    "#         pixel = ((blue & 0xF8) << 8) | ((green & 0xFC) << 3) | ((red & 0xF8) >> 3) #original\n",
    "        pixel = ((blue & 0xF8) >> 3) | ((green & 0xFC) << 3) | ((red & 0xF8) << 8) \n",
    "#         pixel_orig = ((blue & 0xF8) >> 3) | ((green & 0xFC) << 3) | ((red & 0xF8) << 8)\n",
    "#         pixel = int('{:016b}'.format(pixel_orig)[::-1])\n",
    "        index = 2 * ((height - i - 1) * width + j)\n",
    "        buf1[index] = bytes([pixel & 0xFF])\n",
    "        buf1[index + 1] = bytes([(pixel & 0xFF00) >> 8])\n",
    "test.microblaze.write_mailbox(0, 0)\n",
    "test.microblaze.write_mailbox(4, 0)\n",
    "test.microblaze.write_mailbox(8, phy_addr)\n",
    "test.microblaze.write_mailbox(12, height)\n",
    "test.microblaze.write_mailbox(16, width)\n",
    "test.microblaze.write_blocking_command(0x8)"
   ]
  },
  {
   "cell_type": "code",
   "execution_count": 37,
   "metadata": {},
   "outputs": [
    {
     "name": "stdout",
     "output_type": "stream",
     "text": [
      "0b111100001111\n",
      "0b1100111011110000100110111101101010111\n"
     ]
    }
   ],
   "source": [
    "binary = 3855\n",
    "flipped_binary = '{:16b}'.format(binary)[::-1]\n",
    "print(bin(binary))\n",
    "print(bin(int(flipped_binary)))"
   ]
  },
  {
   "cell_type": "code",
   "execution_count": 17,
   "metadata": {},
   "outputs": [],
   "source": [
    "from PIL import Image\n",
    "from numpy import array\n",
    "img = Image.open('data/adafruit_lcd18.jpg')\n",
    "width, height = img.size\n",
    "img.resize((width,height), Image.ANTIALIAS)\n",
    "img_array = array(img)\n",
    "img.close()\n",
    "\n",
    "file_size = width*height*2\n",
    "buf0 = test.buf_manager.cma_alloc(file_size, data_type=\"uint8_t\")\n",
    "buf1 = test.buf_manager.cma_get_buffer(buf0, file_size)\n",
    "phy_addr = test.buf_manager.cma_get_phy_addr(buf0)\n",
    "index = 0\n",
    "for j in range(width):\n",
    "    for i in range(height):\n",
    "        red, green, blue = img_array[i][j]\n",
    "        pixel = ((blue & 0xF8) << 8) | ((green & 0xFC) << 3) | ((red & 0xF8) >> 3)\n",
    "        index = 2 * ((height - i - 1) * width + j)\n",
    "        buf1[index] = bytes([pixel & 0xFF])\n",
    "        buf1[index + 1] = bytes([(pixel & 0xFF00) >> 8])\n",
    "test.microblaze.write_mailbox(0, 0)\n",
    "test.microblaze.write_mailbox(4, 0)\n",
    "test.microblaze.write_mailbox(8, phy_addr)\n",
    "test.microblaze.write_mailbox(12, height)\n",
    "test.microblaze.write_mailbox(16, width)\n",
    "test.microblaze.write_blocking_command(0x8)"
   ]
  },
  {
   "cell_type": "code",
   "execution_count": 6,
   "metadata": {
    "scrolled": false
   },
   "outputs": [
    {
     "name": "stdout",
     "output_type": "stream",
     "text": [
      "0x0\n",
      "0x0\n",
      "0x168a0000\n",
      "0xf0\n",
      "0xf0\n"
     ]
    }
   ],
   "source": [
    "output_list = test.draw_yoga(0,0)\n",
    "for vals in output_list:\n",
    "    print(hex(vals))"
   ]
  },
  {
   "cell_type": "code",
   "execution_count": 1,
   "metadata": {},
   "outputs": [
    {
     "ename": "NameError",
     "evalue": "name 'test' is not defined",
     "output_type": "error",
     "traceback": [
      "\u001b[0;31m---------------------------------------------------------------------------\u001b[0m",
      "\u001b[0;31mNameError\u001b[0m                                 Traceback (most recent call last)",
      "\u001b[0;32m<ipython-input-1-ee5714d89ff7>\u001b[0m in \u001b[0;36m<module>\u001b[0;34m()\u001b[0m\n\u001b[1;32m      2\u001b[0m \u001b[0mx_start\u001b[0m \u001b[0;34m=\u001b[0m \u001b[0;36m0\u001b[0m\u001b[0;34m\u001b[0m\u001b[0m\n\u001b[1;32m      3\u001b[0m \u001b[0my_start\u001b[0m \u001b[0;34m=\u001b[0m \u001b[0;36m0\u001b[0m\u001b[0;34m\u001b[0m\u001b[0m\n\u001b[0;32m----> 4\u001b[0;31m \u001b[0mfile_size\u001b[0m \u001b[0;34m=\u001b[0m \u001b[0mlen\u001b[0m\u001b[0;34m(\u001b[0m\u001b[0mtest\u001b[0m\u001b[0;34m.\u001b[0m\u001b[0myoga\u001b[0m\u001b[0;34m)\u001b[0m\u001b[0;34m*\u001b[0m\u001b[0;36m2\u001b[0m\u001b[0;34m\u001b[0m\u001b[0m\n\u001b[0m\u001b[1;32m      5\u001b[0m \u001b[0mbuf0\u001b[0m \u001b[0;34m=\u001b[0m \u001b[0mtest\u001b[0m\u001b[0;34m.\u001b[0m\u001b[0mbuf_manager\u001b[0m\u001b[0;34m.\u001b[0m\u001b[0mcma_alloc\u001b[0m\u001b[0;34m(\u001b[0m\u001b[0mfile_size\u001b[0m\u001b[0;34m,\u001b[0m \u001b[0mdata_type\u001b[0m\u001b[0;34m=\u001b[0m\u001b[0;34m\"uint8_t\"\u001b[0m\u001b[0;34m)\u001b[0m\u001b[0;34m\u001b[0m\u001b[0m\n\u001b[1;32m      6\u001b[0m \u001b[0mbuf1\u001b[0m \u001b[0;34m=\u001b[0m \u001b[0mtest\u001b[0m\u001b[0;34m.\u001b[0m\u001b[0mbuf_manager\u001b[0m\u001b[0;34m.\u001b[0m\u001b[0mcma_get_buffer\u001b[0m\u001b[0;34m(\u001b[0m\u001b[0mbuf0\u001b[0m\u001b[0;34m,\u001b[0m \u001b[0mfile_size\u001b[0m\u001b[0;34m)\u001b[0m\u001b[0;34m\u001b[0m\u001b[0m\n",
      "\u001b[0;31mNameError\u001b[0m: name 'test' is not defined"
     ]
    }
   ],
   "source": [
    "#checking values stored in DDR v1\n",
    "x_start = 0\n",
    "y_start = 0\n",
    "file_size = len(test.yoga)*2\n",
    "buf0 = test.buf_manager.cma_alloc(file_size, data_type=\"uint8_t\")\n",
    "buf1 = test.buf_manager.cma_get_buffer(buf0, file_size)\n",
    "phy_addr = test.buf_manager.cma_get_phy_addr(buf0)\n",
    "index = 0\n",
    "for i in range(0, 5):\n",
    "    pixel = test.yoga[i]\n",
    "    bin_val = \"{0:b}\".format(pixel)\n",
    "    hex_val = '{:x}'.format(pixel)\n",
    "#     print (bin_val)\n",
    "    bv_1 = bin_val[:8]\n",
    "    bv_2 = bin_val[8:]\n",
    "#     print (bv_1)\n",
    "#     print (bv_2)\n",
    "    buf1[index] = bytes([int(bv_1, 2)])\n",
    "    buf1[index+1]= bytes([int(bv_2, 2)])\n",
    "    print(hex_val)\n",
    "    print(bin_val)\n",
    "    print('bv_1 = ' + bv_1)\n",
    "    print('bv_2 = ' + bv_2)\n",
    "    print(buf1[index])\n",
    "    print(buf1[index+1])\n",
    "    index += 2\n",
    "test.microblaze.write_mailbox(0, x_start)\n",
    "test.microblaze.write_mailbox(4, y_start)\n",
    "test.microblaze.write_mailbox(8, phy_addr)\n",
    "test.microblaze.write_mailbox(12, 240)\n",
    "test.microblaze.write_mailbox(16, 240)\n",
    "test.microblaze.write_blocking_command(0x8)"
   ]
  },
  {
   "cell_type": "code",
   "execution_count": 4,
   "metadata": {},
   "outputs": [
    {
     "name": "stdout",
     "output_type": "stream",
     "text": [
      "pixel = 0xf363, 62307\n",
      "b'\\xf3'\n",
      "b'c'\n",
      "pixel = 0xb25b, 45659\n",
      "b'\\xb2'\n",
      "b'['\n",
      "pixel = 0xb35b, 45915\n",
      "b'\\xb3'\n",
      "b'['\n",
      "pixel = 0xf45b, 62555\n",
      "b'\\xf4'\n",
      "b'['\n",
      "pixel = 0xd35b, 54107\n",
      "b'\\xd3'\n",
      "b'['\n",
      "0xf363, 62307, 0b1111001101100011\n",
      "0xb25b, 45659, 0b1011001001011011\n",
      "0xb35b, 45915, 0b1011001101011011\n",
      "0xf45b, 62555, 0b1111010001011011\n",
      "0xd35b, 54107, 0b1101001101011011\n"
     ]
    }
   ],
   "source": [
    "#checking values stored in DDR v2\n",
    "x_start = 0\n",
    "y_start = 0\n",
    "file_size = len(test.yoga)*2\n",
    "buf0 = test.buf_manager.cma_alloc(file_size, data_type=\"uint8_t\")\n",
    "buf1 = test.buf_manager.cma_get_buffer(buf0, file_size)\n",
    "phy_addr = test.buf_manager.cma_get_phy_addr(buf0)\n",
    "index = 0\n",
    "for i in range(0, 5):\n",
    "    pixel = test.yoga[i]\n",
    "    buf1[index] = bytes([(pixel&0xFF00)>>8])\n",
    "    buf1[index+1] = bytes([pixel&0x00FF])\n",
    "    \n",
    "    print('pixel = ' + str(hex(pixel)) + ', ' + str(pixel))\n",
    "    print(buf1[index])\n",
    "    print(buf1[index+1])\n",
    "    index += 2\n",
    "test.microblaze.write_mailbox(0, x_start)\n",
    "test.microblaze.write_mailbox(4, y_start)\n",
    "test.microblaze.write_mailbox(8, phy_addr)\n",
    "test.microblaze.write_mailbox(12, 240)\n",
    "test.microblaze.write_mailbox(16, 240)\n",
    "test.microblaze.write_blocking_command(0x8)\n",
    "output_list = test.microblaze.read_mailbox(0,5)\n",
    "for vals in output_list:\n",
    "    print(hex(vals) + ', ' + str(vals) + ', ' + bin(vals))"
   ]
  },
  {
   "cell_type": "code",
   "execution_count": 20,
   "metadata": {},
   "outputs": [
    {
     "name": "stdout",
     "output_type": "stream",
     "text": [
      "Color: black\n",
      "Decimal = 0\n",
      "Hex = 0x0\n",
      "Bin = 0b0\n",
      " \n",
      "Color: blue\n",
      "Decimal = 31\n",
      "Hex = 0x1f\n",
      "Bin = 0b11111\n",
      " \n",
      "Color: red\n",
      "Decimal = 63488\n",
      "Hex = 0xf800\n",
      "Bin = 0b1111100000000000\n",
      " \n",
      "Color: green\n",
      "Decimal = 2016\n",
      "Hex = 0x7e0\n",
      "Bin = 0b11111100000\n",
      " \n",
      "Color: cyan\n",
      "Decimal = 2047\n",
      "Hex = 0x7ff\n",
      "Bin = 0b11111111111\n",
      " \n",
      "Color: magenta\n",
      "Decimal = 63519\n",
      "Hex = 0xf81f\n",
      "Bin = 0b1111100000011111\n",
      " \n",
      "Color: yellow\n",
      "Decimal = 65504\n",
      "Hex = 0xffe0\n",
      "Bin = 0b1111111111100000\n",
      " \n",
      "Color: white\n",
      "Decimal = 65535\n",
      "Hex = 0xffff\n",
      "Bin = 0b1111111111111111\n",
      " \n"
     ]
    }
   ],
   "source": [
    "#testing basic fill color\n",
    "import time\n",
    "\n",
    "color_table = [0x0000, 0x001F, 0xF800, 0x07E0, 0x07FF, 0xF81F, 0xFFE0, 0xFFFF]\n",
    "color_index = ['black', 'blue', 'red', 'green', 'cyan', 'magenta', 'yellow', 'white']\n",
    "for index, color in enumerate(color_table):    \n",
    "    return_val = test.fill_color(color)\n",
    "    print('Color: '+ color_index[index])\n",
    "    print('Decimal = ' + str(return_val))\n",
    "    print('Hex = ' + hex(return_val))\n",
    "    print('Bin = ' + bin(return_val))\n",
    "    print(' ')\n",
    "    time.sleep(3)"
   ]
  },
  {
   "cell_type": "code",
   "execution_count": 17,
   "metadata": {},
   "outputs": [
    {
     "name": "stdout",
     "output_type": "stream",
     "text": [
      "Decimal = 57558\n",
      "Hex = 0xe0d6\n",
      "Bin = 0b1110000011010110\n"
     ]
    }
   ],
   "source": [
    "#Testing custom fill colors\n",
    "return_val = test.fill_color(0xe0d6)\n",
    "print('Decimal = ' + str(return_val))\n",
    "print('Hex = ' + hex(return_val))\n",
    "print('Bin = ' + bin(return_val))"
   ]
  },
  {
   "cell_type": "code",
   "execution_count": 18,
   "metadata": {
    "scrolled": true
   },
   "outputs": [],
   "source": [
    "#testing drawPixel color\n",
    "for x in range(0, 240):\n",
    "    for y in range(0,240):\n",
    "        test.drawPixel(x, y, 0xe0d6)"
   ]
  },
  {
   "cell_type": "code",
   "execution_count": 10,
   "metadata": {},
   "outputs": [
    {
     "data": {
      "text/plain": [
       "1337"
      ]
     },
     "execution_count": 10,
     "metadata": {},
     "output_type": "execute_result"
    }
   ],
   "source": [
    "#testing fill\n",
    "test.fill()"
   ]
  },
  {
   "cell_type": "code",
   "execution_count": 19,
   "metadata": {
    "scrolled": true
   },
   "outputs": [
    {
     "name": "stdout",
     "output_type": "stream",
     "text": [
      "0xe0d6\n"
     ]
    }
   ],
   "source": [
    "value = test.drawPixel(40,40, 0xe0d6)\n",
    "print(hex(value))"
   ]
  },
  {
   "cell_type": "code",
   "execution_count": 11,
   "metadata": {
    "scrolled": true
   },
   "outputs": [],
   "source": [
    "test.slowFill(0x07E0);"
   ]
  },
  {
   "cell_type": "code",
   "execution_count": 4,
   "metadata": {
    "scrolled": true
   },
   "outputs": [
    {
     "name": "stdout",
     "output_type": "stream",
     "text": [
      "1337\n"
     ]
    }
   ],
   "source": [
    "read_in = test.fill()\n",
    "print (read_in)"
   ]
  },
  {
   "cell_type": "code",
   "execution_count": 5,
   "metadata": {},
   "outputs": [],
   "source": [
    "index = 0\n",
    "start_x = 280\n",
    "start_y = 120\n",
    "for x in range(start_x, start_x+240):\n",
    "    for y in range(start_y, start_y+240):\n",
    "        test.drawPixel(x, y, int(test.yoga[index]))\n",
    "        index += 1"
   ]
  },
  {
   "cell_type": "code",
   "execution_count": 9,
   "metadata": {},
   "outputs": [],
   "source": [
    "index = 0\n",
    "for x in range(0, 254):\n",
    "    for y in range(0, 536):\n",
    "        test.drawPixel(y, x, test.spot[index])\n",
    "        index += 1"
   ]
  },
  {
   "cell_type": "code",
   "execution_count": null,
   "metadata": {},
   "outputs": [],
   "source": []
  }
 ],
 "metadata": {
  "kernelspec": {
   "display_name": "Python 3",
   "language": "python",
   "name": "python3"
  },
  "language_info": {
   "codemirror_mode": {
    "name": "ipython",
    "version": 3
   },
   "file_extension": ".py",
   "mimetype": "text/x-python",
   "name": "python",
   "nbconvert_exporter": "python",
   "pygments_lexer": "ipython3",
   "version": "3.6.0"
  }
 },
 "nbformat": 4,
 "nbformat_minor": 2
}

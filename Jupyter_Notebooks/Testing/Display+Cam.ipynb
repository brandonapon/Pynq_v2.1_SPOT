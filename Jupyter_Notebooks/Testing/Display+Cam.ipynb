{
 "cells": [
  {
   "cell_type": "code",
   "execution_count": 3,
   "metadata": {},
   "outputs": [],
   "source": [
    "from pynq.overlays.base import BaseOverlay\n",
    "base = BaseOverlay(\"base.bit\")\n",
    "\n",
    "from pynq.lib.arduino import Arduino_Displaycam\n",
    "test = Arduino_Displaycam(base.ARDUINO)\n",
    "\n",
    "test.init()\n",
    "test.display()\n",
    "test.gpio()\n",
    "test.pwm()\n",
    "\n",
    "CAMERA = 0xa"
   ]
  },
  {
   "cell_type": "code",
   "execution_count": 2,
   "metadata": {},
   "outputs": [
    {
     "name": "stdout",
     "output_type": "stream",
     "text": [
      "pixel_old = 0x5b9e 0b101101110011110\n",
      "pixel = 0xd1cf 0b1101000111001111\n"
     ]
    }
   ],
   "source": [
    "#testing basic fill color \n",
    "import time\n",
    "\n",
    "#values given 0-255\n",
    "red = 95\n",
    "green = 114\n",
    "blue = 243\n",
    "\n",
    "pixel_old = ((blue >> 3) | ((green & 0xFC) << 3) | ((red & 0xF8) << 8))\n",
    "pixel = ((int('{:08b}'.format(blue)[::-1], 2)) & 0x1F | ((int('{:08b}'.format(green)[::-1], 2)) & 0x3F) << 5 | ((int('{:08b}'.format(red)[::-1], 2)) & 0x1F) << 11)\n",
    "\n",
    "test.fill_color(0x0)\n",
    "time.sleep(1)\n",
    "test.fill_color(pixel)\n",
    "# time.sleep(1)\n",
    "# test.fill_color(0x70FD)\n",
    "print('pixel_old =', hex(pixel_old), bin(pixel_old))\n",
    "print('pixel =', hex(pixel), bin(pixel))"
   ]
  },
  {
   "cell_type": "code",
   "execution_count": 3,
   "metadata": {
    "scrolled": true
   },
   "outputs": [
    {
     "name": "stdout",
     "output_type": "stream",
     "text": [
      "Color: black\n",
      "Decimal = 0\n",
      "Hex = 0x0\n",
      "Bin = 0b0\n",
      " \n",
      "Color: blue\n",
      "Decimal = 31\n",
      "Hex = 0x1f\n",
      "Bin = 0b11111\n",
      " \n"
     ]
    },
    {
     "ename": "KeyboardInterrupt",
     "evalue": "",
     "output_type": "error",
     "traceback": [
      "\u001b[0;31m---------------------------------------------------------------------------\u001b[0m",
      "\u001b[0;31mKeyboardInterrupt\u001b[0m                         Traceback (most recent call last)",
      "\u001b[0;32m<ipython-input-3-d2e3339b6f74>\u001b[0m in \u001b[0;36m<module>\u001b[0;34m()\u001b[0m\n\u001b[1;32m     11\u001b[0m     \u001b[0mprint\u001b[0m\u001b[0;34m(\u001b[0m\u001b[0;34m'Bin = '\u001b[0m \u001b[0;34m+\u001b[0m \u001b[0mbin\u001b[0m\u001b[0;34m(\u001b[0m\u001b[0mreturn_val\u001b[0m\u001b[0;34m)\u001b[0m\u001b[0;34m)\u001b[0m\u001b[0;34m\u001b[0m\u001b[0m\n\u001b[1;32m     12\u001b[0m     \u001b[0mprint\u001b[0m\u001b[0;34m(\u001b[0m\u001b[0;34m' '\u001b[0m\u001b[0;34m)\u001b[0m\u001b[0;34m\u001b[0m\u001b[0m\n\u001b[0;32m---> 13\u001b[0;31m     \u001b[0mtime\u001b[0m\u001b[0;34m.\u001b[0m\u001b[0msleep\u001b[0m\u001b[0;34m(\u001b[0m\u001b[0;36m3\u001b[0m\u001b[0;34m)\u001b[0m\u001b[0;34m\u001b[0m\u001b[0m\n\u001b[0m",
      "\u001b[0;31mKeyboardInterrupt\u001b[0m: "
     ]
    }
   ],
   "source": [
    "#testing basic fill color\n",
    "import time\n",
    "\n",
    "color_table = [0x0000, 0x001F, 0xF800, 0x07E0, 0x07FF, 0xF81F, 0xFFE0, 0xFFFF]\n",
    "color_index = ['black', 'blue', 'red', 'green', 'cyan', 'magenta', 'yellow', 'white']\n",
    "for index, color in enumerate(color_table):    \n",
    "    return_val = test.fill_color(color)\n",
    "    print('Color: '+ color_index[index])\n",
    "    print('Decimal = ' + str(return_val))\n",
    "    print('Hex = ' + hex(return_val))\n",
    "    print('Bin = ' + bin(return_val))\n",
    "    print(' ')\n",
    "    time.sleep(3)"
   ]
  },
  {
   "cell_type": "code",
   "execution_count": 4,
   "metadata": {},
   "outputs": [],
   "source": [
    "#testing image capture + drawing it\n",
    "stream_size = 230400\n",
    "\n",
    "buf0 = test.buf_manager.cma_alloc(stream_size, data_type=\"uint8_t\")\n",
    "buf1 = test.buf_manager.cma_get_buffer(buf0, stream_size+8)\n",
    "phy_addr = test.buf_manager.cma_get_phy_addr(buf0)\n",
    "\n",
    "test.microblaze.write_mailbox(0, stream_size)\n",
    "test.microblaze.write_mailbox(4, phy_addr)\n",
    "\n",
    "test.microblaze.write_blocking_command(CAMERA)"
   ]
  },
  {
   "cell_type": "code",
   "execution_count": null,
   "metadata": {},
   "outputs": [],
   "source": []
  }
 ],
 "metadata": {
  "kernelspec": {
   "display_name": "Python 3",
   "language": "python",
   "name": "python3"
  },
  "language_info": {
   "codemirror_mode": {
    "name": "ipython",
    "version": 3
   },
   "file_extension": ".py",
   "mimetype": "text/x-python",
   "name": "python",
   "nbconvert_exporter": "python",
   "pygments_lexer": "ipython3",
   "version": "3.6.0"
  }
 },
 "nbformat": 4,
 "nbformat_minor": 2
}

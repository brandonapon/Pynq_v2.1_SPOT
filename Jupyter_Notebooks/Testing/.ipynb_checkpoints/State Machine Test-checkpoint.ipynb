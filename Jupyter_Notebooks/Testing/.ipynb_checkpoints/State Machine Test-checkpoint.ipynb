{
 "cells": [
  {
   "cell_type": "code",
   "execution_count": 1,
   "metadata": {},
   "outputs": [
    {
     "data": {
      "application/javascript": [
       "\n",
       "require(['notebook/js/codecell'], function(codecell) {\n",
       "  codecell.CodeCell.options_default.highlight_modes[\n",
       "      'magic_text/x-csrc'] = {'reg':[/^%%microblaze/]};\n",
       "  Jupyter.notebook.events.one('kernel_ready.Kernel', function(){\n",
       "      Jupyter.notebook.get_cells().map(function(cell){\n",
       "          if (cell.cell_type == 'code'){ cell.auto_highlight(); } }) ;\n",
       "  });\n",
       "});\n"
      ]
     },
     "metadata": {},
     "output_type": "display_data"
    },
    {
     "data": {
      "text/plain": [
       "0"
      ]
     },
     "execution_count": 1,
     "metadata": {},
     "output_type": "execute_result"
    }
   ],
   "source": [
    "from pynq.overlays.base import BaseOverlay\n",
    "base = BaseOverlay(\"base.bit\")\n",
    "\n",
    "import time\n",
    "\n",
    "#init display\n",
    "from pynq.lib.arduino import Arduino_Displaycam\n",
    "test = Arduino_Displaycam(base.ARDUINO)\n",
    "test.init()\n",
    "test.gpio()\n",
    "test.pwm() "
   ]
  },
  {
   "cell_type": "code",
   "execution_count": 2,
   "metadata": {},
   "outputs": [],
   "source": [
    "from pynq.overlays.base import BaseOverlay\n",
    "base = BaseOverlay(\"base.bit\")\n",
    "\n",
    "from pynq.lib.arduino import Arduino_SPOT\n",
    "device = Arduino_SPOT(base.ARDUINO,Arduino_SPOT)"
   ]
  },
  {
   "cell_type": "code",
   "execution_count": 3,
   "metadata": {},
   "outputs": [],
   "source": [
    "device.clearWindow(1)"
   ]
  },
  {
   "cell_type": "code",
   "execution_count": 4,
   "metadata": {},
   "outputs": [
    {
     "name": "stdout",
     "output_type": "stream",
     "text": [
      "[]\n",
      "0\n",
      "0\n",
      "2\n"
     ]
    }
   ],
   "source": [
    "from pynq.lib.arduino.spot_device import *\n",
    "import asyncio\n",
    "\n",
    "spot = SPOT(device)\n",
    "spot.start()\n",
    "\n",
    "# spot.device.setImageAddress()\n",
    "# for i in range(0,1):\n",
    "#     spot.device.snapPic(100,0)\n",
    "    \n",
    "# #pickle\n",
    "# spot.radar.savePicture(spot.device.drawAddr, \"spottyThotty\")\n",
    "# print('pickled')\n",
    "\n",
    "# #unpickle\n",
    "# spot.radar.openPicture(spot.device.drawAddr, \"spottyThotty\")\n",
    "# print('unpickled')\n",
    "\n",
    "# #clear buffer\n",
    "# for slot in spot.device.drawAddr:\n",
    "#     slot = bytes([0])\n",
    "# print('cleared buffer')\n",
    "\n",
    "# #draw\n",
    "# spot.device.drawImage(100,0)\n",
    "# print('redrawn')\n",
    "\n",
    "# while(True):\n",
    "#     print(spot.device.readFromGPS())\n",
    "#     time.sleep(1)\n",
    "\n",
    "\n",
    "#init test points to draw\n",
    "point0 = Point('Brandon')\n",
    "point0.tag = 'Hot'\n",
    "point0.createdBy = 'Beta Saurabh'\n",
    "point0.distance = 69\n",
    "point0.type = 'DANGER'\n",
    "point0.currentLocation = (20,0)\n",
    "\n",
    "point1 = Point('Saurabh')\n",
    "point1.tag = 'Weird'\n",
    "point1.createdBy = 'Alpha Brandon'\n",
    "point1.type = 'INTEREST'\n",
    "point1.distance = 420\n",
    "point1.currentLocation = (-15,15)\n",
    "\n",
    "\n",
    "print(len(spot.radar.points))\n",
    "spot.radar.addPoint(point0)\n",
    "spot.radar.addPoint(point1)\n",
    "print(len(spot.radar.points))\n",
    "\n",
    "spot.radar.userLocation = (0,0)\n",
    "\n",
    "#loop testing\n",
    "# while(True):\n",
    "#     spot.loop()\n",
    "#     time.sleep(0.5)\n",
    "\n",
    "'''\n",
    "Types of events:\n",
    "TOP\n",
    "BOT\n",
    "CW\n",
    "CCW\n",
    "ERROR\n",
    "'''\n",
    "\n",
    "@asyncio.coroutine\n",
    "def buttonPress(num):\n",
    "    event = 'ERROR'\n",
    "    while True:\n",
    "        yield from base.buttons[num].wait_for_value_async(1)\n",
    "        if(num == 1):\n",
    "            event = 'TOP'\n",
    "            while base.buttons[num].read():\n",
    "                base.leds[num].toggle()\n",
    "                yield from asyncio.sleep(0.1)\n",
    "            base.leds[num].off()\n",
    "        elif(num == 0):\n",
    "            event = 'BOTTOM'\n",
    "            while base.buttons[num].read():\n",
    "                base.leds[num].toggle()\n",
    "                yield from asyncio.sleep(0.1)\n",
    "            base.leds[num].off()\n",
    "        else:\n",
    "            event = 'ERROR'\n",
    "        spot.on_event(event)\n",
    "        \n",
    "tasks = [asyncio.ensure_future(buttonPress(i)) for i in range(4)]"
   ]
  },
  {
   "cell_type": "code",
   "execution_count": 5,
   "metadata": {},
   "outputs": [
    {
     "name": "stdout",
     "output_type": "stream",
     "text": [
      "numBytes =  6\n",
      "c-side numBytes =  6\n",
      "numBytes = 8\n",
      "c-side numBytes =  8\n",
      "numBytes = 5\n",
      "c-side numBytes =  5\n",
      "numBytes = 10\n",
      "c-side numBytes =  10\n",
      "numBytes = 13\n",
      "c-side numBytes =  13\n"
     ]
    }
   ],
   "source": [
    "'''\n",
    "self.write_TAG(100, 310)\n",
    "self.write_DISTANCE(100, 360)\n",
    "self.write_CB(100, 410)\n",
    "self.write_TYPE()\n",
    "'''\n",
    "\n",
    "device.clearAll()\n",
    "time.sleep(0.05)\n",
    "point = spot.radar.points[2]\n",
    "device.drawInfoState()\n",
    "if(point.type == 'DANGER'):\n",
    "    device.write_CUSTOM(point.type, 200, 265, 0xf800) # Variable type\n",
    "else:\n",
    "    device.write_CUSTOM(point.type, 200, 265, 0x07e8) # Variable type\n",
    "device.write_CUSTOM(point.tag, 190, 315, 0xffff) # Variable tag\n",
    "device.write_CUSTOM(str(point.distance) + ' meters', 270, 365, 0xffff) # Variable distance\n",
    "device.write_CUSTOM(point.createdBy, 300, 415, 0xffff) # Variable c/b"
   ]
  },
  {
   "cell_type": "code",
   "execution_count": 6,
   "metadata": {},
   "outputs": [],
   "source": [
    "@asyncio.coroutine\n",
    "def txRead():\n",
    "    while True:\n",
    "        yield from asyncio.sleep(0.1)\n",
    "        if(device.hasMessages()):\n",
    "            val = device.readFromTX()\n",
    "            val = [chr(x) for x in val]\n",
    "#             valList = []\n",
    "#             for x in val:\n",
    "#                 valList.append(chr(x))\n",
    "#             print(valList)\n",
    "            print(val)\n",
    "\n",
    "tasks.append(asyncio.ensure_future(txRead()))"
   ]
  },
  {
   "cell_type": "code",
   "execution_count": 6,
   "metadata": {},
   "outputs": [],
   "source": [
    "@asyncio.coroutine\n",
    "def loop():\n",
    "    while True:\n",
    "        yield from asyncio.sleep(0.3)\n",
    "        spot.loop()\n",
    "\n",
    "tasks.append(asyncio.ensure_future(loop()))"
   ]
  },
  {
   "cell_type": "code",
   "execution_count": 7,
   "metadata": {},
   "outputs": [],
   "source": [
    "# @asyncio.coroutine\n",
    "# def gpsSend():\n",
    "#     while True:\n",
    "#         yield from asyncio.sleep(3)\n",
    "#         gpsLoc = device.readFromGPS()\n",
    "#         if(gpsLoc[0] != None):\n",
    "#             gpsString = \"g,\" + str(round(gpsLoc[0], 6)) + \",\" + str(round(gpsLoc[1], 6))\n",
    "#             print(gpsString)\n",
    "#             device.writeToTX(4, gpsString)\n",
    "# tasks.append(asyncio.ensure_future(gpsSend()))"
   ]
  },
  {
   "cell_type": "code",
   "execution_count": 8,
   "metadata": {},
   "outputs": [],
   "source": [
    "import psutil\n",
    "\n",
    "@asyncio.coroutine\n",
    "def print_cpu_usage():\n",
    "    # Calculate the CPU utilisation by the amount of idle time\n",
    "    # each CPU has had in three second intervals\n",
    "    last_idle = [c.idle for c in psutil.cpu_times(percpu=True)]\n",
    "    while True:\n",
    "        yield from asyncio.sleep(3)\n",
    "        next_idle = [c.idle for c in psutil.cpu_times(percpu=True)]\n",
    "        usage = [(1-(c2-c1)/3) * 100 for c1,c2 in zip(last_idle, next_idle)]\n",
    "        print(\"CPU Usage: {0:3.2f}%, {1:3.2f}%\".format(*usage))\n",
    "        last_idle = next_idle\n",
    "\n",
    "tasks.append(asyncio.ensure_future(print_cpu_usage()))"
   ]
  },
  {
   "cell_type": "code",
   "execution_count": 9,
   "metadata": {
    "scrolled": true
   },
   "outputs": [
    {
     "name": "stdout",
     "output_type": "stream",
     "text": [
      "in loop\n",
      "2\n",
      "Key: 1\n",
      "TYPE: DANGER\n",
      "in loop\n",
      "1\n",
      "Key: 2\n",
      "TYPE: INTEREST\n",
      "in loop\n",
      "0\n",
      "in loop\n",
      "0\n",
      "in loop\n",
      "0\n",
      "in loop\n",
      "0\n",
      "CPU Usage: 3.00%, 5.00%\n",
      "in loop\n",
      "0\n",
      "in loop\n",
      "0\n",
      "in loop\n",
      "0\n",
      "in loop\n",
      "0\n",
      "in loop\n",
      "0\n",
      "in loop\n",
      "0\n",
      "[1, 2]\n",
      "2\n",
      "Key: 1\n",
      "TYPE: DANGER\n",
      "1\n",
      "Key: 2\n",
      "TYPE: INTEREST\n",
      "CPU Usage: -18.33%, -17.33%\n",
      "CPU Usage: 0.33%, 1.33%\n",
      "CPU Usage: 0.33%, 1.00%\n"
     ]
    },
    {
     "ename": "KeyboardInterrupt",
     "evalue": "",
     "output_type": "error",
     "traceback": [
      "\u001b[0;31m---------------------------------------------------------------------------\u001b[0m",
      "\u001b[0;31mKeyboardInterrupt\u001b[0m                         Traceback (most recent call last)",
      "\u001b[0;32m<ipython-input-9-d00c0a00cfae>\u001b[0m in \u001b[0;36m<module>\u001b[0;34m()\u001b[0m\n\u001b[1;32m      3\u001b[0m \u001b[0;32melse\u001b[0m\u001b[0;34m:\u001b[0m\u001b[0;34m\u001b[0m\u001b[0m\n\u001b[1;32m      4\u001b[0m \u001b[0;31m#     spot.loop()\u001b[0m\u001b[0;34m\u001b[0m\u001b[0;34m\u001b[0m\u001b[0m\n\u001b[0;32m----> 5\u001b[0;31m     \u001b[0mbase\u001b[0m\u001b[0;34m.\u001b[0m\u001b[0mswitches\u001b[0m\u001b[0;34m[\u001b[0m\u001b[0;36m0\u001b[0m\u001b[0;34m]\u001b[0m\u001b[0;34m.\u001b[0m\u001b[0mwait_for_value\u001b[0m\u001b[0;34m(\u001b[0m\u001b[0;36m1\u001b[0m\u001b[0;34m)\u001b[0m\u001b[0;34m\u001b[0m\u001b[0m\n\u001b[0m",
      "\u001b[0;32m/opt/python3.6/lib/python3.6/site-packages/pynq/lib/axigpio.py\u001b[0m in \u001b[0;36mwait_for_value\u001b[0;34m(self, value)\u001b[0m\n\u001b[1;32m     98\u001b[0m             \u001b[0mloop\u001b[0m \u001b[0;34m=\u001b[0m \u001b[0masyncio\u001b[0m\u001b[0;34m.\u001b[0m\u001b[0mget_event_loop\u001b[0m\u001b[0;34m(\u001b[0m\u001b[0;34m)\u001b[0m\u001b[0;34m\u001b[0m\u001b[0m\n\u001b[1;32m     99\u001b[0m             loop.run_until_complete(asyncio.ensure_future(\n\u001b[0;32m--> 100\u001b[0;31m                 \u001b[0mself\u001b[0m\u001b[0;34m.\u001b[0m\u001b[0mwait_for_value_async\u001b[0m\u001b[0;34m(\u001b[0m\u001b[0mvalue\u001b[0m\u001b[0;34m)\u001b[0m\u001b[0;34m\u001b[0m\u001b[0m\n\u001b[0m\u001b[1;32m    101\u001b[0m             ))\n\u001b[1;32m    102\u001b[0m \u001b[0;34m\u001b[0m\u001b[0m\n",
      "\u001b[0;32m/opt/python3.6/lib/python3.6/asyncio/base_events.py\u001b[0m in \u001b[0;36mrun_until_complete\u001b[0;34m(self, future)\u001b[0m\n\u001b[1;32m    452\u001b[0m         \u001b[0mfuture\u001b[0m\u001b[0;34m.\u001b[0m\u001b[0madd_done_callback\u001b[0m\u001b[0;34m(\u001b[0m\u001b[0m_run_until_complete_cb\u001b[0m\u001b[0;34m)\u001b[0m\u001b[0;34m\u001b[0m\u001b[0m\n\u001b[1;32m    453\u001b[0m         \u001b[0;32mtry\u001b[0m\u001b[0;34m:\u001b[0m\u001b[0;34m\u001b[0m\u001b[0m\n\u001b[0;32m--> 454\u001b[0;31m             \u001b[0mself\u001b[0m\u001b[0;34m.\u001b[0m\u001b[0mrun_forever\u001b[0m\u001b[0;34m(\u001b[0m\u001b[0;34m)\u001b[0m\u001b[0;34m\u001b[0m\u001b[0m\n\u001b[0m\u001b[1;32m    455\u001b[0m         \u001b[0;32mexcept\u001b[0m\u001b[0;34m:\u001b[0m\u001b[0;34m\u001b[0m\u001b[0m\n\u001b[1;32m    456\u001b[0m             \u001b[0;32mif\u001b[0m \u001b[0mnew_task\u001b[0m \u001b[0;32mand\u001b[0m \u001b[0mfuture\u001b[0m\u001b[0;34m.\u001b[0m\u001b[0mdone\u001b[0m\u001b[0;34m(\u001b[0m\u001b[0;34m)\u001b[0m \u001b[0;32mand\u001b[0m \u001b[0;32mnot\u001b[0m \u001b[0mfuture\u001b[0m\u001b[0;34m.\u001b[0m\u001b[0mcancelled\u001b[0m\u001b[0;34m(\u001b[0m\u001b[0;34m)\u001b[0m\u001b[0;34m:\u001b[0m\u001b[0;34m\u001b[0m\u001b[0m\n",
      "\u001b[0;32m/opt/python3.6/lib/python3.6/asyncio/base_events.py\u001b[0m in \u001b[0;36mrun_forever\u001b[0;34m(self)\u001b[0m\n\u001b[1;32m    419\u001b[0m             \u001b[0mevents\u001b[0m\u001b[0;34m.\u001b[0m\u001b[0m_set_running_loop\u001b[0m\u001b[0;34m(\u001b[0m\u001b[0mself\u001b[0m\u001b[0;34m)\u001b[0m\u001b[0;34m\u001b[0m\u001b[0m\n\u001b[1;32m    420\u001b[0m             \u001b[0;32mwhile\u001b[0m \u001b[0;32mTrue\u001b[0m\u001b[0;34m:\u001b[0m\u001b[0;34m\u001b[0m\u001b[0m\n\u001b[0;32m--> 421\u001b[0;31m                 \u001b[0mself\u001b[0m\u001b[0;34m.\u001b[0m\u001b[0m_run_once\u001b[0m\u001b[0;34m(\u001b[0m\u001b[0;34m)\u001b[0m\u001b[0;34m\u001b[0m\u001b[0m\n\u001b[0m\u001b[1;32m    422\u001b[0m                 \u001b[0;32mif\u001b[0m \u001b[0mself\u001b[0m\u001b[0;34m.\u001b[0m\u001b[0m_stopping\u001b[0m\u001b[0;34m:\u001b[0m\u001b[0;34m\u001b[0m\u001b[0m\n\u001b[1;32m    423\u001b[0m                     \u001b[0;32mbreak\u001b[0m\u001b[0;34m\u001b[0m\u001b[0m\n",
      "\u001b[0;32m/opt/python3.6/lib/python3.6/asyncio/base_events.py\u001b[0m in \u001b[0;36m_run_once\u001b[0;34m(self)\u001b[0m\n\u001b[1;32m   1387\u001b[0m                            timeout * 1e3, dt * 1e3)\n\u001b[1;32m   1388\u001b[0m         \u001b[0;32melse\u001b[0m\u001b[0;34m:\u001b[0m\u001b[0;34m\u001b[0m\u001b[0m\n\u001b[0;32m-> 1389\u001b[0;31m             \u001b[0mevent_list\u001b[0m \u001b[0;34m=\u001b[0m \u001b[0mself\u001b[0m\u001b[0;34m.\u001b[0m\u001b[0m_selector\u001b[0m\u001b[0;34m.\u001b[0m\u001b[0mselect\u001b[0m\u001b[0;34m(\u001b[0m\u001b[0mtimeout\u001b[0m\u001b[0;34m)\u001b[0m\u001b[0;34m\u001b[0m\u001b[0m\n\u001b[0m\u001b[1;32m   1390\u001b[0m         \u001b[0mself\u001b[0m\u001b[0;34m.\u001b[0m\u001b[0m_process_events\u001b[0m\u001b[0;34m(\u001b[0m\u001b[0mevent_list\u001b[0m\u001b[0;34m)\u001b[0m\u001b[0;34m\u001b[0m\u001b[0m\n\u001b[1;32m   1391\u001b[0m \u001b[0;34m\u001b[0m\u001b[0m\n",
      "\u001b[0;32m/opt/python3.6/lib/python3.6/selectors.py\u001b[0m in \u001b[0;36mselect\u001b[0;34m(self, timeout)\u001b[0m\n\u001b[1;32m    443\u001b[0m             \u001b[0mready\u001b[0m \u001b[0;34m=\u001b[0m \u001b[0;34m[\u001b[0m\u001b[0;34m]\u001b[0m\u001b[0;34m\u001b[0m\u001b[0m\n\u001b[1;32m    444\u001b[0m             \u001b[0;32mtry\u001b[0m\u001b[0;34m:\u001b[0m\u001b[0;34m\u001b[0m\u001b[0m\n\u001b[0;32m--> 445\u001b[0;31m                 \u001b[0mfd_event_list\u001b[0m \u001b[0;34m=\u001b[0m \u001b[0mself\u001b[0m\u001b[0;34m.\u001b[0m\u001b[0m_epoll\u001b[0m\u001b[0;34m.\u001b[0m\u001b[0mpoll\u001b[0m\u001b[0;34m(\u001b[0m\u001b[0mtimeout\u001b[0m\u001b[0;34m,\u001b[0m \u001b[0mmax_ev\u001b[0m\u001b[0;34m)\u001b[0m\u001b[0;34m\u001b[0m\u001b[0m\n\u001b[0m\u001b[1;32m    446\u001b[0m             \u001b[0;32mexcept\u001b[0m \u001b[0mInterruptedError\u001b[0m\u001b[0;34m:\u001b[0m\u001b[0;34m\u001b[0m\u001b[0m\n\u001b[1;32m    447\u001b[0m                 \u001b[0;32mreturn\u001b[0m \u001b[0mready\u001b[0m\u001b[0;34m\u001b[0m\u001b[0m\n",
      "\u001b[0;31mKeyboardInterrupt\u001b[0m: "
     ]
    }
   ],
   "source": [
    "if base.switches[0].read():\n",
    "    print(\"Please set switch 0 low before running\")\n",
    "else:\n",
    "#     spot.loop()\n",
    "    base.switches[0].wait_for_value(1)"
   ]
  },
  {
   "cell_type": "code",
   "execution_count": null,
   "metadata": {},
   "outputs": [],
   "source": [
    "[t.cancel() for t in tasks]"
   ]
  },
  {
   "cell_type": "code",
   "execution_count": null,
   "metadata": {},
   "outputs": [],
   "source": []
  },
  {
   "cell_type": "code",
   "execution_count": null,
   "metadata": {},
   "outputs": [],
   "source": []
  }
 ],
 "metadata": {
  "kernelspec": {
   "display_name": "Python 3",
   "language": "python",
   "name": "python3"
  },
  "language_info": {
   "codemirror_mode": {
    "name": "ipython",
    "version": 3
   },
   "file_extension": ".py",
   "mimetype": "text/x-python",
   "name": "python",
   "nbconvert_exporter": "python",
   "pygments_lexer": "ipython3",
   "version": "3.6.0"
  }
 },
 "nbformat": 4,
 "nbformat_minor": 2
}

{
 "cells": [
  {
   "cell_type": "code",
   "execution_count": 1,
   "metadata": {},
   "outputs": [
    {
     "data": {
      "application/javascript": [
       "\n",
       "require(['notebook/js/codecell'], function(codecell) {\n",
       "  codecell.CodeCell.options_default.highlight_modes[\n",
       "      'magic_text/x-csrc'] = {'reg':[/^%%microblaze/]};\n",
       "  Jupyter.notebook.events.one('kernel_ready.Kernel', function(){\n",
       "      Jupyter.notebook.get_cells().map(function(cell){\n",
       "          if (cell.cell_type == 'code'){ cell.auto_highlight(); } }) ;\n",
       "  });\n",
       "});\n"
      ]
     },
     "metadata": {},
     "output_type": "display_data"
    },
    {
     "data": {
      "text/plain": [
       "3"
      ]
     },
     "execution_count": 1,
     "metadata": {},
     "output_type": "execute_result"
    }
   ],
   "source": [
    "from pynq.overlays.base import BaseOverlay\n",
    "base = BaseOverlay(\"base.bit\")\n",
    "\n",
    "from pynq.lib.arduino import Arduino_Displaycam\n",
    "test = Arduino_Displaycam(base.ARDUINO)\n",
    "\n",
    "test.init()\n",
    "test.display()\n",
    "test.gpio()\n",
    "test.pwm()"
   ]
  },
  {
   "cell_type": "code",
   "execution_count": 2,
   "metadata": {},
   "outputs": [],
   "source": [
    "#commands\n",
    "INIT = 0x1\n",
    "DRAW = 0x2\n",
    "DISPLAY = 0x3\n",
    "GPIO = 0x4\n",
    "PWM = 0x5\n",
    "FILL = 0x6\n",
    "SLOW_FILL = 0x7\n",
    "DRAW_IMAGE = 0x8\n",
    "FILL_COLOR = 0x9\n",
    "UNDEFINED = 0xa\n",
    "EIGHT = 0xb\n",
    "RECTANGLE = 0xc\n",
    "CIRCLE = 0xd\n",
    "TRIANGLE = 0xe\n",
    "ELLIPSE = 0xf\n",
    "CURVE = 0x10\n",
    "DRAWLINE = 0x11\n",
    "FONT = 0x12\n",
    "TEXTMODE = 0x13\n",
    "GRAPHICSMODE = 0x14\n",
    "LAYER = 0x15\n",
    "LAYERTRANS = 0x16\n",
    "CAMERA1 = 0x17\n",
    "CAMERA2 = 0x18"
   ]
  },
  {
   "cell_type": "code",
   "execution_count": 3,
   "metadata": {},
   "outputs": [
    {
     "name": "stdout",
     "output_type": "stream",
     "text": [
      "230400\n",
      "230400\n"
     ]
    }
   ],
   "source": [
    "#testing image capture + drawing it\n",
    "# stream_size = 230400\n",
    "stream_size = 153600\n",
    "\n",
    "buf0 = test.buf_manager.cma_alloc(stream_size, data_type=\"uint8_t\")\n",
    "buf1 = test.buf_manager.cma_get_buffer(buf0, stream_size)\n",
    "phy_addr = test.buf_manager.cma_get_phy_addr(buf0)\n",
    "\n",
    "test.microblaze.write_mailbox(0, phy_addr)\n",
    "test.microblaze.write_blocking_command(CAMERA1)\n",
    "print(test.microblaze.read_mailbox(0))\n",
    "\n",
    "test.microblaze.write_mailbox(0, 0)\n",
    "test.microblaze.write_mailbox(4, 0)\n",
    "test.microblaze.write_mailbox(8, phy_addr)\n",
    "test.microblaze.write_blocking_command(CAMERA2)\n",
    "print(test.microblaze.read_mailbox(0))\n"
   ]
  },
  {
   "cell_type": "code",
   "execution_count": 3,
   "metadata": {
    "scrolled": false
   },
   "outputs": [
    {
     "name": "stdout",
     "output_type": "stream",
     "text": [
      "Color: black\n",
      "Decimal = 0\n",
      "Hex = 0x0\n",
      "Bin = 0b0\n",
      " \n",
      "Color: blue\n",
      "Decimal = 31\n",
      "Hex = 0x1f\n",
      "Bin = 0b11111\n",
      " \n",
      "Color: red\n",
      "Decimal = 63488\n",
      "Hex = 0xf800\n",
      "Bin = 0b1111100000000000\n",
      " \n",
      "Color: green\n",
      "Decimal = 2016\n",
      "Hex = 0x7e0\n",
      "Bin = 0b11111100000\n",
      " \n",
      "Color: cyan\n",
      "Decimal = 2047\n",
      "Hex = 0x7ff\n",
      "Bin = 0b11111111111\n",
      " \n",
      "Color: magenta\n",
      "Decimal = 63519\n",
      "Hex = 0xf81f\n",
      "Bin = 0b1111100000011111\n",
      " \n",
      "Color: yellow\n",
      "Decimal = 65504\n",
      "Hex = 0xffe0\n",
      "Bin = 0b1111111111100000\n",
      " \n",
      "Color: white\n",
      "Decimal = 65535\n",
      "Hex = 0xffff\n",
      "Bin = 0b1111111111111111\n",
      " \n"
     ]
    }
   ],
   "source": [
    "#testing basic fill color\n",
    "import time\n",
    "\n",
    "color_table = [0x0000, 0x001F, 0xF800, 0x07E0, 0x07FF, 0xF81F, 0xFFE0, 0xFFFF]\n",
    "color_index = ['black', 'blue', 'red', 'green', 'cyan', 'magenta', 'yellow', 'white']\n",
    "for index, color in enumerate(color_table):    \n",
    "    return_val = test.fill_color(color)\n",
    "    print('Color: '+ color_index[index])\n",
    "    print('Decimal = ' + str(return_val))\n",
    "    print('Hex = ' + hex(return_val))\n",
    "    print('Bin = ' + bin(return_val))\n",
    "    print(' ')\n",
    "    time.sleep(3)"
   ]
  },
  {
   "cell_type": "code",
   "execution_count": 5,
   "metadata": {},
   "outputs": [],
   "source": [
    "#clear screen with BLACK\n",
    "test.microblaze.write_mailbox(0, 0x0000)\n",
    "test.microblaze.write_blocking_command(FILL_COLOR)"
   ]
  },
  {
   "cell_type": "code",
   "execution_count": 15,
   "metadata": {},
   "outputs": [],
   "source": [
    "#sample UI \n",
    "import time\n",
    "\n",
    "delay = 0.05\n",
    "longer = 0.1\n",
    "\n",
    "test.microblaze.write_mailbox(0, 266)\n",
    "test.microblaze.write_mailbox(4, 240)\n",
    "test.microblaze.write_mailbox(8, 10)\n",
    "test.microblaze.write_mailbox(12, 0x01c0)\n",
    "test.microblaze.write_mailbox(16, 1) #filled\n",
    "test.microblaze.write_blocking_command(CIRCLE)\n",
    "\n",
    "time.sleep(delay)\n",
    "\n",
    "test.microblaze.write_mailbox(0, 266)\n",
    "test.microblaze.write_mailbox(4, 240)\n",
    "test.microblaze.write_mailbox(8, 70)\n",
    "test.microblaze.write_mailbox(12, 0x01c0)\n",
    "test.microblaze.write_mailbox(16, 0) #unfilled\n",
    "test.microblaze.write_blocking_command(CIRCLE)\n",
    "\n",
    "time.sleep(delay)\n",
    "\n",
    "test.microblaze.write_mailbox(0, 266)\n",
    "test.microblaze.write_mailbox(4, 240)\n",
    "test.microblaze.write_mailbox(8, 140)\n",
    "test.microblaze.write_mailbox(12, 0x01c0)\n",
    "test.microblaze.write_mailbox(16, 0) #unfilled\n",
    "test.microblaze.write_blocking_command(CIRCLE)\n",
    "\n",
    "time.sleep(longer)\n",
    "\n",
    "test.microblaze.write_mailbox(0, 266)\n",
    "test.microblaze.write_mailbox(4, 240)\n",
    "test.microblaze.write_mailbox(8, 210)\n",
    "test.microblaze.write_mailbox(12, 0x01c0)\n",
    "test.microblaze.write_mailbox(16, 0) #unfilled\n",
    "test.microblaze.write_blocking_command(CIRCLE)\n",
    "\n",
    "time.sleep(longer+delay)\n",
    "\n",
    "test.microblaze.write_mailbox(0, 600)\n",
    "test.microblaze.write_mailbox(4, 50)\n",
    "test.microblaze.write_mailbox(8, 150)\n",
    "test.microblaze.write_mailbox(12, 100)\n",
    "test.microblaze.write_mailbox(16, 0x001f)\n",
    "test.microblaze.write_mailbox(20, 0) #unfilled\n",
    "test.microblaze.write_blocking_command(RECTANGLE)\n",
    "\n",
    "time.sleep(delay)\n",
    "\n",
    "test.microblaze.write_mailbox(0, 750)\n",
    "test.microblaze.write_mailbox(4, 50)\n",
    "test.microblaze.write_mailbox(8, 750)\n",
    "test.microblaze.write_mailbox(12, 150)\n",
    "test.microblaze.write_mailbox(16, 800)\n",
    "test.microblaze.write_mailbox(20, 100)\n",
    "test.microblaze.write_mailbox(24, 0x001f)\n",
    "test.microblaze.write_mailbox(28, 0) #unfilled\n",
    "test.microblaze.write_blocking_command(TRIANGLE)\n",
    "\n",
    "time.sleep(delay)\n",
    "\n",
    "test.microblaze.write_mailbox(0, 750)\n",
    "test.microblaze.write_mailbox(4, 51)\n",
    "test.microblaze.write_mailbox(8, 750)\n",
    "test.microblaze.write_mailbox(12, 149) \n",
    "test.microblaze.write_mailbox(16, 0x0000)\n",
    "test.microblaze.write_blocking_command(DRAWLINE)\n",
    "\n",
    "time.sleep(delay)\n",
    "\n",
    "test.microblaze.write_mailbox(0, 600)\n",
    "test.microblaze.write_mailbox(4, 330)\n",
    "test.microblaze.write_mailbox(8, 150)\n",
    "test.microblaze.write_mailbox(12, 100)\n",
    "test.microblaze.write_mailbox(16, 0x001f)\n",
    "test.microblaze.write_mailbox(20, 0) #unfilled\n",
    "test.microblaze.write_blocking_command(RECTANGLE)\n",
    "\n",
    "time.sleep(delay)\n",
    "\n",
    "test.microblaze.write_mailbox(0, 750)\n",
    "test.microblaze.write_mailbox(4, 330)\n",
    "test.microblaze.write_mailbox(8, 750)\n",
    "test.microblaze.write_mailbox(12, 430)\n",
    "test.microblaze.write_mailbox(16, 800)\n",
    "test.microblaze.write_mailbox(20, 380)\n",
    "test.microblaze.write_mailbox(24, 0x001f)\n",
    "test.microblaze.write_mailbox(28, 0) #unfilled\n",
    "test.microblaze.write_blocking_command(TRIANGLE)\n",
    "\n",
    "time.sleep(delay)\n",
    "\n",
    "test.microblaze.write_mailbox(0, 750)\n",
    "test.microblaze.write_mailbox(4, 331)\n",
    "test.microblaze.write_mailbox(8, 750)\n",
    "test.microblaze.write_mailbox(12, 429) \n",
    "test.microblaze.write_mailbox(16, 0x0000)\n",
    "test.microblaze.write_blocking_command(DRAWLINE)\n"
   ]
  },
  {
   "cell_type": "code",
   "execution_count": null,
   "metadata": {},
   "outputs": [],
   "source": []
  }
 ],
 "metadata": {
  "kernelspec": {
   "display_name": "Python 3",
   "language": "python",
   "name": "python3"
  },
  "language_info": {
   "codemirror_mode": {
    "name": "ipython",
    "version": 3
   },
   "file_extension": ".py",
   "mimetype": "text/x-python",
   "name": "python",
   "nbconvert_exporter": "python",
   "pygments_lexer": "ipython3",
   "version": "3.6.0"
  }
 },
 "nbformat": 4,
 "nbformat_minor": 2
}

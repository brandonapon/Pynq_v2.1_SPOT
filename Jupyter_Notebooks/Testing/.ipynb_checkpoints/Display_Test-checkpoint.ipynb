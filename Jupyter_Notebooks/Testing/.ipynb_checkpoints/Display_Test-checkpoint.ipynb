{
 "cells": [
  {
   "cell_type": "code",
   "execution_count": 7,
   "metadata": {
    "scrolled": false
   },
   "outputs": [
    {
     "data": {
      "text/plain": [
       "3"
      ]
     },
     "execution_count": 7,
     "metadata": {},
     "output_type": "execute_result"
    }
   ],
   "source": [
    "from pynq.overlays.base import BaseOverlay\n",
    "base = BaseOverlay(\"base.bit\")\n",
    "\n",
    "from pynq.lib.arduino import Arduino_RA8875\n",
    "test = Arduino_RA8875(base.ARDUINO)\n",
    "\n",
    "test.init()\n",
    "test.display()\n",
    "test.gpio()\n",
    "test.pwm()\n"
   ]
  },
  {
   "cell_type": "code",
   "execution_count": 9,
   "metadata": {},
   "outputs": [],
   "source": [
    "def _convert_color(color):\n",
    "    \"\"\"Convert a 24-bit color to 16-bit.\n",
    "\n",
    "    The input `color` is assumed to be a 3-component list [R,G,B], each with\n",
    "    8 bits for color level.\n",
    "\n",
    "    This method will translate that list of colors into a 16-bit number,\n",
    "    with first 5 bits indicating R component,\n",
    "    last 5 bits indicating B component, and remaining\n",
    "    6 bits in the middle indicating G component.\n",
    "    i.e., 16-bit color -> (5 bits, 6 bits, 5 bits) -> (R,G,B).\n",
    "\n",
    "    \"\"\"\n",
    "    for i in color:\n",
    "        if i not in range(256):\n",
    "            raise ValueError(\"Valid color value for R, G, B is 0 - 255.\")\n",
    "    red, green, blue = color\n",
    "    return ((blue & 0xF8) << 8) | ((green & 0xFC) << 3) | ((red & 0xF8) >> 3)"
   ]
  },
  {
   "cell_type": "code",
   "execution_count": 10,
   "metadata": {},
   "outputs": [
    {
     "ename": "FileNotFoundError",
     "evalue": "[Errno 2] No such file or directory: 'data/Yogananda.jpg'",
     "output_type": "error",
     "traceback": [
      "\u001b[0;31m---------------------------------------------------------------------------\u001b[0m",
      "\u001b[0;31mFileNotFoundError\u001b[0m                         Traceback (most recent call last)",
      "\u001b[0;32m<ipython-input-10-cc7be2ea50ed>\u001b[0m in \u001b[0;36m<module>\u001b[0;34m()\u001b[0m\n\u001b[1;32m      1\u001b[0m \u001b[0;32mfrom\u001b[0m \u001b[0mPIL\u001b[0m \u001b[0;32mimport\u001b[0m \u001b[0mImage\u001b[0m\u001b[0;34m\u001b[0m\u001b[0m\n\u001b[0;32m----> 2\u001b[0;31m \u001b[0mimg\u001b[0m \u001b[0;34m=\u001b[0m \u001b[0mImage\u001b[0m\u001b[0;34m.\u001b[0m\u001b[0mopen\u001b[0m\u001b[0;34m(\u001b[0m\u001b[0;34m'data/Yogananda.jpg'\u001b[0m\u001b[0;34m)\u001b[0m\u001b[0;34m\u001b[0m\u001b[0m\n\u001b[0m\u001b[1;32m      3\u001b[0m \u001b[0mimg_array\u001b[0m \u001b[0;34m=\u001b[0m \u001b[0marray\u001b[0m\u001b[0;34m(\u001b[0m\u001b[0mimage_file\u001b[0m\u001b[0;34m)\u001b[0m\u001b[0;34m\u001b[0m\u001b[0m\n\u001b[1;32m      4\u001b[0m \u001b[0mimg\u001b[0m\u001b[0;34m.\u001b[0m\u001b[0mclose\u001b[0m\u001b[0;34m(\u001b[0m\u001b[0;34m)\u001b[0m\u001b[0;34m\u001b[0m\u001b[0m\n\u001b[1;32m      5\u001b[0m \u001b[0;34m\u001b[0m\u001b[0m\n",
      "\u001b[0;32m/opt/python3.6/lib/python3.6/site-packages/PIL/Image.py\u001b[0m in \u001b[0;36mopen\u001b[0;34m(fp, mode)\u001b[0m\n\u001b[1;32m   2475\u001b[0m \u001b[0;34m\u001b[0m\u001b[0m\n\u001b[1;32m   2476\u001b[0m     \u001b[0;32mif\u001b[0m \u001b[0mfilename\u001b[0m\u001b[0;34m:\u001b[0m\u001b[0;34m\u001b[0m\u001b[0m\n\u001b[0;32m-> 2477\u001b[0;31m         \u001b[0mfp\u001b[0m \u001b[0;34m=\u001b[0m \u001b[0mbuiltins\u001b[0m\u001b[0;34m.\u001b[0m\u001b[0mopen\u001b[0m\u001b[0;34m(\u001b[0m\u001b[0mfilename\u001b[0m\u001b[0;34m,\u001b[0m \u001b[0;34m\"rb\"\u001b[0m\u001b[0;34m)\u001b[0m\u001b[0;34m\u001b[0m\u001b[0m\n\u001b[0m\u001b[1;32m   2478\u001b[0m         \u001b[0mexclusive_fp\u001b[0m \u001b[0;34m=\u001b[0m \u001b[0;32mTrue\u001b[0m\u001b[0;34m\u001b[0m\u001b[0m\n\u001b[1;32m   2479\u001b[0m \u001b[0;34m\u001b[0m\u001b[0m\n",
      "\u001b[0;31mFileNotFoundError\u001b[0m: [Errno 2] No such file or directory: 'data/Yogananda.jpg'"
     ]
    }
   ],
   "source": [
    "from PIL import Image\n",
    "img = Image.open('data/Yogananda.jpg')\n",
    "img_array = array(image_file)\n",
    "img.close()\n",
    "\n",
    "file_size = 240*240*2\n",
    "buf0 = test.buf_manager.cma_alloc(file_size, data_type=\"uint8_t\")\n",
    "buf1 = test.buf_manager.cma_get_buffer(buf0, file_size)\n",
    "phy_addr = test.buf_manager.cma_get_phy_addr(buf0)\n",
    "index = 0\n",
    "for j in range(240):\n",
    "    for i in range(240):\n",
    "        red, green, blue = image_array[i][j]\n",
    "        pixel = ((blue & 0xF8) << 8) | ((green & 0xFC) << 3) | ((red & 0xF8) >> 3)\n",
    "        index = 2 * ((height - i - 1) * width + j)\n",
    "        buf1[index] = bytes([(pixel&0xFF00)>>8])\n",
    "        buf1[index+1] = bytes([pixel&0x00FF])\n",
    "test.microblaze.write_mailbox(0, x_start)\n",
    "test.microblaze.write_mailbox(4, y_start)\n",
    "test.microblaze.write_mailbox(8, phy_addr)\n",
    "test.microblaze.write_mailbox(12, 240)\n",
    "test.microblaze.write_mailbox(16, 240)\n",
    "test.microblaze.write_blocking_command(0x8)"
   ]
  },
  {
   "cell_type": "code",
   "execution_count": 6,
   "metadata": {
    "scrolled": false
   },
   "outputs": [
    {
     "name": "stdout",
     "output_type": "stream",
     "text": [
      "0x0\n",
      "0x0\n",
      "0x168a0000\n",
      "0xf0\n",
      "0xf0\n"
     ]
    }
   ],
   "source": [
    "output_list = test.draw_yoga(0,0)\n",
    "for vals in output_list:\n",
    "    print(hex(vals))"
   ]
  },
  {
   "cell_type": "code",
   "execution_count": 1,
   "metadata": {},
   "outputs": [
    {
     "ename": "NameError",
     "evalue": "name 'test' is not defined",
     "output_type": "error",
     "traceback": [
      "\u001b[0;31m---------------------------------------------------------------------------\u001b[0m",
      "\u001b[0;31mNameError\u001b[0m                                 Traceback (most recent call last)",
      "\u001b[0;32m<ipython-input-1-ee5714d89ff7>\u001b[0m in \u001b[0;36m<module>\u001b[0;34m()\u001b[0m\n\u001b[1;32m      2\u001b[0m \u001b[0mx_start\u001b[0m \u001b[0;34m=\u001b[0m \u001b[0;36m0\u001b[0m\u001b[0;34m\u001b[0m\u001b[0m\n\u001b[1;32m      3\u001b[0m \u001b[0my_start\u001b[0m \u001b[0;34m=\u001b[0m \u001b[0;36m0\u001b[0m\u001b[0;34m\u001b[0m\u001b[0m\n\u001b[0;32m----> 4\u001b[0;31m \u001b[0mfile_size\u001b[0m \u001b[0;34m=\u001b[0m \u001b[0mlen\u001b[0m\u001b[0;34m(\u001b[0m\u001b[0mtest\u001b[0m\u001b[0;34m.\u001b[0m\u001b[0myoga\u001b[0m\u001b[0;34m)\u001b[0m\u001b[0;34m*\u001b[0m\u001b[0;36m2\u001b[0m\u001b[0;34m\u001b[0m\u001b[0m\n\u001b[0m\u001b[1;32m      5\u001b[0m \u001b[0mbuf0\u001b[0m \u001b[0;34m=\u001b[0m \u001b[0mtest\u001b[0m\u001b[0;34m.\u001b[0m\u001b[0mbuf_manager\u001b[0m\u001b[0;34m.\u001b[0m\u001b[0mcma_alloc\u001b[0m\u001b[0;34m(\u001b[0m\u001b[0mfile_size\u001b[0m\u001b[0;34m,\u001b[0m \u001b[0mdata_type\u001b[0m\u001b[0;34m=\u001b[0m\u001b[0;34m\"uint8_t\"\u001b[0m\u001b[0;34m)\u001b[0m\u001b[0;34m\u001b[0m\u001b[0m\n\u001b[1;32m      6\u001b[0m \u001b[0mbuf1\u001b[0m \u001b[0;34m=\u001b[0m \u001b[0mtest\u001b[0m\u001b[0;34m.\u001b[0m\u001b[0mbuf_manager\u001b[0m\u001b[0;34m.\u001b[0m\u001b[0mcma_get_buffer\u001b[0m\u001b[0;34m(\u001b[0m\u001b[0mbuf0\u001b[0m\u001b[0;34m,\u001b[0m \u001b[0mfile_size\u001b[0m\u001b[0;34m)\u001b[0m\u001b[0;34m\u001b[0m\u001b[0m\n",
      "\u001b[0;31mNameError\u001b[0m: name 'test' is not defined"
     ]
    }
   ],
   "source": [
    "#checking values stored in DDR v1\n",
    "x_start = 0\n",
    "y_start = 0\n",
    "file_size = len(test.yoga)*2\n",
    "buf0 = test.buf_manager.cma_alloc(file_size, data_type=\"uint8_t\")\n",
    "buf1 = test.buf_manager.cma_get_buffer(buf0, file_size)\n",
    "phy_addr = test.buf_manager.cma_get_phy_addr(buf0)\n",
    "index = 0\n",
    "for i in range(0, 5):\n",
    "    pixel = test.yoga[i]\n",
    "    bin_val = \"{0:b}\".format(pixel)\n",
    "    hex_val = '{:x}'.format(pixel)\n",
    "#     print (bin_val)\n",
    "    bv_1 = bin_val[:8]\n",
    "    bv_2 = bin_val[8:]\n",
    "#     print (bv_1)\n",
    "#     print (bv_2)\n",
    "    buf1[index] = bytes([int(bv_1, 2)])\n",
    "    buf1[index+1]= bytes([int(bv_2, 2)])\n",
    "    print(hex_val)\n",
    "    print(bin_val)\n",
    "    print('bv_1 = ' + bv_1)\n",
    "    print('bv_2 = ' + bv_2)\n",
    "    print(buf1[index])\n",
    "    print(buf1[index+1])\n",
    "    index += 2\n",
    "test.microblaze.write_mailbox(0, x_start)\n",
    "test.microblaze.write_mailbox(4, y_start)\n",
    "test.microblaze.write_mailbox(8, phy_addr)\n",
    "test.microblaze.write_mailbox(12, 240)\n",
    "test.microblaze.write_mailbox(16, 240)\n",
    "test.microblaze.write_blocking_command(0x8)"
   ]
  },
  {
   "cell_type": "code",
   "execution_count": 4,
   "metadata": {},
   "outputs": [
    {
     "name": "stdout",
     "output_type": "stream",
     "text": [
      "pixel = 0xf363, 62307\n",
      "b'\\xf3'\n",
      "b'c'\n",
      "pixel = 0xb25b, 45659\n",
      "b'\\xb2'\n",
      "b'['\n",
      "pixel = 0xb35b, 45915\n",
      "b'\\xb3'\n",
      "b'['\n",
      "pixel = 0xf45b, 62555\n",
      "b'\\xf4'\n",
      "b'['\n",
      "pixel = 0xd35b, 54107\n",
      "b'\\xd3'\n",
      "b'['\n",
      "0xf363, 62307, 0b1111001101100011\n",
      "0xb25b, 45659, 0b1011001001011011\n",
      "0xb35b, 45915, 0b1011001101011011\n",
      "0xf45b, 62555, 0b1111010001011011\n",
      "0xd35b, 54107, 0b1101001101011011\n"
     ]
    }
   ],
   "source": [
    "#checking values stored in DDR v2\n",
    "x_start = 0\n",
    "y_start = 0\n",
    "file_size = len(test.yoga)*2\n",
    "buf0 = test.buf_manager.cma_alloc(file_size, data_type=\"uint8_t\")\n",
    "buf1 = test.buf_manager.cma_get_buffer(buf0, file_size)\n",
    "phy_addr = test.buf_manager.cma_get_phy_addr(buf0)\n",
    "index = 0\n",
    "for i in range(0, 5):\n",
    "    pixel = test.yoga[i]\n",
    "    buf1[index] = bytes([(pixel&0xFF00)>>8])\n",
    "    buf1[index+1] = bytes([pixel&0x00FF])\n",
    "    \n",
    "    print('pixel = ' + str(hex(pixel)) + ', ' + str(pixel))\n",
    "    print(buf1[index])\n",
    "    print(buf1[index+1])\n",
    "    index += 2\n",
    "test.microblaze.write_mailbox(0, x_start)\n",
    "test.microblaze.write_mailbox(4, y_start)\n",
    "test.microblaze.write_mailbox(8, phy_addr)\n",
    "test.microblaze.write_mailbox(12, 240)\n",
    "test.microblaze.write_mailbox(16, 240)\n",
    "test.microblaze.write_blocking_command(0x8)\n",
    "output_list = test.microblaze.read_mailbox(0,5)\n",
    "for vals in output_list:\n",
    "    print(hex(vals) + ', ' + str(vals) + ', ' + bin(vals))"
   ]
  },
  {
   "cell_type": "code",
   "execution_count": 8,
   "metadata": {},
   "outputs": [
    {
     "name": "stdout",
     "output_type": "stream",
     "text": [
      "Color: black\n",
      "Decimal = 0\n",
      "Hex = 0x0\n",
      "Bin = 0b0\n",
      " \n",
      "Color: blue\n",
      "Decimal = 31\n",
      "Hex = 0x1f\n",
      "Bin = 0b11111\n",
      " \n",
      "Color: red\n",
      "Decimal = 63488\n",
      "Hex = 0xf800\n",
      "Bin = 0b1111100000000000\n",
      " \n",
      "Color: green\n",
      "Decimal = 2016\n",
      "Hex = 0x7e0\n",
      "Bin = 0b11111100000\n",
      " \n",
      "Color: cyan\n",
      "Decimal = 2047\n",
      "Hex = 0x7ff\n",
      "Bin = 0b11111111111\n",
      " \n",
      "Color: magenta\n",
      "Decimal = 63519\n",
      "Hex = 0xf81f\n",
      "Bin = 0b1111100000011111\n",
      " \n",
      "Color: yellow\n",
      "Decimal = 65504\n",
      "Hex = 0xffe0\n",
      "Bin = 0b1111111111100000\n",
      " \n",
      "Color: white\n",
      "Decimal = 65535\n",
      "Hex = 0xffff\n",
      "Bin = 0b1111111111111111\n",
      " \n"
     ]
    }
   ],
   "source": [
    "#testing fill color\n",
    "import time\n",
    "\n",
    "color_table = [0x0000, 0x001F, 0xF800, 0x07E0, 0x07FF, 0xF81F, 0xFFE0, 0xFFFF]\n",
    "color_index = ['black', 'blue', 'red', 'green', 'cyan', 'magenta', 'yellow', 'white']\n",
    "for index, color in enumerate(color_table):    \n",
    "    return_val = test.fill_color(color)\n",
    "    print('Color: '+ color_index[index])\n",
    "    print('Decimal = ' + str(return_val))\n",
    "    print('Hex = ' + hex(return_val))\n",
    "    print('Bin = ' + bin(return_val))\n",
    "    print(' ')\n",
    "    time.sleep(3)"
   ]
  },
  {
   "cell_type": "code",
   "execution_count": 4,
   "metadata": {},
   "outputs": [
    {
     "name": "stdout",
     "output_type": "stream",
     "text": [
      "Decimal = 62307\n",
      "Hex = 0xf363\n",
      "Bin = 0b1111001101100011\n"
     ]
    }
   ],
   "source": [
    "return_val = test.fill_color(0xf363)\n",
    "print('Decimal = ' + str(return_val))\n",
    "print('Hex = ' + hex(return_val))\n",
    "print('Bin = ' + bin(return_val))"
   ]
  },
  {
   "cell_type": "code",
   "execution_count": 10,
   "metadata": {},
   "outputs": [
    {
     "data": {
      "text/plain": [
       "1337"
      ]
     },
     "execution_count": 10,
     "metadata": {},
     "output_type": "execute_result"
    }
   ],
   "source": [
    "#testing fill\n",
    "test.fill()"
   ]
  },
  {
   "cell_type": "code",
   "execution_count": 7,
   "metadata": {
    "scrolled": true
   },
   "outputs": [
    {
     "name": "stdout",
     "output_type": "stream",
     "text": [
      "0xf800\n"
     ]
    }
   ],
   "source": [
    "value = test.drawPixel(40,40, 0xF800)\n",
    "print(hex(value))"
   ]
  },
  {
   "cell_type": "code",
   "execution_count": 7,
   "metadata": {
    "scrolled": true
   },
   "outputs": [
    {
     "ename": "KeyboardInterrupt",
     "evalue": "",
     "output_type": "error",
     "traceback": [
      "\u001b[0;31m---------------------------------------------------------------------------\u001b[0m",
      "\u001b[0;31mKeyboardInterrupt\u001b[0m                         Traceback (most recent call last)",
      "\u001b[0;32m<ipython-input-7-48a500a7295b>\u001b[0m in \u001b[0;36m<module>\u001b[0;34m()\u001b[0m\n\u001b[1;32m      2\u001b[0m \u001b[0;32mfor\u001b[0m \u001b[0mx\u001b[0m \u001b[0;32min\u001b[0m \u001b[0mrange\u001b[0m\u001b[0;34m(\u001b[0m\u001b[0;36m0\u001b[0m\u001b[0;34m,\u001b[0m \u001b[0;36m640\u001b[0m\u001b[0;34m)\u001b[0m\u001b[0;34m:\u001b[0m\u001b[0;34m\u001b[0m\u001b[0m\n\u001b[1;32m      3\u001b[0m     \u001b[0;32mfor\u001b[0m \u001b[0my\u001b[0m \u001b[0;32min\u001b[0m \u001b[0mrange\u001b[0m\u001b[0;34m(\u001b[0m\u001b[0;36m0\u001b[0m\u001b[0;34m,\u001b[0m\u001b[0;36m480\u001b[0m\u001b[0;34m)\u001b[0m\u001b[0;34m:\u001b[0m\u001b[0;34m\u001b[0m\u001b[0m\n\u001b[0;32m----> 4\u001b[0;31m         \u001b[0mtest\u001b[0m\u001b[0;34m.\u001b[0m\u001b[0mdrawPixel\u001b[0m\u001b[0;34m(\u001b[0m\u001b[0mx\u001b[0m\u001b[0;34m,\u001b[0m \u001b[0my\u001b[0m\u001b[0;34m,\u001b[0m \u001b[0;36m0xF81F\u001b[0m\u001b[0;34m)\u001b[0m\u001b[0;34m\u001b[0m\u001b[0m\n\u001b[0m",
      "\u001b[0;32m/opt/python3.6/lib/python3.6/site-packages/pynq/lib/arduino/arduino_RA8875.py\u001b[0m in \u001b[0;36mdrawPixel\u001b[0;34m(self, x, y, color)\u001b[0m\n\u001b[1;32m  24294\u001b[0m         \u001b[0mself\u001b[0m\u001b[0;34m.\u001b[0m\u001b[0mmicroblaze\u001b[0m\u001b[0;34m.\u001b[0m\u001b[0mwrite_mailbox\u001b[0m\u001b[0;34m(\u001b[0m\u001b[0;36m8\u001b[0m\u001b[0;34m,\u001b[0m \u001b[0mcolor\u001b[0m\u001b[0;34m)\u001b[0m\u001b[0;34m\u001b[0m\u001b[0m\n\u001b[1;32m  24295\u001b[0m         \u001b[0mself\u001b[0m\u001b[0;34m.\u001b[0m\u001b[0mmicroblaze\u001b[0m\u001b[0;34m.\u001b[0m\u001b[0mwrite_blocking_command\u001b[0m\u001b[0;34m(\u001b[0m\u001b[0mDRAW\u001b[0m\u001b[0;34m)\u001b[0m\u001b[0;34m\u001b[0m\u001b[0m\n\u001b[0;32m> 24296\u001b[0;31m         \u001b[0;32mreturn\u001b[0m \u001b[0mself\u001b[0m\u001b[0;34m.\u001b[0m\u001b[0mmicroblaze\u001b[0m\u001b[0;34m.\u001b[0m\u001b[0mread_mailbox\u001b[0m\u001b[0;34m(\u001b[0m\u001b[0;36m0\u001b[0m\u001b[0;34m,\u001b[0m\u001b[0;36m1\u001b[0m\u001b[0;34m)\u001b[0m\u001b[0;34m\u001b[0m\u001b[0m\n\u001b[0m\u001b[1;32m  24297\u001b[0m \u001b[0;34m\u001b[0m\u001b[0m\n\u001b[1;32m  24298\u001b[0m     \u001b[0;32mdef\u001b[0m \u001b[0mslowFill\u001b[0m\u001b[0;34m(\u001b[0m\u001b[0mself\u001b[0m\u001b[0;34m,\u001b[0m \u001b[0mcolor\u001b[0m\u001b[0;34m)\u001b[0m\u001b[0;34m:\u001b[0m\u001b[0;34m\u001b[0m\u001b[0m\n",
      "\u001b[0;32m/opt/python3.6/lib/python3.6/site-packages/pynq/lib/arduino/arduino.py\u001b[0m in \u001b[0;36mread_mailbox\u001b[0;34m(self, data_offset, num_words)\u001b[0m\n\u001b[1;32m    134\u001b[0m         \"\"\"\n\u001b[1;32m    135\u001b[0m         \u001b[0moffset\u001b[0m \u001b[0;34m=\u001b[0m \u001b[0mMAILBOX_OFFSET\u001b[0m \u001b[0;34m+\u001b[0m \u001b[0mdata_offset\u001b[0m\u001b[0;34m\u001b[0m\u001b[0m\n\u001b[0;32m--> 136\u001b[0;31m         \u001b[0;32mreturn\u001b[0m \u001b[0mself\u001b[0m\u001b[0;34m.\u001b[0m\u001b[0mread\u001b[0m\u001b[0;34m(\u001b[0m\u001b[0moffset\u001b[0m\u001b[0;34m,\u001b[0m \u001b[0mnum_words\u001b[0m\u001b[0;34m)\u001b[0m\u001b[0;34m\u001b[0m\u001b[0m\n\u001b[0m\u001b[1;32m    137\u001b[0m \u001b[0;34m\u001b[0m\u001b[0m\n\u001b[1;32m    138\u001b[0m     \u001b[0;32mdef\u001b[0m \u001b[0mwrite_blocking_command\u001b[0m\u001b[0;34m(\u001b[0m\u001b[0mself\u001b[0m\u001b[0;34m,\u001b[0m \u001b[0mcommand\u001b[0m\u001b[0;34m)\u001b[0m\u001b[0;34m:\u001b[0m\u001b[0;34m\u001b[0m\u001b[0m\n",
      "\u001b[0;32m/opt/python3.6/lib/python3.6/site-packages/pynq/lib/pynqmicroblaze/pynqmicroblaze.py\u001b[0m in \u001b[0;36mread\u001b[0;34m(self, offset, length)\u001b[0m\n\u001b[1;32m    304\u001b[0m         \"\"\"\n\u001b[1;32m    305\u001b[0m         \u001b[0;32mif\u001b[0m \u001b[0mlength\u001b[0m \u001b[0;34m==\u001b[0m \u001b[0;36m1\u001b[0m\u001b[0;34m:\u001b[0m\u001b[0;34m\u001b[0m\u001b[0m\n\u001b[0;32m--> 306\u001b[0;31m             \u001b[0;32mreturn\u001b[0m \u001b[0mself\u001b[0m\u001b[0;34m.\u001b[0m\u001b[0mmmio\u001b[0m\u001b[0;34m.\u001b[0m\u001b[0mread\u001b[0m\u001b[0;34m(\u001b[0m\u001b[0moffset\u001b[0m\u001b[0;34m)\u001b[0m\u001b[0;34m\u001b[0m\u001b[0m\n\u001b[0m\u001b[1;32m    307\u001b[0m         \u001b[0;32melif\u001b[0m \u001b[0mlength\u001b[0m \u001b[0;34m>\u001b[0m \u001b[0;36m1\u001b[0m\u001b[0;34m:\u001b[0m\u001b[0;34m\u001b[0m\u001b[0m\n\u001b[1;32m    308\u001b[0m             \u001b[0;32mreturn\u001b[0m \u001b[0;34m[\u001b[0m\u001b[0mself\u001b[0m\u001b[0;34m.\u001b[0m\u001b[0mmmio\u001b[0m\u001b[0;34m.\u001b[0m\u001b[0mread\u001b[0m\u001b[0;34m(\u001b[0m\u001b[0moffset\u001b[0m \u001b[0;34m+\u001b[0m \u001b[0;36m4\u001b[0m\u001b[0;34m*\u001b[0m\u001b[0mi\u001b[0m\u001b[0;34m)\u001b[0m \u001b[0;32mfor\u001b[0m \u001b[0mi\u001b[0m \u001b[0;32min\u001b[0m \u001b[0mrange\u001b[0m\u001b[0;34m(\u001b[0m\u001b[0mlength\u001b[0m\u001b[0;34m)\u001b[0m\u001b[0;34m]\u001b[0m\u001b[0;34m\u001b[0m\u001b[0m\n",
      "\u001b[0;32m/opt/python3.6/lib/python3.6/site-packages/pynq/mmio.py\u001b[0m in \u001b[0;36mread\u001b[0;34m(self, offset, length)\u001b[0m\n\u001b[1;32m    140\u001b[0m \u001b[0;34m\u001b[0m\u001b[0m\n\u001b[1;32m    141\u001b[0m         \u001b[0;31m# Read data out\u001b[0m\u001b[0;34m\u001b[0m\u001b[0;34m\u001b[0m\u001b[0m\n\u001b[0;32m--> 142\u001b[0;31m         \u001b[0;32mreturn\u001b[0m \u001b[0mint\u001b[0m\u001b[0;34m(\u001b[0m\u001b[0mself\u001b[0m\u001b[0;34m.\u001b[0m\u001b[0marray\u001b[0m\u001b[0;34m[\u001b[0m\u001b[0midx\u001b[0m\u001b[0;34m]\u001b[0m\u001b[0;34m)\u001b[0m\u001b[0;34m\u001b[0m\u001b[0m\n\u001b[0m\u001b[1;32m    143\u001b[0m \u001b[0;34m\u001b[0m\u001b[0m\n\u001b[1;32m    144\u001b[0m     \u001b[0;32mdef\u001b[0m \u001b[0mwrite\u001b[0m\u001b[0;34m(\u001b[0m\u001b[0mself\u001b[0m\u001b[0;34m,\u001b[0m \u001b[0moffset\u001b[0m\u001b[0;34m,\u001b[0m \u001b[0mdata\u001b[0m\u001b[0;34m)\u001b[0m\u001b[0;34m:\u001b[0m\u001b[0;34m\u001b[0m\u001b[0m\n",
      "\u001b[0;31mKeyboardInterrupt\u001b[0m: "
     ]
    }
   ],
   "source": [
    "#testing slow fill rate for a 640x480 image (python side drawPixel call)\n",
    "for x in range(0, 640):\n",
    "    for y in range(0,480):\n",
    "        test.drawPixel(x, y, 0xF81F)"
   ]
  },
  {
   "cell_type": "code",
   "execution_count": 11,
   "metadata": {
    "scrolled": true
   },
   "outputs": [],
   "source": [
    "test.slowFill(0x07E0);"
   ]
  },
  {
   "cell_type": "code",
   "execution_count": 4,
   "metadata": {
    "scrolled": true
   },
   "outputs": [
    {
     "name": "stdout",
     "output_type": "stream",
     "text": [
      "1337\n"
     ]
    }
   ],
   "source": [
    "read_in = test.fill()\n",
    "print (read_in)"
   ]
  },
  {
   "cell_type": "code",
   "execution_count": 5,
   "metadata": {},
   "outputs": [],
   "source": [
    "index = 0\n",
    "start_x = 280\n",
    "start_y = 120\n",
    "for x in range(start_x, start_x+240):\n",
    "    for y in range(start_y, start_y+240):\n",
    "        test.drawPixel(x, y, int(test.yoga[index]))\n",
    "        index += 1"
   ]
  },
  {
   "cell_type": "code",
   "execution_count": 9,
   "metadata": {},
   "outputs": [],
   "source": [
    "index = 0\n",
    "for x in range(0, 254):\n",
    "    for y in range(0, 536):\n",
    "        test.drawPixel(y, x, test.spot[index])\n",
    "        index += 1"
   ]
  },
  {
   "cell_type": "code",
   "execution_count": null,
   "metadata": {},
   "outputs": [],
   "source": []
  }
 ],
 "metadata": {
  "kernelspec": {
   "display_name": "Python 3",
   "language": "python",
   "name": "python3"
  },
  "language_info": {
   "codemirror_mode": {
    "name": "ipython",
    "version": 3
   },
   "file_extension": ".py",
   "mimetype": "text/x-python",
   "name": "python",
   "nbconvert_exporter": "python",
   "pygments_lexer": "ipython3",
   "version": "3.6.0"
  }
 },
 "nbformat": 4,
 "nbformat_minor": 2
}

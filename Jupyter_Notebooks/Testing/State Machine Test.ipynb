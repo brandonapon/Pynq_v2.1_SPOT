{
 "cells": [
  {
   "cell_type": "code",
   "execution_count": 1,
   "metadata": {},
   "outputs": [
    {
     "data": {
      "application/javascript": [
       "\n",
       "require(['notebook/js/codecell'], function(codecell) {\n",
       "  codecell.CodeCell.options_default.highlight_modes[\n",
       "      'magic_text/x-csrc'] = {'reg':[/^%%microblaze/]};\n",
       "  Jupyter.notebook.events.one('kernel_ready.Kernel', function(){\n",
       "      Jupyter.notebook.get_cells().map(function(cell){\n",
       "          if (cell.cell_type == 'code'){ cell.auto_highlight(); } }) ;\n",
       "  });\n",
       "});\n"
      ]
     },
     "metadata": {},
     "output_type": "display_data"
    },
    {
     "data": {
      "text/plain": [
       "0"
      ]
     },
     "execution_count": 1,
     "metadata": {},
     "output_type": "execute_result"
    }
   ],
   "source": [
    "from pynq.overlays.base import BaseOverlay\n",
    "base = BaseOverlay(\"base.bit\")\n",
    "\n",
    "import time\n",
    "\n",
    "#init display\n",
    "from pynq.lib.arduino import Arduino_Displaycam\n",
    "test = Arduino_Displaycam(base.ARDUINO)\n",
    "test.init()\n",
    "test.gpio()\n",
    "test.pwm() "
   ]
  },
  {
   "cell_type": "code",
   "execution_count": 2,
   "metadata": {},
   "outputs": [],
   "source": [
    "from pynq.overlays.base import BaseOverlay\n",
    "base = BaseOverlay(\"base.bit\")\n",
    "\n",
    "from pynq.lib.arduino import Arduino_SPOT\n",
    "device = Arduino_SPOT(base.ARDUINO,Arduino_SPOT)"
   ]
  },
  {
   "cell_type": "code",
   "execution_count": 3,
   "metadata": {},
   "outputs": [],
   "source": [
    "device.clearWindow(1)"
   ]
  },
  {
   "cell_type": "code",
   "execution_count": 4,
   "metadata": {},
   "outputs": [
    {
     "name": "stdout",
     "output_type": "stream",
     "text": [
      "[]\n",
      "0\n",
      "0\n",
      "2\n"
     ]
    }
   ],
   "source": [
    "from pynq.lib.arduino.spot_device import *\n",
    "import asyncio\n",
    "\n",
    "spot = SPOT(device)\n",
    "spot.start()\n",
    "\n",
    "# spot.device.setImageAddress()\n",
    "# for i in range(0,1):\n",
    "#     spot.device.snapPic(100,0)\n",
    "    \n",
    "# #pickle\n",
    "# spot.radar.savePicture(spot.device.drawAddr, \"spottyThotty\")\n",
    "# print('pickled')\n",
    "\n",
    "# #unpickle\n",
    "# spot.radar.openPicture(spot.device.drawAddr, \"spottyThotty\")\n",
    "# print('unpickled')\n",
    "\n",
    "# #clear buffer\n",
    "# for slot in spot.device.drawAddr:\n",
    "#     slot = bytes([0])\n",
    "# print('cleared buffer')\n",
    "\n",
    "# #draw\n",
    "# spot.device.drawImage(100,0)\n",
    "# print('redrawn')\n",
    "\n",
    "# while(True):\n",
    "#     print(spot.device.readFromGPS())\n",
    "#     time.sleep(1)\n",
    "\n",
    "\n",
    "#init test points to draw\n",
    "point0 = Point('Brandon')\n",
    "point0.tag = 'Hot'\n",
    "point0.createdBy = 'Beta Saurabh'\n",
    "point0.distance = 69\n",
    "point0.type = 'DANGER'\n",
    "point0.currentLocation = (20,0)\n",
    "\n",
    "point1 = Point('Saurabh')\n",
    "point1.tag = 'Weird'\n",
    "point1.createdBy = 'Alpha Brandon'\n",
    "point1.type = 'INTEREST'\n",
    "point1.distance = 420\n",
    "point1.currentLocation = (-15,15)\n",
    "\n",
    "\n",
    "print(len(spot.radar.points))\n",
    "spot.radar.addPoint(point0)\n",
    "spot.radar.addPoint(point1)\n",
    "print(len(spot.radar.points))\n",
    "\n",
    "spot.radar.userLocation = (0,0)\n",
    "\n",
    "#loop testing\n",
    "# while(True):\n",
    "#     spot.loop()\n",
    "#     time.sleep(0.5)\n",
    "\n",
    "'''\n",
    "Types of events:\n",
    "TOP\n",
    "BOT\n",
    "CW\n",
    "CCW\n",
    "ERROR\n",
    "'''\n",
    "\n",
    "@asyncio.coroutine\n",
    "def buttonPress(num):\n",
    "    event = 'ERROR'\n",
    "    while True:\n",
    "        yield from base.buttons[num].wait_for_value_async(1)\n",
    "        if(num == 1):\n",
    "            event = 'TOP'\n",
    "            while base.buttons[num].read():\n",
    "                base.leds[num].toggle()\n",
    "                yield from asyncio.sleep(0.1)\n",
    "            base.leds[num].off()\n",
    "        elif(num == 0):\n",
    "            event = 'BOTTOM'\n",
    "            while base.buttons[num].read():\n",
    "                base.leds[num].toggle()\n",
    "                yield from asyncio.sleep(0.1)\n",
    "            base.leds[num].off()\n",
    "        else:\n",
    "            event = 'ERROR'\n",
    "        spot.on_event(event)\n",
    "        \n",
    "tasks = [asyncio.ensure_future(buttonPress(i)) for i in range(4)]"
   ]
  },
  {
   "cell_type": "code",
   "execution_count": 5,
   "metadata": {},
   "outputs": [],
   "source": [
    "# '''\n",
    "# self.write_TAG(100, 310)\n",
    "# self.write_DISTANCE(100, 360)\n",
    "# self.write_CB(100, 410)\n",
    "# self.write_TYPE()\n",
    "# '''\n",
    "\n",
    "# device.clearAll()\n",
    "# time.sleep(0.05)\n",
    "# point = spot.radar.points[2]\n",
    "# device.drawInfoState()\n",
    "# if(point.type == 'DANGER'):\n",
    "#     device.write_CUSTOM(point.type, 200, 265, 0xf800) # Variable type\n",
    "# else:\n",
    "#     device.write_CUSTOM(point.type, 200, 265, 0x07e8) # Variable type\n",
    "# device.write_CUSTOM(point.tag, 190, 315, 0xffff) # Variable tag\n",
    "# device.write_CUSTOM(str(point.distance) + ' meters', 270, 365, 0xffff) # Variable distance\n",
    "# device.write_CUSTOM(point.createdBy, 300, 415, 0xffff) # Variable c/b"
   ]
  },
  {
   "cell_type": "code",
   "execution_count": 6,
   "metadata": {},
   "outputs": [],
   "source": [
    "@asyncio.coroutine\n",
    "def txRead():\n",
    "    while True:\n",
    "        yield from asyncio.sleep(0.1)\n",
    "        if(device.hasMessages()):\n",
    "            val = device.readFromTX()\n",
    "            val = [chr(x) for x in val]\n",
    "#             valList = []\n",
    "#             for x in val:\n",
    "#                 valList.append(chr(x))\n",
    "#             print(valList)\n",
    "            print(val)\n",
    "\n",
    "tasks.append(asyncio.ensure_future(txRead()))"
   ]
  },
  {
   "cell_type": "code",
   "execution_count": 7,
   "metadata": {},
   "outputs": [],
   "source": [
    "@asyncio.coroutine\n",
    "def loop():\n",
    "    while True:\n",
    "        yield from asyncio.sleep(0.3)\n",
    "        spot.loop()\n",
    "\n",
    "tasks.append(asyncio.ensure_future(loop()))"
   ]
  },
  {
   "cell_type": "code",
   "execution_count": 8,
   "metadata": {},
   "outputs": [],
   "source": [
    "# @asyncio.coroutine\n",
    "# def gpsSend():\n",
    "#     while True:\n",
    "#         yield from asyncio.sleep(3)\n",
    "#         gpsLoc = device.readFromGPS()\n",
    "#         if(gpsLoc[0] != None):\n",
    "#             gpsString = \"g,\" + str(round(gpsLoc[0], 6)) + \",\" + str(round(gpsLoc[1], 6))\n",
    "#             print(gpsString)\n",
    "#             device.writeToTX(4, gpsString)\n",
    "# tasks.append(asyncio.ensure_future(gpsSend()))"
   ]
  },
  {
   "cell_type": "code",
   "execution_count": 9,
   "metadata": {},
   "outputs": [],
   "source": [
    "import psutil\n",
    "\n",
    "@asyncio.coroutine\n",
    "def print_cpu_usage():\n",
    "    # Calculate the CPU utilisation by the amount of idle time\n",
    "    # each CPU has had in three second intervals\n",
    "    last_idle = [c.idle for c in psutil.cpu_times(percpu=True)]\n",
    "    while True:\n",
    "        yield from asyncio.sleep(3)\n",
    "        next_idle = [c.idle for c in psutil.cpu_times(percpu=True)]\n",
    "        usage = [(1-(c2-c1)/3) * 100 for c1,c2 in zip(last_idle, next_idle)]\n",
    "        print(\"CPU Usage: {0:3.2f}%, {1:3.2f}%\".format(*usage))\n",
    "        last_idle = next_idle\n",
    "\n",
    "tasks.append(asyncio.ensure_future(print_cpu_usage()))"
   ]
  },
  {
   "cell_type": "code",
   "execution_count": null,
   "metadata": {
    "scrolled": true
   },
   "outputs": [
    {
     "name": "stdout",
     "output_type": "stream",
     "text": [
      "in loop\n",
      "2\n",
      "Key: 1\n",
      "TYPE: DANGER\n",
      "in loop\n",
      "1\n",
      "Key: 2\n",
      "TYPE: INTEREST\n",
      "in loop\n",
      "0\n",
      "in loop\n",
      "0\n",
      "in loop\n",
      "0\n",
      "in loop\n",
      "0\n",
      "CPU Usage: 6.00%, 2.67%\n",
      "in loop\n",
      "0\n",
      "numBytes = 10\n",
      "c-side numBytes =  10\n",
      "numBytes =  6\n",
      "c-side numBytes =  6\n"
     ]
    }
   ],
   "source": [
    "if base.switches[0].read():\n",
    "    print(\"Please set switch 0 low before running\")\n",
    "else:\n",
    "#     spot.loop()\n",
    "    base.switches[0].wait_for_value(1)"
   ]
  },
  {
   "cell_type": "code",
   "execution_count": null,
   "metadata": {},
   "outputs": [],
   "source": [
    "[t.cancel() for t in tasks]"
   ]
  },
  {
   "cell_type": "code",
   "execution_count": null,
   "metadata": {},
   "outputs": [],
   "source": []
  },
  {
   "cell_type": "code",
   "execution_count": null,
   "metadata": {},
   "outputs": [],
   "source": []
  }
 ],
 "metadata": {
  "kernelspec": {
   "display_name": "Python 3",
   "language": "python",
   "name": "python3"
  }
 },
 "nbformat": 4,
 "nbformat_minor": 2
}

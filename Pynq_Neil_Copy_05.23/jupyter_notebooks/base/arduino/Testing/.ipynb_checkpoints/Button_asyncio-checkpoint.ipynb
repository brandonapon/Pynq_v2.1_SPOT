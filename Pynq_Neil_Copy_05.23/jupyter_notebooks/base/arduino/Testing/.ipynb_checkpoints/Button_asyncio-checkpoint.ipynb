{
 "cells": [
  {
   "cell_type": "code",
   "execution_count": 1,
   "metadata": {},
   "outputs": [
    {
     "data": {
      "application/javascript": [
       "\n",
       "require(['notebook/js/codecell'], function(codecell) {\n",
       "  codecell.CodeCell.options_default.highlight_modes[\n",
       "      'magic_text/x-csrc'] = {'reg':[/^%%microblaze/]};\n",
       "  Jupyter.notebook.events.one('kernel_ready.Kernel', function(){\n",
       "      Jupyter.notebook.get_cells().map(function(cell){\n",
       "          if (cell.cell_type == 'code'){ cell.auto_highlight(); } }) ;\n",
       "  });\n",
       "});\n"
      ]
     },
     "metadata": {},
     "output_type": "display_data"
    }
   ],
   "source": [
    "from pynq import PL\n",
    "from pynq.overlays.base import BaseOverlay\n",
    "\n",
    "base = BaseOverlay(\"base.bit\")"
   ]
  },
  {
   "cell_type": "code",
   "execution_count": 2,
   "metadata": {},
   "outputs": [
    {
     "name": "stdout",
     "output_type": "stream",
     "text": [
      "audio_direct_0\n",
      "trace_analyzer_pmoda/axi_dma_0\n",
      "trace_analyzer_arduino/axi_dma_0\n",
      "video/hdmi_out/frontend/axi_dynclk\n",
      "video/hdmi_in/frontend/axi_gpio_hdmiin\n",
      "video/axi_vdma\n",
      "btns_gpio\n",
      "video/hdmi_in/color_convert\n",
      "video/hdmi_out/color_convert\n",
      "leds_gpio\n",
      "video/hdmi_out/frontend/hdmi_out_hpd_video\n",
      "iop_pmoda/mb\n",
      "iop_pmoda/mb_bram_ctrl\n",
      "iop_pmodb/mb\n",
      "iop_pmodb/mb_bram_ctrl\n",
      "iop_arduino/mb\n",
      "iop_arduino/mb_bram_ctrl\n",
      "video/hdmi_in/pixel_pack\n",
      "video/hdmi_out/pixel_unpack\n",
      "rgbleds_gpio\n",
      "switches_gpio\n",
      "system_interrupts\n",
      "trace_analyzer_pmoda/trace_cntrl_32_0\n",
      "trace_analyzer_arduino/trace_cntrl_64_0\n",
      "video/hdmi_in/frontend/vtc_in\n",
      "video/hdmi_out/frontend/vtc_out\n"
     ]
    }
   ],
   "source": [
    "for values in base.ip_dict:\n",
    "    print(values)\n",
    "    for thing in base.ip_dict[values]:\n",
    "        print(values, ':', base.ip_dict[values][thing])"
   ]
  },
  {
   "cell_type": "code",
   "execution_count": 3,
   "metadata": {},
   "outputs": [
    {
     "ename": "NameError",
     "evalue": "name 'iop_arduino' is not defined",
     "output_type": "error",
     "traceback": [
      "\u001b[0;31m---------------------------------------------------------------------------\u001b[0m",
      "\u001b[0;31mNameError\u001b[0m                                 Traceback (most recent call last)",
      "\u001b[0;32m<ipython-input-3-679b9a1f410f>\u001b[0m in \u001b[0;36m<module>\u001b[0;34m()\u001b[0m\n\u001b[0;32m----> 1\u001b[0;31m \u001b[0;32mfor\u001b[0m \u001b[0mvalues\u001b[0m \u001b[0;32min\u001b[0m \u001b[0mbase\u001b[0m\u001b[0;34m.\u001b[0m\u001b[0mip_dict\u001b[0m\u001b[0;34m[\u001b[0m\u001b[0miop_arduino\u001b[0m\u001b[0;34m/\u001b[0m\u001b[0mmb\u001b[0m\u001b[0;34m]\u001b[0m\u001b[0;34m:\u001b[0m\u001b[0;34m\u001b[0m\u001b[0m\n\u001b[0m\u001b[1;32m      2\u001b[0m     \u001b[0mprint\u001b[0m\u001b[0;34m(\u001b[0m\u001b[0mvalues\u001b[0m\u001b[0;34m)\u001b[0m\u001b[0;34m\u001b[0m\u001b[0m\n",
      "\u001b[0;31mNameError\u001b[0m: name 'iop_arduino' is not defined"
     ]
    }
   ],
   "source": []
  },
  {
   "cell_type": "code",
   "execution_count": null,
   "metadata": {},
   "outputs": [],
   "source": []
  }
 ],
 "metadata": {
  "kernelspec": {
   "display_name": "Python 3",
   "language": "python",
   "name": "python3"
  },
  "language_info": {
   "codemirror_mode": {
    "name": "ipython",
    "version": 3
   },
   "file_extension": ".py",
   "mimetype": "text/x-python",
   "name": "python",
   "nbconvert_exporter": "python",
   "pygments_lexer": "ipython3",
   "version": "3.6.0"
  }
 },
 "nbformat": 4,
 "nbformat_minor": 2
}

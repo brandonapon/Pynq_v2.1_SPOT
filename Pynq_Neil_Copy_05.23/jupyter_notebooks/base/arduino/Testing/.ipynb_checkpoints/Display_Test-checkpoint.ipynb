{
 "cells": [
  {
   "cell_type": "code",
   "execution_count": null,
   "metadata": {
    "scrolled": true
   },
   "outputs": [],
   "source": [
    "from pynq.overlays.base import BaseOverlay\n",
    "base = BaseOverlay(\"base.bit\")\n",
    "\n",
    "from pynq.lib.arduino import Arduino_RA8875\n",
    "test = Arduino_RA8875(base.ARDUINO)\n",
    "\n",
    "test.init()\n",
    "test.display()\n",
    "test.gpio()\n",
    "test.pwm()\n"
   ]
  },
  {
   "cell_type": "code",
   "execution_count": 2,
   "metadata": {},
   "outputs": [],
   "source": [
    "#commands\n",
    "INIT = 0x1\n",
    "DRAW = 0x2\n",
    "DISPLAY = 0x3\n",
    "GPIO = 0x4\n",
    "PWM = 0x5\n",
    "FILL = 0x6\n",
    "SLOW_FILL = 0x7\n",
    "DRAW_IMAGE = 0x8\n",
    "FILL_COLOR = 0x9\n",
    "UNDEFINED = 0xa\n",
    "EIGHT = 0xb\n",
    "RECTANGLE = 0xc\n",
    "CIRCLE = 0xd\n",
    "TRIANGLE = 0xe\n",
    "ELLIPSE = 0xf\n",
    "CURVE = 0x10\n",
    "DRAWLINE = 0x11\n",
    "FONT = 0x12\n",
    "TEXTMODE = 0x13\n",
    "GRAPHICSMODE = 0x14\n",
    "LAYER = 0x15\n",
    "LAYERTRANS = 0x16\n",
    "LETTER = 0x19"
   ]
  },
  {
   "cell_type": "code",
   "execution_count": 3,
   "metadata": {},
   "outputs": [],
   "source": [
    "#testing layers\n",
    "test.microblaze.write_mailbox(0, 1)\n",
    "test.microblaze.write_blocking_command(LAYER)\n",
    "test.microblaze.write_mailbox(0, 0)\n",
    "test.microblaze.write_mailbox(0, 0)\n",
    "test.microblaze.write_blocking_command(LAYERTRANS)"
   ]
  },
  {
   "cell_type": "code",
   "execution_count": 20,
   "metadata": {},
   "outputs": [],
   "source": [
    "test.microblaze.write_mailbox(0, 0)\n",
    "test.microblaze.write_blocking_command(LAYER)"
   ]
  },
  {
   "cell_type": "code",
   "execution_count": 28,
   "metadata": {},
   "outputs": [],
   "source": [
    "test.microblaze.write_mailbox(0, 0)\n",
    "test.microblaze.write_mailbox(0, 0)\n",
    "test.microblaze.write_blocking_command(LAYERTRANS)"
   ]
  },
  {
   "cell_type": "code",
   "execution_count": 20,
   "metadata": {},
   "outputs": [],
   "source": [
    "#clear screen with WHITE\n",
    "test.microblaze.write_mailbox(0, 0xffff)\n",
    "test.microblaze.write_blocking_command(FILL_COLOR)"
   ]
  },
  {
   "cell_type": "code",
   "execution_count": 24,
   "metadata": {},
   "outputs": [],
   "source": [
    "#clear screen with BLACK\n",
    "test.microblaze.write_mailbox(0, 0x0000)\n",
    "test.microblaze.write_blocking_command(FILL_COLOR)"
   ]
  },
  {
   "cell_type": "code",
   "execution_count": 3,
   "metadata": {},
   "outputs": [],
   "source": [
    "#testing text\n",
    "test.microblaze.write_blocking_command(TEXTMODE)\n"
   ]
  },
  {
   "cell_type": "code",
   "execution_count": 4,
   "metadata": {},
   "outputs": [],
   "source": [
    "test.microblaze.write_blocking_command(LETTER)"
   ]
  },
  {
   "cell_type": "code",
   "execution_count": 31,
   "metadata": {},
   "outputs": [],
   "source": [
    "test.microblaze.write_blocking_command(FONT)"
   ]
  },
  {
   "cell_type": "code",
   "execution_count": 6,
   "metadata": {},
   "outputs": [],
   "source": [
    "#setting graphics mode\n",
    "test.microblaze.write_blocking_command(GRAPHICSMODE)"
   ]
  },
  {
   "cell_type": "code",
   "execution_count": 7,
   "metadata": {},
   "outputs": [],
   "source": [
    "#sample UI \n",
    "import time\n",
    "\n",
    "delay = 0.05\n",
    "longer = 0.1\n",
    "\n",
    "test.microblaze.write_mailbox(0, 266)\n",
    "test.microblaze.write_mailbox(4, 240)\n",
    "test.microblaze.write_mailbox(8, 10)\n",
    "test.microblaze.write_mailbox(12, 0x01c0)\n",
    "test.microblaze.write_mailbox(16, 1) #filled\n",
    "test.microblaze.write_blocking_command(CIRCLE)\n",
    "\n",
    "time.sleep(delay)\n",
    "\n",
    "test.microblaze.write_mailbox(0, 266)\n",
    "test.microblaze.write_mailbox(4, 240)\n",
    "test.microblaze.write_mailbox(8, 70)\n",
    "test.microblaze.write_mailbox(12, 0x01c0)\n",
    "test.microblaze.write_mailbox(16, 0) #unfilled\n",
    "test.microblaze.write_blocking_command(CIRCLE)\n",
    "\n",
    "time.sleep(delay)\n",
    "\n",
    "test.microblaze.write_mailbox(0, 266)\n",
    "test.microblaze.write_mailbox(4, 240)\n",
    "test.microblaze.write_mailbox(8, 140)\n",
    "test.microblaze.write_mailbox(12, 0x01c0)\n",
    "test.microblaze.write_mailbox(16, 0) #unfilled\n",
    "test.microblaze.write_blocking_command(CIRCLE)\n",
    "\n",
    "time.sleep(delay)\n",
    "\n",
    "test.microblaze.write_mailbox(0, 266)\n",
    "test.microblaze.write_mailbox(4, 240)\n",
    "test.microblaze.write_mailbox(8, 210)\n",
    "test.microblaze.write_mailbox(12, 0x01c0)\n",
    "test.microblaze.write_mailbox(16, 0) #unfilled\n",
    "test.microblaze.write_blocking_command(CIRCLE)\n",
    "\n",
    "time.sleep(longer)\n",
    "\n",
    "test.microblaze.write_mailbox(0, 600)\n",
    "test.microblaze.write_mailbox(4, 50)\n",
    "test.microblaze.write_mailbox(8, 150)\n",
    "test.microblaze.write_mailbox(12, 100)\n",
    "test.microblaze.write_mailbox(16, 0x001f)\n",
    "test.microblaze.write_mailbox(20, 0) #unfilled\n",
    "test.microblaze.write_blocking_command(RECTANGLE)\n",
    "\n",
    "time.sleep(delay)\n",
    "\n",
    "test.microblaze.write_mailbox(0, 750)\n",
    "test.microblaze.write_mailbox(4, 50)\n",
    "test.microblaze.write_mailbox(8, 750)\n",
    "test.microblaze.write_mailbox(12, 150)\n",
    "test.microblaze.write_mailbox(16, 800)\n",
    "test.microblaze.write_mailbox(20, 100)\n",
    "test.microblaze.write_mailbox(24, 0x001f)\n",
    "test.microblaze.write_mailbox(28, 0) #unfilled\n",
    "test.microblaze.write_blocking_command(TRIANGLE)\n",
    "\n",
    "time.sleep(delay)\n",
    "\n",
    "test.microblaze.write_mailbox(0, 750)\n",
    "test.microblaze.write_mailbox(4, 51)\n",
    "test.microblaze.write_mailbox(8, 750)\n",
    "test.microblaze.write_mailbox(12, 149) \n",
    "test.microblaze.write_mailbox(16, 0x0000)\n",
    "test.microblaze.write_blocking_command(DRAWLINE)\n",
    "\n",
    "time.sleep(delay)\n",
    "\n",
    "test.microblaze.write_mailbox(0, 600)\n",
    "test.microblaze.write_mailbox(4, 330)\n",
    "test.microblaze.write_mailbox(8, 150)\n",
    "test.microblaze.write_mailbox(12, 100)\n",
    "test.microblaze.write_mailbox(16, 0x001f)\n",
    "test.microblaze.write_mailbox(20, 0) #unfilled\n",
    "test.microblaze.write_blocking_command(RECTANGLE)\n",
    "\n",
    "time.sleep(delay)\n",
    "\n",
    "test.microblaze.write_mailbox(0, 750)\n",
    "test.microblaze.write_mailbox(4, 330)\n",
    "test.microblaze.write_mailbox(8, 750)\n",
    "test.microblaze.write_mailbox(12, 430)\n",
    "test.microblaze.write_mailbox(16, 800)\n",
    "test.microblaze.write_mailbox(20, 380)\n",
    "test.microblaze.write_mailbox(24, 0x001f)\n",
    "test.microblaze.write_mailbox(28, 0) #unfilled\n",
    "test.microblaze.write_blocking_command(TRIANGLE)\n",
    "\n",
    "time.sleep(delay)\n",
    "\n",
    "test.microblaze.write_mailbox(0, 750)\n",
    "test.microblaze.write_mailbox(4, 331)\n",
    "test.microblaze.write_mailbox(8, 750)\n",
    "test.microblaze.write_mailbox(12, 429) \n",
    "test.microblaze.write_mailbox(16, 0x0000)\n",
    "test.microblaze.write_blocking_command(DRAWLINE)\n"
   ]
  },
  {
   "cell_type": "code",
   "execution_count": 5,
   "metadata": {
    "scrolled": true
   },
   "outputs": [
    {
     "name": "stdout",
     "output_type": "stream",
     "text": [
      "Color: black\n",
      "Decimal = 0\n",
      "Hex = 0x0\n",
      "Bin = 0b0\n",
      "Color: blue\n",
      "Decimal = 31\n",
      "Hex = 0x1f\n",
      "Bin = 0b11111\n",
      "Color: red\n",
      "Decimal = 63488\n",
      "Hex = 0xf800\n",
      "Bin = 0b1111100000000000\n",
      "Color: green\n",
      "Decimal = 2016\n",
      "Hex = 0x7e0\n",
      "Bin = 0b11111100000\n",
      "Color: cyan\n",
      "Decimal = 2047\n",
      "Hex = 0x7ff\n",
      "Bin = 0b11111111111\n",
      "Color: magenta\n",
      "Decimal = 63519\n",
      "Hex = 0xf81f\n",
      "Bin = 0b1111100000011111\n",
      "Color: yellow\n",
      "Decimal = 65504\n",
      "Hex = 0xffe0\n",
      "Bin = 0b1111111111100000\n",
      "Color: white\n",
      "Decimal = 65535\n",
      "Hex = 0xffff\n",
      "Bin = 0b1111111111111111\n"
     ]
    }
   ],
   "source": [
    "#testing basic fill color\n",
    "import time\n",
    "\n",
    "color_table = [0x0000, 0x001F, 0xF800, 0x07E0, 0x07FF, 0xF81F, 0xFFE0, 0xFFFF]\n",
    "color_index = ['black', 'blue', 'red', 'green', 'cyan', 'magenta', 'yellow', 'white']\n",
    "for index, color in enumerate(color_table):    \n",
    "    return_val = test.fill_color(color)\n",
    "    print('Color: '+ color_index[index])\n",
    "    print('Decimal = ' + str(return_val))\n",
    "    print('Hex = ' + hex(return_val))\n",
    "    print('Bin = ' + bin(return_val))\n",
    "# \n",
    "    time.sleep(3)"
   ]
  },
  {
   "cell_type": "code",
   "execution_count": 3,
   "metadata": {},
   "outputs": [],
   "source": [
    "#testing shapes\n",
    "import time\n",
    "#rectangle\n",
    "test.microblaze.write_mailbox(0, 0)\n",
    "test.microblaze.write_mailbox(4, 0)\n",
    "test.microblaze.write_mailbox(8, 100)\n",
    "test.microblaze.write_mailbox(12, 200)\n",
    "test.microblaze.write_mailbox(16, 0xFFFF)\n",
    "test.microblaze.write_mailbox(20, 0) #unfilled\n",
    "test.microblaze.write_blocking_command(RECTANGLE)\n",
    "\n",
    "time.sleep(2)\n",
    "\n",
    "test.microblaze.write_mailbox(0, 100)\n",
    "test.microblaze.write_mailbox(4, 0)\n",
    "test.microblaze.write_mailbox(8, 100)\n",
    "test.microblaze.write_mailbox(12, 200)\n",
    "test.microblaze.write_mailbox(16, 0xF800)\n",
    "test.microblaze.write_mailbox(20, 1) #filled\n",
    "test.microblaze.write_blocking_command(RECTANGLE)\n",
    "\n",
    "time.sleep(2)\n",
    "\n",
    "#circle\n",
    "test.microblaze.write_mailbox(0, 300)\n",
    "test.microblaze.write_mailbox(4, 300)\n",
    "test.microblaze.write_mailbox(8, 150)\n",
    "test.microblaze.write_mailbox(12, 0x01c0)\n",
    "test.microblaze.write_mailbox(16, 0) #unfilled\n",
    "test.microblaze.write_blocking_command(CIRCLE)\n",
    "\n",
    "time.sleep(2)\n",
    "\n",
    "test.microblaze.write_mailbox(0, 200)\n",
    "test.microblaze.write_mailbox(4, 200)\n",
    "test.microblaze.write_mailbox(8, 150)\n",
    "test.microblaze.write_mailbox(12, 0x01c0)\n",
    "test.microblaze.write_mailbox(16, 1) #filled\n",
    "test.microblaze.write_blocking_command(CIRCLE)\n",
    "\n",
    "time.sleep(2)\n",
    "\n",
    "#triangle\n",
    "test.microblaze.write_mailbox(0, 500)\n",
    "test.microblaze.write_mailbox(4, 0)\n",
    "test.microblaze.write_mailbox(8, 600)\n",
    "test.microblaze.write_mailbox(12, 0)\n",
    "test.microblaze.write_mailbox(16, 550)\n",
    "test.microblaze.write_mailbox(20, 100)\n",
    "test.microblaze.write_mailbox(24, 0x001f)\n",
    "test.microblaze.write_mailbox(28, 0) #unfilled\n",
    "test.microblaze.write_blocking_command(TRIANGLE)\n",
    "\n",
    "time.sleep(2)\n",
    "\n",
    "test.microblaze.write_mailbox(0, 600)\n",
    "test.microblaze.write_mailbox(4, 0)\n",
    "test.microblaze.write_mailbox(8, 700)\n",
    "test.microblaze.write_mailbox(12, 0)\n",
    "test.microblaze.write_mailbox(16, 650)\n",
    "test.microblaze.write_mailbox(20, 100)\n",
    "test.microblaze.write_mailbox(24, 0x001f)\n",
    "test.microblaze.write_mailbox(28, 1) #unfilled\n",
    "test.microblaze.write_blocking_command(TRIANGLE)\n",
    "\n",
    "time.sleep(2)\n",
    "\n",
    "#ellipse\n",
    "test.microblaze.write_mailbox(0, 600)\n",
    "test.microblaze.write_mailbox(4, 300)\n",
    "test.microblaze.write_mailbox(8, 100)\n",
    "test.microblaze.write_mailbox(12, 150)\n",
    "test.microblaze.write_mailbox(16, 0xF800)\n",
    "test.microblaze.write_mailbox(20, 0) #unfilled\n",
    "test.microblaze.write_blocking_command(ELLIPSE)\n",
    "\n",
    "time.sleep(2)\n",
    "\n",
    "test.microblaze.write_mailbox(0, 700)\n",
    "test.microblaze.write_mailbox(4, 200)\n",
    "test.microblaze.write_mailbox(8, 100)\n",
    "test.microblaze.write_mailbox(12, 150)\n",
    "test.microblaze.write_mailbox(16, 0xF800)\n",
    "test.microblaze.write_mailbox(20, 1) #filled\n",
    "test.microblaze.write_blocking_command(ELLIPSE)\n",
    "\n",
    "time.sleep(2)\n",
    "\n",
    "#curve\n",
    "test.microblaze.write_mailbox(0, 450)\n",
    "test.microblaze.write_mailbox(4, 400)\n",
    "test.microblaze.write_mailbox(8, 100)\n",
    "test.microblaze.write_mailbox(12, 50)\n",
    "test.microblaze.write_mailbox(16, 50)\n",
    "test.microblaze.write_mailbox(20, 0xFFFF)\n",
    "test.microblaze.write_mailbox(24, 0) #unfilled\n",
    "test.microblaze.write_blocking_command(CURVE)\n",
    "\n",
    "time.sleep(2)\n",
    "\n",
    "test.microblaze.write_mailbox(0, 450)\n",
    "test.microblaze.write_mailbox(4, 400)\n",
    "test.microblaze.write_mailbox(8, 100)\n",
    "test.microblaze.write_mailbox(12, 50)\n",
    "test.microblaze.write_mailbox(16, 50)\n",
    "test.microblaze.write_mailbox(20, 0xFFFF)\n",
    "test.microblaze.write_mailbox(24, 1) #filled\n",
    "test.microblaze.write_blocking_command(CURVE)"
   ]
  },
  {
   "cell_type": "code",
   "execution_count": 6,
   "metadata": {},
   "outputs": [
    {
     "name": "stdout",
     "output_type": "stream",
     "text": [
      "73\n"
     ]
    }
   ],
   "source": [
    "#8bit yoga\n",
    "from PIL import Image\n",
    "from numpy import array\n",
    "img = Image.open('data/Yogananda.jpg')\n",
    "# img.resize((240,240), Image.ANTIALIAS)\n",
    "img_array = array(img)\n",
    "img.close()\n",
    "\n",
    "BIT = 0xb\n",
    "\n",
    "file_size = 240*240\n",
    "buf0 = test.buf_manager.cma_alloc(file_size, data_type=\"uint8_t\")\n",
    "buf1 = test.buf_manager.cma_get_buffer(buf0, file_size)\n",
    "phy_addr = test.buf_manager.cma_get_phy_addr(buf0)\n",
    "index = 0\n",
    "\n",
    "for j in range(240):\n",
    "    for i in range(240):\n",
    "        red, green, blue = img_array[i][j]\n",
    "        pixel = ((blue >> 6) | ((green & 0xE0) >> 3) | (red & 0xE0)) #rgb888 to rgb332\n",
    "        buf1[index] = bytes([pixel]) \n",
    "        index += 1\n",
    "test.microblaze.write_mailbox(0, 0)\n",
    "test.microblaze.write_mailbox(4, 0)\n",
    "test.microblaze.write_mailbox(8, phy_addr)\n",
    "test.microblaze.write_mailbox(12, 240)\n",
    "test.microblaze.write_mailbox(16, 240)\n",
    "test.microblaze.write_blocking_command(BIT)\n",
    "print(test.microblaze.read_mailbox(0))\n"
   ]
  },
  {
   "cell_type": "code",
   "execution_count": 14,
   "metadata": {},
   "outputs": [
    {
     "name": "stdout",
     "output_type": "stream",
     "text": [
      "16\n"
     ]
    }
   ],
   "source": [
    "#testing color sent to DDR 8bit drawPixel\n",
    "BIT = 0xb\n",
    "red = 0\n",
    "green = 128\n",
    "blue = 0\n",
    "\n",
    "file_size = 240*240\n",
    "buf0 = test.buf_manager.cma_alloc(file_size, data_type=\"uint8_t\")\n",
    "buf1 = test.buf_manager.cma_get_buffer(buf0, file_size)\n",
    "phy_addr = test.buf_manager.cma_get_phy_addr(buf0)\n",
    "index = 0\n",
    "\n",
    "for j in range(240):\n",
    "    for i in range(240):\n",
    "        pixel = ((blue >> 6) | ((green & 0xE0) >> 3) | (red & 0xE0))\n",
    "        buf1[index] = bytes([pixel]) \n",
    "        index += 1\n",
    "test.microblaze.write_mailbox(0, 0)\n",
    "test.microblaze.write_mailbox(4, 0)\n",
    "test.microblaze.write_mailbox(8, phy_addr)\n",
    "test.microblaze.write_mailbox(12, 240)\n",
    "test.microblaze.write_mailbox(16, 240)\n",
    "test.microblaze.write_blocking_command(BIT)\n",
    "print(test.microblaze.read_mailbox(0))"
   ]
  },
  {
   "cell_type": "code",
   "execution_count": 1,
   "metadata": {},
   "outputs": [],
   "source": [
    "def _convert_color(color):\n",
    "    \"\"\"Convert a 24-bit color to 16-bit.\n",
    "\n",
    "    The input `color` is assumed to be a 3-component list [R,G,B], each with\n",
    "    8 bits for color level.\n",
    "\n",
    "    This method will translate that list of colors into a 16-bit number,\n",
    "    with first 5 bits indicating R component,\n",
    "    last 5 bits indicating B component, and remaining\n",
    "    6 bits in the middle indicating G component.\n",
    "    i.e., 16-bit color -> (5 bits, 6 bits, 5 bits) -> (R,G,B).\n",
    "\n",
    "    \"\"\"\n",
    "    for i in color:\n",
    "        if i not in range(256):\n",
    "            raise ValueError(\"Valid color value for R, G, B is 0 - 255.\")\n",
    "    red, green, blue = color\n",
    "    return ((blue & 0xF8) << 8) | ((green & 0xFC) << 3) | ((red & 0xF8) >> 3)"
   ]
  },
  {
   "cell_type": "code",
   "execution_count": 18,
   "metadata": {
    "scrolled": true
   },
   "outputs": [],
   "source": [
    "#testing drawPixel color\n",
    "for x in range(0, 240):\n",
    "    for y in range(0,240):\n",
    "        test.drawPixel(x, y, 0xe0d6)"
   ]
  },
  {
   "cell_type": "code",
   "execution_count": 4,
   "metadata": {},
   "outputs": [
    {
     "data": {
      "text/plain": [
       "1337"
      ]
     },
     "execution_count": 4,
     "metadata": {},
     "output_type": "execute_result"
    }
   ],
   "source": [
    "#testing fill\n",
    "test.fill()"
   ]
  },
  {
   "cell_type": "code",
   "execution_count": 6,
   "metadata": {
    "scrolled": true
   },
   "outputs": [
    {
     "name": "stdout",
     "output_type": "stream",
     "text": [
      "0xe0d6\n"
     ]
    }
   ],
   "source": [
    "value = test.drawPixel(40,40, 0xe0d6)\n",
    "print(hex(value))"
   ]
  },
  {
   "cell_type": "code",
   "execution_count": 11,
   "metadata": {
    "scrolled": true
   },
   "outputs": [],
   "source": [
    "test.slowFill(0x07E0);"
   ]
  },
  {
   "cell_type": "code",
   "execution_count": 4,
   "metadata": {
    "scrolled": true
   },
   "outputs": [
    {
     "name": "stdout",
     "output_type": "stream",
     "text": [
      "1337\n"
     ]
    }
   ],
   "source": [
    "read_in = test.fill()\n",
    "print (read_in)"
   ]
  },
  {
   "cell_type": "code",
   "execution_count": 5,
   "metadata": {},
   "outputs": [],
   "source": [
    "index = 0\n",
    "start_x = 280\n",
    "start_y = 120\n",
    "for x in range(start_x, start_x+240):\n",
    "    for y in range(start_y, start_y+240):\n",
    "        test.drawPixel(x, y, int(test.yoga[index]))\n",
    "        index += 1"
   ]
  },
  {
   "cell_type": "code",
   "execution_count": 9,
   "metadata": {},
   "outputs": [],
   "source": [
    "index = 0\n",
    "for x in range(0, 254):\n",
    "    for y in range(0, 536):\n",
    "        test.drawPixel(y, x, test.spot[index])\n",
    "        index += 1"
   ]
  },
  {
   "cell_type": "code",
   "execution_count": null,
   "metadata": {},
   "outputs": [],
   "source": []
  }
 ],
 "metadata": {
  "kernelspec": {
   "display_name": "Python 3",
   "language": "python",
   "name": "python3"
  },
  "language_info": {
   "codemirror_mode": {
    "name": "ipython",
    "version": 3
   },
   "file_extension": ".py",
   "mimetype": "text/x-python",
   "name": "python",
   "nbconvert_exporter": "python",
   "pygments_lexer": "ipython3",
   "version": "3.6.0"
  }
 },
 "nbformat": 4,
 "nbformat_minor": 2
}

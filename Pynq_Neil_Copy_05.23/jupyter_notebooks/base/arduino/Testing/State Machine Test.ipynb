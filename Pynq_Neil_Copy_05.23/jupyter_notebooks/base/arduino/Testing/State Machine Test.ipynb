{
 "cells": [
  {
   "cell_type": "code",
   "execution_count": 1,
   "metadata": {},
   "outputs": [
    {
     "data": {
      "application/javascript": [
       "\n",
       "require(['notebook/js/codecell'], function(codecell) {\n",
       "  codecell.CodeCell.options_default.highlight_modes[\n",
       "      'magic_text/x-csrc'] = {'reg':[/^%%microblaze/]};\n",
       "  Jupyter.notebook.events.one('kernel_ready.Kernel', function(){\n",
       "      Jupyter.notebook.get_cells().map(function(cell){\n",
       "          if (cell.cell_type == 'code'){ cell.auto_highlight(); } }) ;\n",
       "  });\n",
       "});\n"
      ]
     },
     "metadata": {},
     "output_type": "display_data"
    },
    {
     "data": {
      "text/plain": [
       "0"
      ]
     },
     "execution_count": 1,
     "metadata": {},
     "output_type": "execute_result"
    }
   ],
   "source": [
    "from pynq.overlays.base import BaseOverlay\n",
    "base = BaseOverlay(\"base.bit\")\n",
    "\n",
    "import time\n",
    "\n",
    "#init display\n",
    "from pynq.lib.arduino import Arduino_Displaycam\n",
    "test = Arduino_Displaycam(base.ARDUINO)\n",
    "test.init()\n",
    "test.gpio()\n",
    "test.pwm() "
   ]
  },
  {
   "cell_type": "code",
   "execution_count": 5,
   "metadata": {},
   "outputs": [],
   "source": [
    "from pynq.overlays.base import BaseOverlay\n",
    "base = BaseOverlay(\"base.bit\")\n",
    "\n",
    "from pynq.lib.arduino import Arduino_SPOT\n",
    "device = Arduino_SPOT(base.ARDUINO,Arduino_SPOT)"
   ]
  },
  {
   "cell_type": "code",
   "execution_count": 6,
   "metadata": {},
   "outputs": [
    {
     "ename": "KeyboardInterrupt",
     "evalue": "",
     "output_type": "error",
     "traceback": [
      "\u001b[0;31m---------------------------------------------------------------------------\u001b[0m",
      "\u001b[0;31mKeyboardInterrupt\u001b[0m                         Traceback (most recent call last)",
      "\u001b[0;32m<ipython-input-6-8d42cc007f03>\u001b[0m in \u001b[0;36m<module>\u001b[0;34m()\u001b[0m\n\u001b[0;32m----> 1\u001b[0;31m \u001b[0mdevice\u001b[0m\u001b[0;34m.\u001b[0m\u001b[0mclearWindow\u001b[0m\u001b[0;34m(\u001b[0m\u001b[0;36m1\u001b[0m\u001b[0;34m)\u001b[0m\u001b[0;34m\u001b[0m\u001b[0m\n\u001b[0m",
      "\u001b[0;32m/opt/python3.6/lib/python3.6/site-packages/pynq/lib/arduino/arduino_spot.py\u001b[0m in \u001b[0;36mclearWindow\u001b[0;34m(self, val)\u001b[0m\n\u001b[1;32m    967\u001b[0m         \u001b[0;32mdef\u001b[0m \u001b[0mclearWindow\u001b[0m\u001b[0;34m(\u001b[0m\u001b[0mself\u001b[0m\u001b[0;34m,\u001b[0m \u001b[0mval\u001b[0m\u001b[0;34m)\u001b[0m\u001b[0;34m:\u001b[0m\u001b[0;34m\u001b[0m\u001b[0m\n\u001b[1;32m    968\u001b[0m                 \u001b[0mself\u001b[0m\u001b[0;34m.\u001b[0m\u001b[0mmicroblaze\u001b[0m\u001b[0;34m.\u001b[0m\u001b[0mwrite_mailbox\u001b[0m\u001b[0;34m(\u001b[0m\u001b[0;36m0\u001b[0m\u001b[0;34m,\u001b[0m \u001b[0mval\u001b[0m\u001b[0;34m)\u001b[0m\u001b[0;34m\u001b[0m\u001b[0m\n\u001b[0;32m--> 969\u001b[0;31m                 \u001b[0mself\u001b[0m\u001b[0;34m.\u001b[0m\u001b[0mmicroblaze\u001b[0m\u001b[0;34m.\u001b[0m\u001b[0mwrite_blocking_command\u001b[0m\u001b[0;34m(\u001b[0m\u001b[0mCLEAR_WINDOW\u001b[0m\u001b[0;34m)\u001b[0m\u001b[0;34m\u001b[0m\u001b[0m\n\u001b[0m\u001b[1;32m    970\u001b[0m \u001b[0;34m\u001b[0m\u001b[0m\n\u001b[1;32m    971\u001b[0m         \u001b[0;32mdef\u001b[0m \u001b[0msnapPic\u001b[0m\u001b[0;34m(\u001b[0m\u001b[0mself\u001b[0m\u001b[0;34m,\u001b[0m \u001b[0mx_start\u001b[0m\u001b[0;34m,\u001b[0m \u001b[0my_start\u001b[0m\u001b[0;34m)\u001b[0m\u001b[0;34m:\u001b[0m\u001b[0;34m\u001b[0m\u001b[0m\n",
      "\u001b[0;32m/opt/python3.6/lib/python3.6/site-packages/pynq/lib/arduino/arduino.py\u001b[0m in \u001b[0;36mwrite_blocking_command\u001b[0;34m(self, command)\u001b[0m\n\u001b[1;32m    153\u001b[0m         \"\"\"\n\u001b[1;32m    154\u001b[0m         \u001b[0mself\u001b[0m\u001b[0;34m.\u001b[0m\u001b[0mwrite\u001b[0m\u001b[0;34m(\u001b[0m\u001b[0mMAILBOX_OFFSET\u001b[0m \u001b[0;34m+\u001b[0m \u001b[0mMAILBOX_PY2IOP_CMD_OFFSET\u001b[0m\u001b[0;34m,\u001b[0m \u001b[0mcommand\u001b[0m\u001b[0;34m)\u001b[0m\u001b[0;34m\u001b[0m\u001b[0m\n\u001b[0;32m--> 155\u001b[0;31m         \u001b[0;32mwhile\u001b[0m \u001b[0mself\u001b[0m\u001b[0;34m.\u001b[0m\u001b[0mread\u001b[0m\u001b[0;34m(\u001b[0m\u001b[0mMAILBOX_OFFSET\u001b[0m \u001b[0;34m+\u001b[0m \u001b[0mMAILBOX_PY2IOP_CMD_OFFSET\u001b[0m\u001b[0;34m)\u001b[0m \u001b[0;34m!=\u001b[0m \u001b[0;36m0\u001b[0m\u001b[0;34m:\u001b[0m\u001b[0;34m\u001b[0m\u001b[0m\n\u001b[0m\u001b[1;32m    156\u001b[0m             \u001b[0;32mpass\u001b[0m\u001b[0;34m\u001b[0m\u001b[0m\n\u001b[1;32m    157\u001b[0m \u001b[0;34m\u001b[0m\u001b[0m\n",
      "\u001b[0;32m/opt/python3.6/lib/python3.6/site-packages/pynq/lib/pynqmicroblaze/pynqmicroblaze.py\u001b[0m in \u001b[0;36mread\u001b[0;34m(self, offset, length)\u001b[0m\n\u001b[1;32m    287\u001b[0m             \u001b[0;32mraise\u001b[0m \u001b[0mValueError\u001b[0m\u001b[0;34m(\u001b[0m\u001b[0;34m'Type of write data has to be int or lists.'\u001b[0m\u001b[0;34m)\u001b[0m\u001b[0;34m\u001b[0m\u001b[0m\n\u001b[1;32m    288\u001b[0m \u001b[0;34m\u001b[0m\u001b[0m\n\u001b[0;32m--> 289\u001b[0;31m     \u001b[0;32mdef\u001b[0m \u001b[0mread\u001b[0m\u001b[0;34m(\u001b[0m\u001b[0mself\u001b[0m\u001b[0;34m,\u001b[0m \u001b[0moffset\u001b[0m\u001b[0;34m,\u001b[0m \u001b[0mlength\u001b[0m\u001b[0;34m=\u001b[0m\u001b[0;36m1\u001b[0m\u001b[0;34m)\u001b[0m\u001b[0;34m:\u001b[0m\u001b[0;34m\u001b[0m\u001b[0m\n\u001b[0m\u001b[1;32m    290\u001b[0m         \"\"\"This method reads data from the shared memory of Microblaze.\n\u001b[1;32m    291\u001b[0m \u001b[0;34m\u001b[0m\u001b[0m\n",
      "\u001b[0;31mKeyboardInterrupt\u001b[0m: "
     ]
    }
   ],
   "source": [
    "device.clearWindow(1)"
   ]
  },
  {
   "cell_type": "code",
   "execution_count": 4,
   "metadata": {},
   "outputs": [
    {
     "ename": "KeyboardInterrupt",
     "evalue": "",
     "output_type": "error",
     "traceback": [
      "\u001b[0;31m---------------------------------------------------------------------------\u001b[0m",
      "\u001b[0;31mKeyboardInterrupt\u001b[0m                         Traceback (most recent call last)",
      "\u001b[0;32m<ipython-input-4-da3246d9da09>\u001b[0m in \u001b[0;36m<module>\u001b[0;34m()\u001b[0m\n\u001b[1;32m      2\u001b[0m \u001b[0;32mimport\u001b[0m \u001b[0masyncio\u001b[0m\u001b[0;34m\u001b[0m\u001b[0m\n\u001b[1;32m      3\u001b[0m \u001b[0;34m\u001b[0m\u001b[0m\n\u001b[0;32m----> 4\u001b[0;31m \u001b[0mspot\u001b[0m \u001b[0;34m=\u001b[0m \u001b[0mSPOT\u001b[0m\u001b[0;34m(\u001b[0m\u001b[0mdevice\u001b[0m\u001b[0;34m)\u001b[0m\u001b[0;34m\u001b[0m\u001b[0m\n\u001b[0m\u001b[1;32m      5\u001b[0m \u001b[0mspot\u001b[0m\u001b[0;34m.\u001b[0m\u001b[0mstart\u001b[0m\u001b[0;34m(\u001b[0m\u001b[0;34m)\u001b[0m\u001b[0;34m\u001b[0m\u001b[0m\n\u001b[1;32m      6\u001b[0m \u001b[0;34m\u001b[0m\u001b[0m\n",
      "\u001b[0;32m/opt/python3.6/lib/python3.6/site-packages/pynq/lib/arduino/spot_device.py\u001b[0m in \u001b[0;36m__init__\u001b[0;34m(self, device)\u001b[0m\n\u001b[1;32m     19\u001b[0m                 \u001b[0mself\u001b[0m\u001b[0;34m.\u001b[0m\u001b[0mdevice\u001b[0m \u001b[0;34m=\u001b[0m \u001b[0mdevice\u001b[0m\u001b[0;34m\u001b[0m\u001b[0m\n\u001b[1;32m     20\u001b[0m                 \u001b[0mself\u001b[0m\u001b[0;34m.\u001b[0m\u001b[0mradar\u001b[0m \u001b[0;34m=\u001b[0m \u001b[0mRadar\u001b[0m\u001b[0;34m(\u001b[0m\u001b[0mdevice\u001b[0m\u001b[0;34m)\u001b[0m\u001b[0;34m\u001b[0m\u001b[0m\n\u001b[0;32m---> 21\u001b[0;31m                 \u001b[0mdevice\u001b[0m\u001b[0;34m.\u001b[0m\u001b[0msetImageAddress\u001b[0m\u001b[0;34m(\u001b[0m\u001b[0;34m)\u001b[0m\u001b[0;34m\u001b[0m\u001b[0m\n\u001b[0m\u001b[1;32m     22\u001b[0m                 \u001b[0mdevice\u001b[0m\u001b[0;34m.\u001b[0m\u001b[0mbeginTX\u001b[0m\u001b[0;34m(\u001b[0m\u001b[0;36m1\u001b[0m\u001b[0;34m)\u001b[0m\u001b[0;34m\u001b[0m\u001b[0m\n\u001b[1;32m     23\u001b[0m                 \u001b[0mdevice\u001b[0m\u001b[0;34m.\u001b[0m\u001b[0mlayerMode\u001b[0m\u001b[0;34m(\u001b[0m\u001b[0;36m1\u001b[0m\u001b[0;34m)\u001b[0m\u001b[0;34m\u001b[0m\u001b[0m\n",
      "\u001b[0;32m/opt/python3.6/lib/python3.6/site-packages/pynq/lib/arduino/arduino_spot.py\u001b[0m in \u001b[0;36msetImageAddress\u001b[0;34m(self)\u001b[0m\n\u001b[1;32m   1149\u001b[0m                 \u001b[0mself\u001b[0m\u001b[0;34m.\u001b[0m\u001b[0mmicroblaze\u001b[0m\u001b[0;34m.\u001b[0m\u001b[0mwrite_mailbox\u001b[0m\u001b[0;34m(\u001b[0m\u001b[0;36m4\u001b[0m\u001b[0;34m,\u001b[0m \u001b[0mdraw_addr\u001b[0m\u001b[0;34m)\u001b[0m\u001b[0;34m\u001b[0m\u001b[0m\n\u001b[1;32m   1150\u001b[0m                 \u001b[0mself\u001b[0m\u001b[0;34m.\u001b[0m\u001b[0mmicroblaze\u001b[0m\u001b[0;34m.\u001b[0m\u001b[0mwrite_mailbox\u001b[0m\u001b[0;34m(\u001b[0m\u001b[0;36m8\u001b[0m\u001b[0;34m,\u001b[0m \u001b[0mtx_addr\u001b[0m\u001b[0;34m)\u001b[0m\u001b[0;34m\u001b[0m\u001b[0m\n\u001b[0;32m-> 1151\u001b[0;31m                 \u001b[0mself\u001b[0m\u001b[0;34m.\u001b[0m\u001b[0mmicroblaze\u001b[0m\u001b[0;34m.\u001b[0m\u001b[0mwrite_blocking_command\u001b[0m\u001b[0;34m(\u001b[0m\u001b[0mIMAGE_ADDRESS\u001b[0m\u001b[0;34m)\u001b[0m\u001b[0;34m\u001b[0m\u001b[0m\n\u001b[0m\u001b[1;32m   1152\u001b[0m                 \u001b[0mself\u001b[0m\u001b[0;34m.\u001b[0m\u001b[0mbuf565\u001b[0m \u001b[0;34m=\u001b[0m \u001b[0mbuf1\u001b[0m\u001b[0;34m\u001b[0m\u001b[0m\n\u001b[1;32m   1153\u001b[0m                 \u001b[0mself\u001b[0m\u001b[0;34m.\u001b[0m\u001b[0mbuf888\u001b[0m \u001b[0;34m=\u001b[0m \u001b[0mbuf3\u001b[0m\u001b[0;34m\u001b[0m\u001b[0m\n",
      "\u001b[0;32m/opt/python3.6/lib/python3.6/site-packages/pynq/lib/arduino/arduino.py\u001b[0m in \u001b[0;36mwrite_blocking_command\u001b[0;34m(self, command)\u001b[0m\n\u001b[1;32m    153\u001b[0m         \"\"\"\n\u001b[1;32m    154\u001b[0m         \u001b[0mself\u001b[0m\u001b[0;34m.\u001b[0m\u001b[0mwrite\u001b[0m\u001b[0;34m(\u001b[0m\u001b[0mMAILBOX_OFFSET\u001b[0m \u001b[0;34m+\u001b[0m \u001b[0mMAILBOX_PY2IOP_CMD_OFFSET\u001b[0m\u001b[0;34m,\u001b[0m \u001b[0mcommand\u001b[0m\u001b[0;34m)\u001b[0m\u001b[0;34m\u001b[0m\u001b[0m\n\u001b[0;32m--> 155\u001b[0;31m         \u001b[0;32mwhile\u001b[0m \u001b[0mself\u001b[0m\u001b[0;34m.\u001b[0m\u001b[0mread\u001b[0m\u001b[0;34m(\u001b[0m\u001b[0mMAILBOX_OFFSET\u001b[0m \u001b[0;34m+\u001b[0m \u001b[0mMAILBOX_PY2IOP_CMD_OFFSET\u001b[0m\u001b[0;34m)\u001b[0m \u001b[0;34m!=\u001b[0m \u001b[0;36m0\u001b[0m\u001b[0;34m:\u001b[0m\u001b[0;34m\u001b[0m\u001b[0m\n\u001b[0m\u001b[1;32m    156\u001b[0m             \u001b[0;32mpass\u001b[0m\u001b[0;34m\u001b[0m\u001b[0m\n\u001b[1;32m    157\u001b[0m \u001b[0;34m\u001b[0m\u001b[0m\n",
      "\u001b[0;31mKeyboardInterrupt\u001b[0m: "
     ]
    }
   ],
   "source": [
    "from pynq.lib.arduino.spot_device import *\n",
    "import asyncio\n",
    "\n",
    "spot = SPOT(device)\n",
    "spot.start()\n",
    "\n",
    "# spot.device.setImageAddress()\n",
    "# for i in range(0,1):\n",
    "#     spot.device.snapPic(100,0)\n",
    "    \n",
    "# #pickle\n",
    "# spot.radar.savePicture(spot.device.drawAddr, \"spottyThotty\")\n",
    "# print('pickled')\n",
    "\n",
    "# #unpickle\n",
    "# spot.radar.openPicture(spot.device.drawAddr, \"spottyThotty\")\n",
    "# print('unpickled')\n",
    "\n",
    "# #clear buffer\n",
    "# for slot in spot.device.drawAddr:\n",
    "#     slot = bytes([0])\n",
    "# print('cleared buffer')\n",
    "\n",
    "# #draw\n",
    "# spot.device.drawImage(100,0)\n",
    "# print('redrawn')\n",
    "\n",
    "# while(True):\n",
    "#     print(spot.device.readFromGPS())\n",
    "#     time.sleep(1)\n",
    "\n",
    "import random\n",
    "types = ['INTEREST', 'DANGER']\n",
    "counter = 1\n",
    "points = [Point('USER_{}'.format(i)) for i in range(0, 10)]\n",
    "for i in points:\n",
    "    i.tag = 'Obstacle_{}'.format(counter)\n",
    "    i.createdBy = 'CB_{}'.format(counter)\n",
    "    i.distance = 'DISTANCE_{}'.format(counter)\n",
    "    i.type = types[random.randint(0, 1)]\n",
    "    i.currentLocation = (random.randint(-30, 30), random.randint(-30, 30))\n",
    "    counter += 1\n",
    "    spot.radar.addPoint(i)\n",
    "    \n",
    "\n",
    "# #init test points to draw\n",
    "# point0 = Point('Brandon')\n",
    "# point0.tag = 'Hot'\n",
    "# point0.createdBy = 'Beta Saurabh'\n",
    "# point0.distance = 69\n",
    "# point0.type = 'DANGER'\n",
    "# point0.currentLocation = (20,0)\n",
    "\n",
    "# point1 = Point('Saurabh')\n",
    "# point1.tag = 'Weird'\n",
    "# point1.createdBy = 'Alpha Brandon'\n",
    "# point1.type = 'INTEREST'\n",
    "# point1.distance = 420\n",
    "# point1.currentLocation = (-15,15)\n",
    "\n",
    "\n",
    "# print(len(spot.radar.points))\n",
    "# spot.radar.addPoint(point0)\n",
    "# spot.radar.addPoint(point1)\n",
    "# print(len(spot.radar.points))\n",
    "\n",
    "spot.radar.userLocation = (0,0)\n",
    "\n",
    "#loop testing\n",
    "# while(True):\n",
    "#     spot.loop()\n",
    "#     time.sleep(0.5)\n",
    "\n",
    "'''\n",
    "Types of events:\n",
    "TOP\n",
    "BOTTOM\n",
    "CW\n",
    "CCW\n",
    "ERROR\n",
    "'''\n",
    "\n",
    "@asyncio.coroutine\n",
    "def buttonPress(num):\n",
    "    event = 'ERROR'\n",
    "    twistCount = 0\n",
    "    while True:\n",
    "        yield from base.buttons[num].wait_for_value_async(1)\n",
    "        if(num == 3): #01\n",
    "            twistCount = 1\n",
    "            while twistCount == 1: #01\n",
    "                if base.buttons[2].read() and base.buttons[3].read():\n",
    "                    twistCount = 2\n",
    "            while twistCount == 2: #11\n",
    "                if base.buttons[2].read() and base.buttons[3].read() == 0:\n",
    "                    twistCount = 3\n",
    "            while twistCount == 3: #10\n",
    "                if base.buttons[2].read() == 0 and base.buttons[3].read() == 0:\n",
    "                    twistCount = 4\n",
    "                    event = 'CCW'\n",
    "            yield from asyncio.sleep(0.1)\n",
    "            base.leds[num].off\n",
    "        elif(num == 2): #10\n",
    "            twistCount = 1\n",
    "            while twistCount == 1: #10\n",
    "                if base.buttons[2].read() and base.buttons[3].read():\n",
    "                    twistCount = 2\n",
    "            while twistCount == 2: #11\n",
    "                if base.buttons[2].read() == 0 and base.buttons[3].read():\n",
    "                    twistCount = 3\n",
    "            while twistCount == 3: #01\n",
    "                if base.buttons[2].read() == 0 and base.buttons[3].read() == 0:\n",
    "                    twistCount = 4\n",
    "                    event = 'CW'\n",
    "            while base.buttons[num].read() == 1:\n",
    "                base.leds[num].toggle()\n",
    "                yield from asyncio.sleep(0.1)\n",
    "            base.leds[num].off\n",
    "        elif(num == 1):\n",
    "            event = 'TOP'\n",
    "            while base.buttons[num].read():\n",
    "                base.leds[num].toggle()\n",
    "                yield from asyncio.sleep(0.1)\n",
    "            base.leds[num].off()\n",
    "        elif(num == 0):\n",
    "            event = 'BOTTOM'\n",
    "            while base.buttons[num].read():\n",
    "                base.leds[num].toggle()\n",
    "                yield from asyncio.sleep(0.1)\n",
    "            base.leds[num].off()\n",
    "            \n",
    "        else:\n",
    "            event = 'ERROR'\n",
    "        spot.on_event(event)\n",
    "        \n",
    "tasks = [asyncio.ensure_future(buttonPress(i)) for i in range(4)]"
   ]
  },
  {
   "cell_type": "code",
   "execution_count": null,
   "metadata": {},
   "outputs": [],
   "source": [
    "# '''\n",
    "# self.write_TAG(100, 310)\n",
    "# self.write_DISTANCE(100, 360)\n",
    "# self.write_CB(100, 410)\n",
    "# self.write_TYPE()\n",
    "# '''\n",
    "\n",
    "# device.clearAll()\n",
    "# time.sleep(0.05)\n",
    "# point = spot.radar.points[2]\n",
    "# device.drawInfoState()\n",
    "# if(point.type == 'DANGER'):\n",
    "#     device.write_CUSTOM(point.type, 200, 265, 0xf800) # Variable type\n",
    "# else:\n",
    "#     device.write_CUSTOM(point.type, 200, 265, 0x07e8) # Variable type\n",
    "# device.write_CUSTOM(point.tag, 190, 315, 0xffff) # Variable tag\n",
    "# device.write_CUSTOM(str(point.distance) + ' meters', 270, 365, 0xffff) # Variable distance\n",
    "# device.write_CUSTOM(point.createdBy, 300, 415, 0xffff) # Variable c/b"
   ]
  },
  {
   "cell_type": "code",
   "execution_count": null,
   "metadata": {},
   "outputs": [],
   "source": [
    "@asyncio.coroutine\n",
    "def txRead():\n",
    "    txc = 0\n",
    "    while True:\n",
    "        yield from asyncio.sleep(0.1)\n",
    "        while(device.hasMessages()):\n",
    "            val = device.readFromTX()\n",
    "            txc += 1\n",
    "            if(txc == 600):\n",
    "                txc = 0\n",
    "                break\n",
    "#             print(val);\n",
    "\n",
    "tasks.append(asyncio.ensure_future(txRead()))"
   ]
  },
  {
   "cell_type": "code",
   "execution_count": null,
   "metadata": {},
   "outputs": [],
   "source": [
    "@asyncio.coroutine\n",
    "def loop():\n",
    "    while True:\n",
    "        yield from asyncio.sleep(0.3)\n",
    "        spot.loop()\n",
    "\n",
    "tasks.append(asyncio.ensure_future(loop()))"
   ]
  },
  {
   "cell_type": "code",
   "execution_count": null,
   "metadata": {},
   "outputs": [],
   "source": [
    "# @asyncio.coroutine\n",
    "# def gpsSend():\n",
    "#     while True:\n",
    "#         yield from asyncio.sleep(3)\n",
    "#         gpsLoc = device.readFromGPS()\n",
    "#         if(gpsLoc[0] != None):\n",
    "#             gpsString = \"g,\" + str(round(gpsLoc[0], 6)) + \",\" + str(round(gpsLoc[1], 6))\n",
    "#             print(gpsString)\n",
    "#             device.writeToTX(4, gpsString)\n",
    "# tasks.append(asyncio.ensure_future(gpsSend()))"
   ]
  },
  {
   "cell_type": "code",
   "execution_count": null,
   "metadata": {},
   "outputs": [],
   "source": [
    "# import psutil\n",
    "\n",
    "# @asyncio.coroutine\n",
    "# def print_cpu_usage():\n",
    "#     # Calculate the CPU utilisation by the amount of idle time\n",
    "#     # each CPU has had in three second intervals\n",
    "#     last_idle = [c.idle for c in psutil.cpu_times(percpu=True)]\n",
    "#     while True:\n",
    "#         yield from asyncio.sleep(3)\n",
    "#         next_idle = [c.idle for c in psutil.cpu_times(percpu=True)]\n",
    "#         usage = [(1-(c2-c1)/3) * 100 for c1,c2 in zip(last_idle, next_idle)]\n",
    "#         print(\"CPU Usage: {0:3.2f}%, {1:3.2f}%\".format(*usage))\n",
    "#         last_idle = next_idle\n",
    "\n",
    "# tasks.append(asyncio.ensure_future(print_cpu_usage()))"
   ]
  },
  {
   "cell_type": "code",
   "execution_count": null,
   "metadata": {
    "scrolled": true
   },
   "outputs": [],
   "source": [
    "if base.switches[0].read():\n",
    "    print(\"Please set switch 0 low before running\")\n",
    "else:\n",
    "#     spot.loop()\n",
    "    base.switches[0].wait_for_value(1)"
   ]
  },
  {
   "cell_type": "code",
   "execution_count": null,
   "metadata": {},
   "outputs": [],
   "source": []
  },
  {
   "cell_type": "code",
   "execution_count": null,
   "metadata": {},
   "outputs": [],
   "source": []
  }
 ],
 "metadata": {
  "kernelspec": {
   "display_name": "Python 3",
   "language": "python",
   "name": "python3"
  },
  "language_info": {
   "codemirror_mode": {
    "name": "ipython",
    "version": 3
   },
   "file_extension": ".py",
   "mimetype": "text/x-python",
   "name": "python",
   "nbconvert_exporter": "python",
   "pygments_lexer": "ipython3",
   "version": "3.6.0"
  }
 },
 "nbformat": 4,
 "nbformat_minor": 2
}

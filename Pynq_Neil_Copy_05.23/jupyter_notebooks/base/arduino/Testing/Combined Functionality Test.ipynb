{
 "cells": [
  {
   "cell_type": "code",
   "execution_count": 1,
   "metadata": {},
   "outputs": [
    {
     "data": {
      "application/javascript": [
       "\n",
       "require(['notebook/js/codecell'], function(codecell) {\n",
       "  codecell.CodeCell.options_default.highlight_modes[\n",
       "      'magic_text/x-csrc'] = {'reg':[/^%%microblaze/]};\n",
       "  Jupyter.notebook.events.one('kernel_ready.Kernel', function(){\n",
       "      Jupyter.notebook.get_cells().map(function(cell){\n",
       "          if (cell.cell_type == 'code'){ cell.auto_highlight(); } }) ;\n",
       "  });\n",
       "});\n"
      ]
     },
     "metadata": {},
     "output_type": "display_data"
    },
    {
     "data": {
      "text/plain": [
       "0"
      ]
     },
     "execution_count": 1,
     "metadata": {},
     "output_type": "execute_result"
    }
   ],
   "source": [
    "from pynq.overlays.base import BaseOverlay\n",
    "base = BaseOverlay(\"base.bit\")\n",
    "\n",
    "import time\n",
    "\n",
    "#init display\n",
    "from pynq.lib.arduino import Arduino_Displaycam\n",
    "test = Arduino_Displaycam(base.ARDUINO)\n",
    "test.init()\n",
    "test.gpio()\n",
    "test.pwm() "
   ]
  },
  {
   "cell_type": "code",
   "execution_count": 2,
   "metadata": {},
   "outputs": [],
   "source": [
    "from pynq.overlays.base import BaseOverlay\n",
    "base = BaseOverlay(\"base.bit\")\n",
    "\n",
    "from pynq.lib.arduino import Arduino_SPOT\n",
    "tmp = Arduino_SPOT(base.ARDUINO,Arduino_SPOT)"
   ]
  },
  {
   "cell_type": "code",
   "execution_count": 3,
   "metadata": {},
   "outputs": [
    {
     "ename": "KeyboardInterrupt",
     "evalue": "",
     "output_type": "error",
     "traceback": [
      "\u001b[0;31m---------------------------------------------------------------------------\u001b[0m",
      "\u001b[0;31mKeyboardInterrupt\u001b[0m                         Traceback (most recent call last)",
      "\u001b[0;32m<ipython-input-3-f86283bdb94e>\u001b[0m in \u001b[0;36m<module>\u001b[0;34m()\u001b[0m\n\u001b[0;32m----> 1\u001b[0;31m \u001b[0mbuf0\u001b[0m\u001b[0;34m,\u001b[0m \u001b[0mbuf1\u001b[0m \u001b[0;34m=\u001b[0m \u001b[0mtmp\u001b[0m\u001b[0;34m.\u001b[0m\u001b[0msetImageAddress\u001b[0m\u001b[0;34m(\u001b[0m\u001b[0;34m)\u001b[0m\u001b[0;34m\u001b[0m\u001b[0m\n\u001b[0m",
      "\u001b[0;32m/opt/python3.6/lib/python3.6/site-packages/pynq/lib/arduino/arduino_spot.py\u001b[0m in \u001b[0;36msetImageAddress\u001b[0;34m(self)\u001b[0m\n\u001b[1;32m   1149\u001b[0m                 \u001b[0mself\u001b[0m\u001b[0;34m.\u001b[0m\u001b[0mmicroblaze\u001b[0m\u001b[0;34m.\u001b[0m\u001b[0mwrite_mailbox\u001b[0m\u001b[0;34m(\u001b[0m\u001b[0;36m4\u001b[0m\u001b[0;34m,\u001b[0m \u001b[0mdraw_addr\u001b[0m\u001b[0;34m)\u001b[0m\u001b[0;34m\u001b[0m\u001b[0m\n\u001b[1;32m   1150\u001b[0m                 \u001b[0mself\u001b[0m\u001b[0;34m.\u001b[0m\u001b[0mmicroblaze\u001b[0m\u001b[0;34m.\u001b[0m\u001b[0mwrite_mailbox\u001b[0m\u001b[0;34m(\u001b[0m\u001b[0;36m8\u001b[0m\u001b[0;34m,\u001b[0m \u001b[0mtx_addr\u001b[0m\u001b[0;34m)\u001b[0m\u001b[0;34m\u001b[0m\u001b[0m\n\u001b[0;32m-> 1151\u001b[0;31m                 \u001b[0mself\u001b[0m\u001b[0;34m.\u001b[0m\u001b[0mmicroblaze\u001b[0m\u001b[0;34m.\u001b[0m\u001b[0mwrite_blocking_command\u001b[0m\u001b[0;34m(\u001b[0m\u001b[0mIMAGE_ADDRESS\u001b[0m\u001b[0;34m)\u001b[0m\u001b[0;34m\u001b[0m\u001b[0m\n\u001b[0m\u001b[1;32m   1152\u001b[0m                 \u001b[0mself\u001b[0m\u001b[0;34m.\u001b[0m\u001b[0mbuf565\u001b[0m \u001b[0;34m=\u001b[0m \u001b[0mbuf1\u001b[0m\u001b[0;34m\u001b[0m\u001b[0m\n\u001b[1;32m   1153\u001b[0m                 \u001b[0mself\u001b[0m\u001b[0;34m.\u001b[0m\u001b[0mbuf888\u001b[0m \u001b[0;34m=\u001b[0m \u001b[0mbuf3\u001b[0m\u001b[0;34m\u001b[0m\u001b[0m\n",
      "\u001b[0;32m/opt/python3.6/lib/python3.6/site-packages/pynq/lib/arduino/arduino.py\u001b[0m in \u001b[0;36mwrite_blocking_command\u001b[0;34m(self, command)\u001b[0m\n\u001b[1;32m    153\u001b[0m         \"\"\"\n\u001b[1;32m    154\u001b[0m         \u001b[0mself\u001b[0m\u001b[0;34m.\u001b[0m\u001b[0mwrite\u001b[0m\u001b[0;34m(\u001b[0m\u001b[0mMAILBOX_OFFSET\u001b[0m \u001b[0;34m+\u001b[0m \u001b[0mMAILBOX_PY2IOP_CMD_OFFSET\u001b[0m\u001b[0;34m,\u001b[0m \u001b[0mcommand\u001b[0m\u001b[0;34m)\u001b[0m\u001b[0;34m\u001b[0m\u001b[0m\n\u001b[0;32m--> 155\u001b[0;31m         \u001b[0;32mwhile\u001b[0m \u001b[0mself\u001b[0m\u001b[0;34m.\u001b[0m\u001b[0mread\u001b[0m\u001b[0;34m(\u001b[0m\u001b[0mMAILBOX_OFFSET\u001b[0m \u001b[0;34m+\u001b[0m \u001b[0mMAILBOX_PY2IOP_CMD_OFFSET\u001b[0m\u001b[0;34m)\u001b[0m \u001b[0;34m!=\u001b[0m \u001b[0;36m0\u001b[0m\u001b[0;34m:\u001b[0m\u001b[0;34m\u001b[0m\u001b[0m\n\u001b[0m\u001b[1;32m    156\u001b[0m             \u001b[0;32mpass\u001b[0m\u001b[0;34m\u001b[0m\u001b[0m\n\u001b[1;32m    157\u001b[0m \u001b[0;34m\u001b[0m\u001b[0m\n",
      "\u001b[0;32m/opt/python3.6/lib/python3.6/site-packages/pynq/lib/pynqmicroblaze/pynqmicroblaze.py\u001b[0m in \u001b[0;36mread\u001b[0;34m(self, offset, length)\u001b[0m\n\u001b[1;32m    304\u001b[0m         \"\"\"\n\u001b[1;32m    305\u001b[0m         \u001b[0;32mif\u001b[0m \u001b[0mlength\u001b[0m \u001b[0;34m==\u001b[0m \u001b[0;36m1\u001b[0m\u001b[0;34m:\u001b[0m\u001b[0;34m\u001b[0m\u001b[0m\n\u001b[0;32m--> 306\u001b[0;31m             \u001b[0;32mreturn\u001b[0m \u001b[0mself\u001b[0m\u001b[0;34m.\u001b[0m\u001b[0mmmio\u001b[0m\u001b[0;34m.\u001b[0m\u001b[0mread\u001b[0m\u001b[0;34m(\u001b[0m\u001b[0moffset\u001b[0m\u001b[0;34m)\u001b[0m\u001b[0;34m\u001b[0m\u001b[0m\n\u001b[0m\u001b[1;32m    307\u001b[0m         \u001b[0;32melif\u001b[0m \u001b[0mlength\u001b[0m \u001b[0;34m>\u001b[0m \u001b[0;36m1\u001b[0m\u001b[0;34m:\u001b[0m\u001b[0;34m\u001b[0m\u001b[0m\n\u001b[1;32m    308\u001b[0m             \u001b[0;32mreturn\u001b[0m \u001b[0;34m[\u001b[0m\u001b[0mself\u001b[0m\u001b[0;34m.\u001b[0m\u001b[0mmmio\u001b[0m\u001b[0;34m.\u001b[0m\u001b[0mread\u001b[0m\u001b[0;34m(\u001b[0m\u001b[0moffset\u001b[0m \u001b[0;34m+\u001b[0m \u001b[0;36m4\u001b[0m\u001b[0;34m*\u001b[0m\u001b[0mi\u001b[0m\u001b[0;34m)\u001b[0m \u001b[0;32mfor\u001b[0m \u001b[0mi\u001b[0m \u001b[0;32min\u001b[0m \u001b[0mrange\u001b[0m\u001b[0;34m(\u001b[0m\u001b[0mlength\u001b[0m\u001b[0;34m)\u001b[0m\u001b[0;34m]\u001b[0m\u001b[0;34m\u001b[0m\u001b[0m\n",
      "\u001b[0;32m/opt/python3.6/lib/python3.6/site-packages/pynq/mmio.py\u001b[0m in \u001b[0;36mread\u001b[0;34m(self, offset, length)\u001b[0m\n\u001b[1;32m    136\u001b[0m             \u001b[0;32mraise\u001b[0m \u001b[0mMemoryError\u001b[0m\u001b[0;34m(\u001b[0m\u001b[0;34m'Unaligned read: offset must be multiple of 4.'\u001b[0m\u001b[0;34m)\u001b[0m\u001b[0;34m\u001b[0m\u001b[0m\n\u001b[1;32m    137\u001b[0m \u001b[0;34m\u001b[0m\u001b[0m\n\u001b[0;32m--> 138\u001b[0;31m         self._debug('Reading {0} bytes from offset {1:x}',\n\u001b[0m\u001b[1;32m    139\u001b[0m                     length, offset)\n\u001b[1;32m    140\u001b[0m \u001b[0;34m\u001b[0m\u001b[0m\n",
      "\u001b[0;31mKeyboardInterrupt\u001b[0m: "
     ]
    }
   ],
   "source": [
    "buf0, buf1 = tmp.setImageAddress()"
   ]
  },
  {
   "cell_type": "code",
   "execution_count": 4,
   "metadata": {},
   "outputs": [
    {
     "ename": "KeyboardInterrupt",
     "evalue": "",
     "output_type": "error",
     "traceback": [
      "\u001b[0;31m---------------------------------------------------------------------------\u001b[0m",
      "\u001b[0;31mKeyboardInterrupt\u001b[0m                         Traceback (most recent call last)",
      "\u001b[0;32m<ipython-input-4-df24bc693fdd>\u001b[0m in \u001b[0;36m<module>\u001b[0;34m()\u001b[0m\n\u001b[1;32m      1\u001b[0m \u001b[0mstart\u001b[0m \u001b[0;34m=\u001b[0m \u001b[0mtime\u001b[0m\u001b[0;34m.\u001b[0m\u001b[0mtime\u001b[0m\u001b[0;34m(\u001b[0m\u001b[0;34m)\u001b[0m\u001b[0;34m\u001b[0m\u001b[0m\n\u001b[0;32m----> 2\u001b[0;31m \u001b[0mtmp\u001b[0m\u001b[0;34m.\u001b[0m\u001b[0msnapPic\u001b[0m\u001b[0;34m(\u001b[0m\u001b[0;36m35\u001b[0m\u001b[0;34m,\u001b[0m\u001b[0;36m0\u001b[0m\u001b[0;34m)\u001b[0m\u001b[0;34m\u001b[0m\u001b[0m\n\u001b[0m\u001b[1;32m      3\u001b[0m \u001b[0mtmp\u001b[0m\u001b[0;34m.\u001b[0m\u001b[0mbeginTX\u001b[0m\u001b[0;34m(\u001b[0m\u001b[0;36m1\u001b[0m\u001b[0;34m)\u001b[0m\u001b[0;34m\u001b[0m\u001b[0m\n\u001b[1;32m      4\u001b[0m \u001b[0mtmp\u001b[0m\u001b[0;34m.\u001b[0m\u001b[0mconversion\u001b[0m\u001b[0;34m(\u001b[0m\u001b[0;34m)\u001b[0m\u001b[0;34m\u001b[0m\u001b[0m\n\u001b[1;32m      5\u001b[0m \u001b[0mtmp\u001b[0m\u001b[0;34m.\u001b[0m\u001b[0mbeginCameraTransfer\u001b[0m\u001b[0;34m(\u001b[0m\u001b[0;36m4\u001b[0m\u001b[0;34m)\u001b[0m\u001b[0;34m\u001b[0m\u001b[0m\n",
      "\u001b[0;32m/opt/python3.6/lib/python3.6/site-packages/pynq/lib/arduino/arduino_spot.py\u001b[0m in \u001b[0;36msnapPic\u001b[0;34m(self, x_start, y_start)\u001b[0m\n\u001b[1;32m    975\u001b[0m                 \u001b[0;31m# draw_addr = self.buf_manager.cma_get_phy_addr(self.buf565)\u001b[0m\u001b[0;34m\u001b[0m\u001b[0;34m\u001b[0m\u001b[0m\n\u001b[1;32m    976\u001b[0m                 \u001b[0;31m# self.microblaze.write_mailbox(0, phy_addr)\u001b[0m\u001b[0;34m\u001b[0m\u001b[0;34m\u001b[0m\u001b[0m\n\u001b[0;32m--> 977\u001b[0;31m                 \u001b[0mself\u001b[0m\u001b[0;34m.\u001b[0m\u001b[0mlayer\u001b[0m\u001b[0;34m(\u001b[0m\u001b[0;36m0\u001b[0m\u001b[0;34m)\u001b[0m\u001b[0;34m\u001b[0m\u001b[0m\n\u001b[0m\u001b[1;32m    978\u001b[0m                 \u001b[0mtime\u001b[0m\u001b[0;34m.\u001b[0m\u001b[0msleep\u001b[0m\u001b[0;34m(\u001b[0m\u001b[0mdelay\u001b[0m\u001b[0;34m)\u001b[0m\u001b[0;34m\u001b[0m\u001b[0m\n\u001b[1;32m    979\u001b[0m                 \u001b[0mself\u001b[0m\u001b[0;34m.\u001b[0m\u001b[0mmicroblaze\u001b[0m\u001b[0;34m.\u001b[0m\u001b[0mwrite_mailbox\u001b[0m\u001b[0;34m(\u001b[0m\u001b[0;36m0\u001b[0m\u001b[0;34m,\u001b[0m \u001b[0mx_start\u001b[0m\u001b[0;34m)\u001b[0m\u001b[0;34m\u001b[0m\u001b[0m\n",
      "\u001b[0;32m/opt/python3.6/lib/python3.6/site-packages/pynq/lib/arduino/arduino_spot.py\u001b[0m in \u001b[0;36mlayer\u001b[0;34m(self, num)\u001b[0m\n\u001b[1;32m    942\u001b[0m                 \u001b[0;31m#1 = background\u001b[0m\u001b[0;34m\u001b[0m\u001b[0;34m\u001b[0m\u001b[0m\n\u001b[1;32m    943\u001b[0m                 \u001b[0mself\u001b[0m\u001b[0;34m.\u001b[0m\u001b[0mmicroblaze\u001b[0m\u001b[0;34m.\u001b[0m\u001b[0mwrite_mailbox\u001b[0m\u001b[0;34m(\u001b[0m\u001b[0;36m0\u001b[0m\u001b[0;34m,\u001b[0m \u001b[0mnum\u001b[0m\u001b[0;34m)\u001b[0m\u001b[0;34m\u001b[0m\u001b[0m\n\u001b[0;32m--> 944\u001b[0;31m                 \u001b[0mself\u001b[0m\u001b[0;34m.\u001b[0m\u001b[0mmicroblaze\u001b[0m\u001b[0;34m.\u001b[0m\u001b[0mwrite_blocking_command\u001b[0m\u001b[0;34m(\u001b[0m\u001b[0mLAYER\u001b[0m\u001b[0;34m)\u001b[0m\u001b[0;34m\u001b[0m\u001b[0m\n\u001b[0m\u001b[1;32m    945\u001b[0m \u001b[0;34m\u001b[0m\u001b[0m\n\u001b[1;32m    946\u001b[0m         \u001b[0;32mdef\u001b[0m \u001b[0mtransparentLayer\u001b[0m\u001b[0;34m(\u001b[0m\u001b[0mself\u001b[0m\u001b[0;34m,\u001b[0m \u001b[0mforeground\u001b[0m\u001b[0;34m,\u001b[0m \u001b[0mbackground\u001b[0m\u001b[0;34m)\u001b[0m\u001b[0;34m:\u001b[0m\u001b[0;34m\u001b[0m\u001b[0m\n",
      "\u001b[0;32m/opt/python3.6/lib/python3.6/site-packages/pynq/lib/arduino/arduino.py\u001b[0m in \u001b[0;36mwrite_blocking_command\u001b[0;34m(self, command)\u001b[0m\n\u001b[1;32m    153\u001b[0m         \"\"\"\n\u001b[1;32m    154\u001b[0m         \u001b[0mself\u001b[0m\u001b[0;34m.\u001b[0m\u001b[0mwrite\u001b[0m\u001b[0;34m(\u001b[0m\u001b[0mMAILBOX_OFFSET\u001b[0m \u001b[0;34m+\u001b[0m \u001b[0mMAILBOX_PY2IOP_CMD_OFFSET\u001b[0m\u001b[0;34m,\u001b[0m \u001b[0mcommand\u001b[0m\u001b[0;34m)\u001b[0m\u001b[0;34m\u001b[0m\u001b[0m\n\u001b[0;32m--> 155\u001b[0;31m         \u001b[0;32mwhile\u001b[0m \u001b[0mself\u001b[0m\u001b[0;34m.\u001b[0m\u001b[0mread\u001b[0m\u001b[0;34m(\u001b[0m\u001b[0mMAILBOX_OFFSET\u001b[0m \u001b[0;34m+\u001b[0m \u001b[0mMAILBOX_PY2IOP_CMD_OFFSET\u001b[0m\u001b[0;34m)\u001b[0m \u001b[0;34m!=\u001b[0m \u001b[0;36m0\u001b[0m\u001b[0;34m:\u001b[0m\u001b[0;34m\u001b[0m\u001b[0m\n\u001b[0m\u001b[1;32m    156\u001b[0m             \u001b[0;32mpass\u001b[0m\u001b[0;34m\u001b[0m\u001b[0m\n\u001b[1;32m    157\u001b[0m \u001b[0;34m\u001b[0m\u001b[0m\n",
      "\u001b[0;31mKeyboardInterrupt\u001b[0m: "
     ]
    }
   ],
   "source": [
    "start = time.time()\n",
    "tmp.snapPic(35,0)\n",
    "tmp.beginTX(1)\n",
    "tmp.conversion()\n",
    "tmp.beginCameraTransfer(4)\n",
    "tmp.writeToTX(4, 'd')\n",
    "end = time.time()\n",
    "print(end-start)\n",
    "print(tmp.microblaze.read_mailbox(0))\n",
    "# for index in range(0,153600):\n",
    "#     print(int((buf1[index].hex()), 16))"
   ]
  },
  {
   "cell_type": "code",
   "execution_count": 8,
   "metadata": {},
   "outputs": [
    {
     "data": {
      "text/plain": [
       "[]"
      ]
     },
     "execution_count": 8,
     "metadata": {},
     "output_type": "execute_result"
    }
   ],
   "source": [
    "tmp.beginTX(1)\n",
    "tmp.writeToTX(4, \"l36.5,94.5\")\n",
    "time.sleep(0.5)\n",
    "tmp.writeToTX(4, \"rR0495\")\n",
    "time.sleep(0.5)\n",
    "tmp.writeToTX(4, \"v0.15\")"
   ]
  },
  {
   "cell_type": "code",
   "execution_count": 3,
   "metadata": {
    "scrolled": true
   },
   "outputs": [
    {
     "name": "stdout",
     "output_type": "stream",
     "text": [
      "(None, None)\n",
      "0\n",
      "(None, None)\n",
      "1\n",
      "(34.414682666666664, -119.84186016666666)\n",
      "2\n",
      "(34.41467433333333, -119.84186933333334)\n",
      "3\n",
      "(34.41467316666667, -119.84187233333333)\n",
      "4\n",
      "(34.4146705, -119.8418695)\n",
      "5\n",
      "(34.41466616666666, -119.841865)\n",
      "6\n"
     ]
    },
    {
     "ename": "KeyboardInterrupt",
     "evalue": "",
     "output_type": "error",
     "traceback": [
      "\u001b[0;31m---------------------------------------------------------------------------\u001b[0m",
      "\u001b[0;31mKeyboardInterrupt\u001b[0m                         Traceback (most recent call last)",
      "\u001b[0;32m<ipython-input-3-8a87bedb070f>\u001b[0m in \u001b[0;36m<module>\u001b[0;34m()\u001b[0m\n\u001b[1;32m      3\u001b[0m \u001b[0mtmp\u001b[0m\u001b[0;34m.\u001b[0m\u001b[0mbeginTX\u001b[0m\u001b[0;34m(\u001b[0m\u001b[0;36m1\u001b[0m\u001b[0;34m)\u001b[0m\u001b[0;34m\u001b[0m\u001b[0m\n\u001b[1;32m      4\u001b[0m \u001b[0;32mwhile\u001b[0m\u001b[0;34m(\u001b[0m\u001b[0;32mTrue\u001b[0m\u001b[0;34m)\u001b[0m\u001b[0;34m:\u001b[0m\u001b[0;34m\u001b[0m\u001b[0m\n\u001b[0;32m----> 5\u001b[0;31m     \u001b[0mval\u001b[0m \u001b[0;34m=\u001b[0m \u001b[0mtmp\u001b[0m\u001b[0;34m.\u001b[0m\u001b[0mreadFromGPS\u001b[0m\u001b[0;34m(\u001b[0m\u001b[0;34m)\u001b[0m\u001b[0;34m\u001b[0m\u001b[0m\n\u001b[0m\u001b[1;32m      6\u001b[0m     \u001b[0mprint\u001b[0m\u001b[0;34m(\u001b[0m\u001b[0mval\u001b[0m\u001b[0;34m)\u001b[0m\u001b[0;34m\u001b[0m\u001b[0m\n\u001b[1;32m      7\u001b[0m     \u001b[0mtime\u001b[0m\u001b[0;34m.\u001b[0m\u001b[0msleep\u001b[0m\u001b[0;34m(\u001b[0m\u001b[0;36m2\u001b[0m\u001b[0;34m)\u001b[0m\u001b[0;34m\u001b[0m\u001b[0m\n",
      "\u001b[0;32m/opt/python3.6/lib/python3.6/site-packages/pynq/lib/arduino/arduino_spot.py\u001b[0m in \u001b[0;36mreadFromGPS\u001b[0;34m(self)\u001b[0m\n\u001b[1;32m    277\u001b[0m                 \u001b[0mstringBuilder\u001b[0m \u001b[0;34m=\u001b[0m \u001b[0;34m\"\"\u001b[0m\u001b[0;34m\u001b[0m\u001b[0m\n\u001b[1;32m    278\u001b[0m                 \u001b[0mcounter\u001b[0m \u001b[0;34m=\u001b[0m \u001b[0;36m0\u001b[0m\u001b[0;34m\u001b[0m\u001b[0m\n\u001b[0;32m--> 279\u001b[0;31m                 \u001b[0mself\u001b[0m\u001b[0;34m.\u001b[0m\u001b[0mmicroblaze\u001b[0m\u001b[0;34m.\u001b[0m\u001b[0mwrite_blocking_command\u001b[0m\u001b[0;34m(\u001b[0m\u001b[0mGPS_READ\u001b[0m\u001b[0;34m)\u001b[0m\u001b[0;34m;\u001b[0m \u001b[0;31m# Returns 102 values\u001b[0m\u001b[0;34m\u001b[0m\u001b[0m\n\u001b[0m\u001b[1;32m    280\u001b[0m \u001b[0;34m\u001b[0m\u001b[0m\n\u001b[1;32m    281\u001b[0m                 \u001b[0mx\u001b[0m \u001b[0;34m=\u001b[0m \u001b[0;36m0\u001b[0m\u001b[0;34m;\u001b[0m\u001b[0;34m\u001b[0m\u001b[0m\n",
      "\u001b[0;32m/opt/python3.6/lib/python3.6/site-packages/pynq/lib/arduino/arduino.py\u001b[0m in \u001b[0;36mwrite_blocking_command\u001b[0;34m(self, command)\u001b[0m\n\u001b[1;32m    153\u001b[0m         \"\"\"\n\u001b[1;32m    154\u001b[0m         \u001b[0mself\u001b[0m\u001b[0;34m.\u001b[0m\u001b[0mwrite\u001b[0m\u001b[0;34m(\u001b[0m\u001b[0mMAILBOX_OFFSET\u001b[0m \u001b[0;34m+\u001b[0m \u001b[0mMAILBOX_PY2IOP_CMD_OFFSET\u001b[0m\u001b[0;34m,\u001b[0m \u001b[0mcommand\u001b[0m\u001b[0;34m)\u001b[0m\u001b[0;34m\u001b[0m\u001b[0m\n\u001b[0;32m--> 155\u001b[0;31m         \u001b[0;32mwhile\u001b[0m \u001b[0mself\u001b[0m\u001b[0;34m.\u001b[0m\u001b[0mread\u001b[0m\u001b[0;34m(\u001b[0m\u001b[0mMAILBOX_OFFSET\u001b[0m \u001b[0;34m+\u001b[0m \u001b[0mMAILBOX_PY2IOP_CMD_OFFSET\u001b[0m\u001b[0;34m)\u001b[0m \u001b[0;34m!=\u001b[0m \u001b[0;36m0\u001b[0m\u001b[0;34m:\u001b[0m\u001b[0;34m\u001b[0m\u001b[0m\n\u001b[0m\u001b[1;32m    156\u001b[0m             \u001b[0;32mpass\u001b[0m\u001b[0;34m\u001b[0m\u001b[0m\n\u001b[1;32m    157\u001b[0m \u001b[0;34m\u001b[0m\u001b[0m\n",
      "\u001b[0;32m/opt/python3.6/lib/python3.6/site-packages/pynq/lib/pynqmicroblaze/pynqmicroblaze.py\u001b[0m in \u001b[0;36mread\u001b[0;34m(self, offset, length)\u001b[0m\n\u001b[1;32m    287\u001b[0m             \u001b[0;32mraise\u001b[0m \u001b[0mValueError\u001b[0m\u001b[0;34m(\u001b[0m\u001b[0;34m'Type of write data has to be int or lists.'\u001b[0m\u001b[0;34m)\u001b[0m\u001b[0;34m\u001b[0m\u001b[0m\n\u001b[1;32m    288\u001b[0m \u001b[0;34m\u001b[0m\u001b[0m\n\u001b[0;32m--> 289\u001b[0;31m     \u001b[0;32mdef\u001b[0m \u001b[0mread\u001b[0m\u001b[0;34m(\u001b[0m\u001b[0mself\u001b[0m\u001b[0;34m,\u001b[0m \u001b[0moffset\u001b[0m\u001b[0;34m,\u001b[0m \u001b[0mlength\u001b[0m\u001b[0;34m=\u001b[0m\u001b[0;36m1\u001b[0m\u001b[0;34m)\u001b[0m\u001b[0;34m:\u001b[0m\u001b[0;34m\u001b[0m\u001b[0m\n\u001b[0m\u001b[1;32m    290\u001b[0m         \"\"\"This method reads data from the shared memory of Microblaze.\n\u001b[1;32m    291\u001b[0m \u001b[0;34m\u001b[0m\u001b[0m\n",
      "\u001b[0;31mKeyboardInterrupt\u001b[0m: "
     ]
    }
   ],
   "source": [
    "#testing GPS \n",
    "seconds = 0\n",
    "tmp.beginTX(1)\n",
    "while(True):\n",
    "    val = tmp.readFromGPS()\n",
    "    print(val)\n",
    "    time.sleep(2)\n",
    "#     print(tmp.microblaze.read_mailbox(0,4))\n",
    "#     time.sleep(1)\n",
    "    if(val[0] != None and val[1] != None):\n",
    "        tmp.writeToTX(4, \"g,\" + str(round(val[0], 6)) + \",\" + str(round(val[1], 6)))\n",
    "    print(seconds)\n",
    "    seconds += 1\n",
    "    "
   ]
  },
  {
   "cell_type": "code",
   "execution_count": null,
   "metadata": {},
   "outputs": [],
   "source": [
    "for i in range(0,230400,3):\n",
    "    buf1[i] = bytes([0xff])\n",
    "    buf1[i+1] = bytes([0x00])\n",
    "    buf1[i+2] = bytes([0x00])\n",
    "tmp.beginCameraTransfer(4)"
   ]
  },
  {
   "cell_type": "code",
   "execution_count": 4,
   "metadata": {},
   "outputs": [],
   "source": [
    "import asyncio\n",
    "\n",
    "@asyncio.coroutine\n",
    "def flash_led(num):\n",
    "    while True:\n",
    "        yield from base.buttons[num].wait_for_value_async(1)\n",
    "        if(num == 0):\n",
    "            while base.buttons[num].read():\n",
    "                base.leds[num].toggle()\n",
    "                tmp.play_sequence([16,-100,16,-100,16,-50,16])\n",
    "                time.sleep(10)\n",
    "                tmp.stop()\n",
    "                yield from asyncio.sleep(0.1)\n",
    "            base.leds[num].off()\n",
    "        elif(num == 1):\n",
    "            while base.buttons[num].read():\n",
    "                base.leds[num].toggle()\n",
    "                tmp.snapPic(35,0)\n",
    "                yield from asyncio.sleep(0.1)\n",
    "            base.leds[num].off()\n",
    "\n",
    "        elif(num == 2):\n",
    "            while base.buttons[num].read():\n",
    "                base.leds[num].toggle()\n",
    "                print(tmp.get_gyro())\n",
    "                print(tmp.get_compass())\n",
    "                print(tmp.get_accl())\n",
    "                print(tmp.get_euler())\n",
    "                print(tmp.get_temperature())\n",
    "                yield from asyncio.sleep(0.1)\n",
    "            base.leds[num].off()\n",
    "        else:\n",
    "            while base.buttons[num].read():\n",
    "                base.leds[num].toggle()\n",
    "                seconds = 0\n",
    "                while(seconds < 5):\n",
    "                    values = tmp.range_poll()\n",
    "                    print (values)\n",
    "                    for val in values:\n",
    "                        print(chr(val))\n",
    "                    seconds += 1\n",
    "                    time.sleep(1)\n",
    "                yield from asyncio.sleep(0.1)\n",
    "            base.leds[num].off()\n",
    "        \n",
    "        "
   ]
  },
  {
   "cell_type": "code",
   "execution_count": 5,
   "metadata": {},
   "outputs": [],
   "source": [
    "tasks = [asyncio.ensure_future(flash_led(i)) for i in range(4)]"
   ]
  },
  {
   "cell_type": "code",
   "execution_count": 6,
   "metadata": {},
   "outputs": [],
   "source": [
    "import psutil\n",
    "\n",
    "@asyncio.coroutine\n",
    "def print_cpu_usage():\n",
    "    # Calculate the CPU utilisation by the amount of idle time\n",
    "    # each CPU has had in three second intervals\n",
    "    last_idle = [c.idle for c in psutil.cpu_times(percpu=True)]\n",
    "    while True:\n",
    "        yield from asyncio.sleep(3)\n",
    "        next_idle = [c.idle for c in psutil.cpu_times(percpu=True)]\n",
    "        usage = [(1-(c2-c1)/3) * 100 for c1,c2 in zip(last_idle, next_idle)]\n",
    "        print(\"CPU Usage: {0:3.2f}%, {1:3.2f}%\".format(*usage))\n",
    "        last_idle = next_idle\n",
    "\n",
    "tasks.append(asyncio.ensure_future(print_cpu_usage()))"
   ]
  },
  {
   "cell_type": "code",
   "execution_count": 7,
   "metadata": {
    "scrolled": false
   },
   "outputs": [
    {
     "name": "stdout",
     "output_type": "stream",
     "text": [
      "CPU Usage: 1.00%, 0.00%\n",
      "CPU Usage: -233.00%, 69.33%\n",
      "CPU Usage: 0.67%, 0.00%\n",
      "CPU Usage: 1.00%, 1.00%\n",
      "CPU Usage: 0.67%, 0.00%\n",
      "CPU Usage: 0.67%, 0.00%\n",
      "CPU Usage: 0.00%, 0.33%\n",
      "CPU Usage: 1.67%, 0.67%\n",
      "CPU Usage: 0.00%, 0.33%\n",
      "CPU Usage: 0.67%, 0.00%\n",
      "CPU Usage: 0.67%, 0.00%\n",
      "CPU Usage: 1.00%, 1.00%\n",
      "CPU Usage: 0.00%, 0.33%\n"
     ]
    },
    {
     "ename": "KeyboardInterrupt",
     "evalue": "",
     "output_type": "error",
     "traceback": [
      "\u001b[0;31m---------------------------------------------------------------------------\u001b[0m",
      "\u001b[0;31mKeyboardInterrupt\u001b[0m                         Traceback (most recent call last)",
      "\u001b[0;32m<ipython-input-7-5594f22e614b>\u001b[0m in \u001b[0;36m<module>\u001b[0;34m()\u001b[0m\n\u001b[1;32m      2\u001b[0m     \u001b[0mprint\u001b[0m\u001b[0;34m(\u001b[0m\u001b[0;34m\"Please set switch 0 low before running\"\u001b[0m\u001b[0;34m)\u001b[0m\u001b[0;34m\u001b[0m\u001b[0m\n\u001b[1;32m      3\u001b[0m \u001b[0;32melse\u001b[0m\u001b[0;34m:\u001b[0m\u001b[0;34m\u001b[0m\u001b[0m\n\u001b[0;32m----> 4\u001b[0;31m     \u001b[0mbase\u001b[0m\u001b[0;34m.\u001b[0m\u001b[0mswitches\u001b[0m\u001b[0;34m[\u001b[0m\u001b[0;36m0\u001b[0m\u001b[0;34m]\u001b[0m\u001b[0;34m.\u001b[0m\u001b[0mwait_for_value\u001b[0m\u001b[0;34m(\u001b[0m\u001b[0;36m1\u001b[0m\u001b[0;34m)\u001b[0m\u001b[0;34m\u001b[0m\u001b[0m\n\u001b[0m",
      "\u001b[0;32m/opt/python3.6/lib/python3.6/site-packages/pynq/lib/axigpio.py\u001b[0m in \u001b[0;36mwait_for_value\u001b[0;34m(self, value)\u001b[0m\n\u001b[1;32m     98\u001b[0m             \u001b[0mloop\u001b[0m \u001b[0;34m=\u001b[0m \u001b[0masyncio\u001b[0m\u001b[0;34m.\u001b[0m\u001b[0mget_event_loop\u001b[0m\u001b[0;34m(\u001b[0m\u001b[0;34m)\u001b[0m\u001b[0;34m\u001b[0m\u001b[0m\n\u001b[1;32m     99\u001b[0m             loop.run_until_complete(asyncio.ensure_future(\n\u001b[0;32m--> 100\u001b[0;31m                 \u001b[0mself\u001b[0m\u001b[0;34m.\u001b[0m\u001b[0mwait_for_value_async\u001b[0m\u001b[0;34m(\u001b[0m\u001b[0mvalue\u001b[0m\u001b[0;34m)\u001b[0m\u001b[0;34m\u001b[0m\u001b[0m\n\u001b[0m\u001b[1;32m    101\u001b[0m             ))\n\u001b[1;32m    102\u001b[0m \u001b[0;34m\u001b[0m\u001b[0m\n",
      "\u001b[0;32m/opt/python3.6/lib/python3.6/asyncio/base_events.py\u001b[0m in \u001b[0;36mrun_until_complete\u001b[0;34m(self, future)\u001b[0m\n\u001b[1;32m    452\u001b[0m         \u001b[0mfuture\u001b[0m\u001b[0;34m.\u001b[0m\u001b[0madd_done_callback\u001b[0m\u001b[0;34m(\u001b[0m\u001b[0m_run_until_complete_cb\u001b[0m\u001b[0;34m)\u001b[0m\u001b[0;34m\u001b[0m\u001b[0m\n\u001b[1;32m    453\u001b[0m         \u001b[0;32mtry\u001b[0m\u001b[0;34m:\u001b[0m\u001b[0;34m\u001b[0m\u001b[0m\n\u001b[0;32m--> 454\u001b[0;31m             \u001b[0mself\u001b[0m\u001b[0;34m.\u001b[0m\u001b[0mrun_forever\u001b[0m\u001b[0;34m(\u001b[0m\u001b[0;34m)\u001b[0m\u001b[0;34m\u001b[0m\u001b[0m\n\u001b[0m\u001b[1;32m    455\u001b[0m         \u001b[0;32mexcept\u001b[0m\u001b[0;34m:\u001b[0m\u001b[0;34m\u001b[0m\u001b[0m\n\u001b[1;32m    456\u001b[0m             \u001b[0;32mif\u001b[0m \u001b[0mnew_task\u001b[0m \u001b[0;32mand\u001b[0m \u001b[0mfuture\u001b[0m\u001b[0;34m.\u001b[0m\u001b[0mdone\u001b[0m\u001b[0;34m(\u001b[0m\u001b[0;34m)\u001b[0m \u001b[0;32mand\u001b[0m \u001b[0;32mnot\u001b[0m \u001b[0mfuture\u001b[0m\u001b[0;34m.\u001b[0m\u001b[0mcancelled\u001b[0m\u001b[0;34m(\u001b[0m\u001b[0;34m)\u001b[0m\u001b[0;34m:\u001b[0m\u001b[0;34m\u001b[0m\u001b[0m\n",
      "\u001b[0;32m/opt/python3.6/lib/python3.6/asyncio/base_events.py\u001b[0m in \u001b[0;36mrun_forever\u001b[0;34m(self)\u001b[0m\n\u001b[1;32m    419\u001b[0m             \u001b[0mevents\u001b[0m\u001b[0;34m.\u001b[0m\u001b[0m_set_running_loop\u001b[0m\u001b[0;34m(\u001b[0m\u001b[0mself\u001b[0m\u001b[0;34m)\u001b[0m\u001b[0;34m\u001b[0m\u001b[0m\n\u001b[1;32m    420\u001b[0m             \u001b[0;32mwhile\u001b[0m \u001b[0;32mTrue\u001b[0m\u001b[0;34m:\u001b[0m\u001b[0;34m\u001b[0m\u001b[0m\n\u001b[0;32m--> 421\u001b[0;31m                 \u001b[0mself\u001b[0m\u001b[0;34m.\u001b[0m\u001b[0m_run_once\u001b[0m\u001b[0;34m(\u001b[0m\u001b[0;34m)\u001b[0m\u001b[0;34m\u001b[0m\u001b[0m\n\u001b[0m\u001b[1;32m    422\u001b[0m                 \u001b[0;32mif\u001b[0m \u001b[0mself\u001b[0m\u001b[0;34m.\u001b[0m\u001b[0m_stopping\u001b[0m\u001b[0;34m:\u001b[0m\u001b[0;34m\u001b[0m\u001b[0m\n\u001b[1;32m    423\u001b[0m                     \u001b[0;32mbreak\u001b[0m\u001b[0;34m\u001b[0m\u001b[0m\n",
      "\u001b[0;32m/opt/python3.6/lib/python3.6/asyncio/base_events.py\u001b[0m in \u001b[0;36m_run_once\u001b[0;34m(self)\u001b[0m\n\u001b[1;32m   1387\u001b[0m                            timeout * 1e3, dt * 1e3)\n\u001b[1;32m   1388\u001b[0m         \u001b[0;32melse\u001b[0m\u001b[0;34m:\u001b[0m\u001b[0;34m\u001b[0m\u001b[0m\n\u001b[0;32m-> 1389\u001b[0;31m             \u001b[0mevent_list\u001b[0m \u001b[0;34m=\u001b[0m \u001b[0mself\u001b[0m\u001b[0;34m.\u001b[0m\u001b[0m_selector\u001b[0m\u001b[0;34m.\u001b[0m\u001b[0mselect\u001b[0m\u001b[0;34m(\u001b[0m\u001b[0mtimeout\u001b[0m\u001b[0;34m)\u001b[0m\u001b[0;34m\u001b[0m\u001b[0m\n\u001b[0m\u001b[1;32m   1390\u001b[0m         \u001b[0mself\u001b[0m\u001b[0;34m.\u001b[0m\u001b[0m_process_events\u001b[0m\u001b[0;34m(\u001b[0m\u001b[0mevent_list\u001b[0m\u001b[0;34m)\u001b[0m\u001b[0;34m\u001b[0m\u001b[0m\n\u001b[1;32m   1391\u001b[0m \u001b[0;34m\u001b[0m\u001b[0m\n",
      "\u001b[0;32m/opt/python3.6/lib/python3.6/selectors.py\u001b[0m in \u001b[0;36mselect\u001b[0;34m(self, timeout)\u001b[0m\n\u001b[1;32m    443\u001b[0m             \u001b[0mready\u001b[0m \u001b[0;34m=\u001b[0m \u001b[0;34m[\u001b[0m\u001b[0;34m]\u001b[0m\u001b[0;34m\u001b[0m\u001b[0m\n\u001b[1;32m    444\u001b[0m             \u001b[0;32mtry\u001b[0m\u001b[0;34m:\u001b[0m\u001b[0;34m\u001b[0m\u001b[0m\n\u001b[0;32m--> 445\u001b[0;31m                 \u001b[0mfd_event_list\u001b[0m \u001b[0;34m=\u001b[0m \u001b[0mself\u001b[0m\u001b[0;34m.\u001b[0m\u001b[0m_epoll\u001b[0m\u001b[0;34m.\u001b[0m\u001b[0mpoll\u001b[0m\u001b[0;34m(\u001b[0m\u001b[0mtimeout\u001b[0m\u001b[0;34m,\u001b[0m \u001b[0mmax_ev\u001b[0m\u001b[0;34m)\u001b[0m\u001b[0;34m\u001b[0m\u001b[0m\n\u001b[0m\u001b[1;32m    446\u001b[0m             \u001b[0;32mexcept\u001b[0m \u001b[0mInterruptedError\u001b[0m\u001b[0;34m:\u001b[0m\u001b[0;34m\u001b[0m\u001b[0m\n\u001b[1;32m    447\u001b[0m                 \u001b[0;32mreturn\u001b[0m \u001b[0mready\u001b[0m\u001b[0;34m\u001b[0m\u001b[0m\n",
      "\u001b[0;31mKeyboardInterrupt\u001b[0m: "
     ]
    }
   ],
   "source": [
    "if base.switches[0].read():\n",
    "    print(\"Please set switch 0 low before running\")\n",
    "else:\n",
    "    base.switches[0].wait_for_value(1)"
   ]
  },
  {
   "cell_type": "code",
   "execution_count": 19,
   "metadata": {},
   "outputs": [
    {
     "data": {
      "text/plain": [
       "[True, True, True, True, True]"
      ]
     },
     "execution_count": 19,
     "metadata": {},
     "output_type": "execute_result"
    }
   ],
   "source": [
    "[t.cancel() for t in tasks]"
   ]
  },
  {
   "cell_type": "code",
   "execution_count": 20,
   "metadata": {},
   "outputs": [],
   "source": [
    "base.switches[0].wait_for_value(0)"
   ]
  },
  {
   "cell_type": "code",
   "execution_count": 3,
   "metadata": {},
   "outputs": [
    {
     "data": {
      "text/plain": [
       "2"
      ]
     },
     "execution_count": 3,
     "metadata": {},
     "output_type": "execute_result"
    }
   ],
   "source": [
    "#too fast?\n",
    "tmp.init()"
   ]
  },
  {
   "cell_type": "code",
   "execution_count": 4,
   "metadata": {},
   "outputs": [
    {
     "data": {
      "text/plain": [
       "0"
      ]
     },
     "execution_count": 4,
     "metadata": {},
     "output_type": "execute_result"
    }
   ],
   "source": [
    "#works fine\n",
    "tmp.gpio() \n",
    "tmp.pwm()"
   ]
  },
  {
   "cell_type": "code",
   "execution_count": 6,
   "metadata": {},
   "outputs": [],
   "source": [
    "tmp.layerMode(1)\n",
    "tmp.layerEffect(2)\n",
    "tmp.layer(1)\n",
    "time.sleep(0.05)\n",
    "tmp.drawMainScreen()\n",
    "tmp.layer(0)"
   ]
  },
  {
   "cell_type": "code",
   "execution_count": 12,
   "metadata": {},
   "outputs": [
    {
     "name": "stdout",
     "output_type": "stream",
     "text": [
      "1\n",
      "0 15\n",
      "1 63\n",
      "2 62\n",
      "3 3\n",
      "4 111\n",
      "5 108\n",
      "6 7\n",
      "7 14\n",
      "8 0\n",
      "9 0\n",
      "10 231\n",
      "11 7\n",
      "12 9\n",
      "13 10\n",
      "14 11\n",
      "15 12\n",
      "16 231\n",
      "17 0\n",
      "18 32\n",
      "19 32\n",
      "20 32\n",
      "21 32\n",
      "22 32\n",
      "23 17\n"
     ]
    }
   ],
   "source": [
    "print(tmp.getDevice())\n",
    "tmp.beginTX(1)\n",
    "for i in range(24):\n",
    "    print(i, tmp.readRegister(i))"
   ]
  },
  {
   "cell_type": "code",
   "execution_count": 13,
   "metadata": {
    "scrolled": true
   },
   "outputs": [
    {
     "name": "stdout",
     "output_type": "stream",
     "text": [
      "[]\n"
     ]
    }
   ],
   "source": [
    "print(tmp.writeToTX(4,\"Whats up\"))"
   ]
  },
  {
   "cell_type": "code",
   "execution_count": 4,
   "metadata": {},
   "outputs": [
    {
     "ename": "KeyboardInterrupt",
     "evalue": "",
     "output_type": "error",
     "traceback": [
      "\u001b[0;31m---------------------------------------------------------------------------\u001b[0m",
      "\u001b[0;31mKeyboardInterrupt\u001b[0m                         Traceback (most recent call last)",
      "\u001b[0;32m<ipython-input-4-ac9a8b42a154>\u001b[0m in \u001b[0;36m<module>\u001b[0;34m()\u001b[0m\n\u001b[1;32m      1\u001b[0m \u001b[0;34m\u001b[0m\u001b[0m\n\u001b[0;32m----> 2\u001b[0;31m \u001b[0mtmp\u001b[0m\u001b[0;34m.\u001b[0m\u001b[0mclearWindow\u001b[0m\u001b[0;34m(\u001b[0m\u001b[0;36m1\u001b[0m\u001b[0;34m)\u001b[0m\u001b[0;34m\u001b[0m\u001b[0m\n\u001b[0m",
      "\u001b[0;32m/opt/python3.6/lib/python3.6/site-packages/pynq/lib/arduino/arduino_spot.py\u001b[0m in \u001b[0;36mclearWindow\u001b[0;34m(self, val)\u001b[0m\n\u001b[1;32m    882\u001b[0m         \u001b[0;32mdef\u001b[0m \u001b[0mclearWindow\u001b[0m\u001b[0;34m(\u001b[0m\u001b[0mself\u001b[0m\u001b[0;34m,\u001b[0m \u001b[0mval\u001b[0m\u001b[0;34m)\u001b[0m\u001b[0;34m:\u001b[0m\u001b[0;34m\u001b[0m\u001b[0m\n\u001b[1;32m    883\u001b[0m                 \u001b[0mself\u001b[0m\u001b[0;34m.\u001b[0m\u001b[0mmicroblaze\u001b[0m\u001b[0;34m.\u001b[0m\u001b[0mwrite_mailbox\u001b[0m\u001b[0;34m(\u001b[0m\u001b[0;36m0\u001b[0m\u001b[0;34m,\u001b[0m \u001b[0mval\u001b[0m\u001b[0;34m)\u001b[0m\u001b[0;34m\u001b[0m\u001b[0m\n\u001b[0;32m--> 884\u001b[0;31m                 \u001b[0mself\u001b[0m\u001b[0;34m.\u001b[0m\u001b[0mmicroblaze\u001b[0m\u001b[0;34m.\u001b[0m\u001b[0mwrite_blocking_command\u001b[0m\u001b[0;34m(\u001b[0m\u001b[0mCLEAR_WINDOW\u001b[0m\u001b[0;34m)\u001b[0m\u001b[0;34m\u001b[0m\u001b[0m\n\u001b[0m\u001b[1;32m    885\u001b[0m \u001b[0;34m\u001b[0m\u001b[0m\n\u001b[1;32m    886\u001b[0m         \u001b[0;32mdef\u001b[0m \u001b[0msnapPic\u001b[0m\u001b[0;34m(\u001b[0m\u001b[0mself\u001b[0m\u001b[0;34m,\u001b[0m \u001b[0mx_start\u001b[0m\u001b[0;34m,\u001b[0m \u001b[0my_start\u001b[0m\u001b[0;34m)\u001b[0m\u001b[0;34m:\u001b[0m\u001b[0;34m\u001b[0m\u001b[0m\n",
      "\u001b[0;32m/opt/python3.6/lib/python3.6/site-packages/pynq/lib/arduino/arduino.py\u001b[0m in \u001b[0;36mwrite_blocking_command\u001b[0;34m(self, command)\u001b[0m\n\u001b[1;32m    153\u001b[0m         \"\"\"\n\u001b[1;32m    154\u001b[0m         \u001b[0mself\u001b[0m\u001b[0;34m.\u001b[0m\u001b[0mwrite\u001b[0m\u001b[0;34m(\u001b[0m\u001b[0mMAILBOX_OFFSET\u001b[0m \u001b[0;34m+\u001b[0m \u001b[0mMAILBOX_PY2IOP_CMD_OFFSET\u001b[0m\u001b[0;34m,\u001b[0m \u001b[0mcommand\u001b[0m\u001b[0;34m)\u001b[0m\u001b[0;34m\u001b[0m\u001b[0m\n\u001b[0;32m--> 155\u001b[0;31m         \u001b[0;32mwhile\u001b[0m \u001b[0mself\u001b[0m\u001b[0;34m.\u001b[0m\u001b[0mread\u001b[0m\u001b[0;34m(\u001b[0m\u001b[0mMAILBOX_OFFSET\u001b[0m \u001b[0;34m+\u001b[0m \u001b[0mMAILBOX_PY2IOP_CMD_OFFSET\u001b[0m\u001b[0;34m)\u001b[0m \u001b[0;34m!=\u001b[0m \u001b[0;36m0\u001b[0m\u001b[0;34m:\u001b[0m\u001b[0;34m\u001b[0m\u001b[0m\n\u001b[0m\u001b[1;32m    156\u001b[0m             \u001b[0;32mpass\u001b[0m\u001b[0;34m\u001b[0m\u001b[0m\n\u001b[1;32m    157\u001b[0m \u001b[0;34m\u001b[0m\u001b[0m\n",
      "\u001b[0;32m/opt/python3.6/lib/python3.6/site-packages/pynq/lib/pynqmicroblaze/pynqmicroblaze.py\u001b[0m in \u001b[0;36mread\u001b[0;34m(self, offset, length)\u001b[0m\n\u001b[1;32m    304\u001b[0m         \"\"\"\n\u001b[1;32m    305\u001b[0m         \u001b[0;32mif\u001b[0m \u001b[0mlength\u001b[0m \u001b[0;34m==\u001b[0m \u001b[0;36m1\u001b[0m\u001b[0;34m:\u001b[0m\u001b[0;34m\u001b[0m\u001b[0m\n\u001b[0;32m--> 306\u001b[0;31m             \u001b[0;32mreturn\u001b[0m \u001b[0mself\u001b[0m\u001b[0;34m.\u001b[0m\u001b[0mmmio\u001b[0m\u001b[0;34m.\u001b[0m\u001b[0mread\u001b[0m\u001b[0;34m(\u001b[0m\u001b[0moffset\u001b[0m\u001b[0;34m)\u001b[0m\u001b[0;34m\u001b[0m\u001b[0m\n\u001b[0m\u001b[1;32m    307\u001b[0m         \u001b[0;32melif\u001b[0m \u001b[0mlength\u001b[0m \u001b[0;34m>\u001b[0m \u001b[0;36m1\u001b[0m\u001b[0;34m:\u001b[0m\u001b[0;34m\u001b[0m\u001b[0m\n\u001b[1;32m    308\u001b[0m             \u001b[0;32mreturn\u001b[0m \u001b[0;34m[\u001b[0m\u001b[0mself\u001b[0m\u001b[0;34m.\u001b[0m\u001b[0mmmio\u001b[0m\u001b[0;34m.\u001b[0m\u001b[0mread\u001b[0m\u001b[0;34m(\u001b[0m\u001b[0moffset\u001b[0m \u001b[0;34m+\u001b[0m \u001b[0;36m4\u001b[0m\u001b[0;34m*\u001b[0m\u001b[0mi\u001b[0m\u001b[0;34m)\u001b[0m \u001b[0;32mfor\u001b[0m \u001b[0mi\u001b[0m \u001b[0;32min\u001b[0m \u001b[0mrange\u001b[0m\u001b[0;34m(\u001b[0m\u001b[0mlength\u001b[0m\u001b[0;34m)\u001b[0m\u001b[0;34m]\u001b[0m\u001b[0;34m\u001b[0m\u001b[0m\n",
      "\u001b[0;32m/opt/python3.6/lib/python3.6/site-packages/pynq/mmio.py\u001b[0m in \u001b[0;36mread\u001b[0;34m(self, offset, length)\u001b[0m\n\u001b[1;32m    137\u001b[0m \u001b[0;34m\u001b[0m\u001b[0m\n\u001b[1;32m    138\u001b[0m         self._debug('Reading {0} bytes from offset {1:x}',\n\u001b[0;32m--> 139\u001b[0;31m                     length, offset)\n\u001b[0m\u001b[1;32m    140\u001b[0m \u001b[0;34m\u001b[0m\u001b[0m\n\u001b[1;32m    141\u001b[0m         \u001b[0;31m# Read data out\u001b[0m\u001b[0;34m\u001b[0m\u001b[0;34m\u001b[0m\u001b[0m\n",
      "\u001b[0;31mKeyboardInterrupt\u001b[0m: "
     ]
    }
   ],
   "source": [
    "\n",
    "tmp.clearWindow(1)"
   ]
  },
  {
   "cell_type": "code",
   "execution_count": 7,
   "metadata": {},
   "outputs": [
    {
     "name": "stdout",
     "output_type": "stream",
     "text": [
      "73\n"
     ]
    }
   ],
   "source": [
    "#8bit yoga works\n",
    "from PIL import Image\n",
    "from numpy import array\n",
    "img = Image.open('data/Yogananda.jpg')\n",
    "# img.resize((240,240), Image.ANTIALIAS)\n",
    "img_array = array(img)\n",
    "img.close()\n",
    "\n",
    "BIT = 0xb\n",
    "\n",
    "file_size = 240*240\n",
    "buf0 = tmp.buf_manager.cma_alloc(file_size, data_type=\"uint8_t\")\n",
    "buf1 = tmp.buf_manager.cma_get_buffer(buf0, file_size)\n",
    "phy_addr = tmp.buf_manager.cma_get_phy_addr(buf0)\n",
    "index = 0\n",
    "\n",
    "for j in range(240):\n",
    "    for i in range(240):\n",
    "        red, green, blue = img_array[i][j]\n",
    "        pixel = ((blue >> 6) | ((green & 0xE0) >> 3) | (red & 0xE0)) #rgb888 to rgb332\n",
    "        buf1[index] = bytes([pixel]) \n",
    "        index += 1\n",
    "tmp.microblaze.write_mailbox(0, 0)\n",
    "tmp.microblaze.write_mailbox(4, 0)\n",
    "tmp.microblaze.write_mailbox(8, phy_addr)\n",
    "tmp.microblaze.write_mailbox(12, 240)\n",
    "tmp.microblaze.write_mailbox(16, 240)\n",
    "tmp.microblaze.write_blocking_command(0x6007)\n",
    "print(tmp.microblaze.read_mailbox(0))"
   ]
  },
  {
   "cell_type": "code",
   "execution_count": 2,
   "metadata": {},
   "outputs": [],
   "source": [
    "#testing image capture + drawing it pipelined!!!!\n",
    "tmp.snapPic(35,0)\n",
    "\n",
    "# stream_size = 153600\n",
    "# buf0 = tmp.buf_manager.cma_alloc(stream_size, data_type=\"uint8_t\")\n",
    "# buf1 = tmp.buf_manager.cma_get_buffer(buf0, stream_size)\n",
    "# phy_addr = tmp.buf_manager.cma_get_phy_addr(buf0)\n",
    "\n",
    "# buf2 = tmp.buf_manager.cma_alloc(stream_size, data_type=\"uint8_t\")\n",
    "# buf3 = tmp.buf_manager.cma_get_buffer(buf2, stream_size)\n",
    "# draw_addr = tmp.buf_manager.cma_get_phy_addr(buf2)\n",
    "\n",
    "# tmp.microblaze.write_mailbox(0, phy_addr)\n",
    "# tmp.microblaze.write_mailbox(4, draw_addr)\n",
    "# tmp.microblaze.write_blocking_command(0x5000)"
   ]
  },
  {
   "cell_type": "code",
   "execution_count": 3,
   "metadata": {},
   "outputs": [],
   "source": [
    "# testing haptic\n",
    "tmp.play_sequence([16,-100,16,-100,16,-50,16])\n",
    "time.sleep(10)\n",
    "tmp.stop()"
   ]
  },
  {
   "cell_type": "code",
   "execution_count": 8,
   "metadata": {
    "scrolled": false
   },
   "outputs": [
    {
     "name": "stdout",
     "output_type": "stream",
     "text": [
      "[32.62, -4.94, 7.5]\n",
      "[32.88, -4.81, 7.44]\n",
      "[32.94, -5.69, 7.5]\n",
      "[33.5, -5.25, 7.19]\n",
      "[33.12, -5.75, 7.69]\n",
      "[18.75, -7.69, 5.81]\n",
      "[18.5, -6.62, 5.5]\n",
      "[14.31, -6.38, 5.06]\n",
      "[10.12, -4.44, 0.12]\n",
      "[8.12, -1.94, -3.31]\n",
      "[5.81, -5.12, -1.56]\n",
      "[4.62, -11.25, -1.0]\n",
      "[4.44, -12.69, -11.94]\n",
      "[10.62, -6.5, -19.44]\n",
      "[13.38, -5.06, -1.38]\n",
      "[14.31, -3.19, -0.75]\n",
      "[14.69, -3.5, -0.44]\n",
      "[14.38, -3.25, -0.94]\n",
      "[14.62, -3.12, -0.88]\n",
      "[14.81, -3.25, -1.06]\n",
      "[15.19, -3.0, -1.12]\n",
      "[15.62, -2.88, -0.94]\n",
      "[15.44, -2.56, -1.0]\n",
      "[15.75, -3.5, -1.12]\n",
      "[15.75, -4.75, -1.44]\n",
      "[16.56, -1.06, -16.38]\n",
      "[11.81, -1.81, -17.5]\n",
      "[52.31, 26.62, -17.06]\n",
      "[121.5, 2.69, 4.94]\n",
      "[99.88, -0.19, 4.19]\n",
      "[88.62, -0.44, 3.25]\n",
      "[81.75, -0.44, 1.88]\n",
      "[78.5, 1.0, 1.5]\n",
      "[76.81, 7.25, -5.25]\n",
      "[71.81, 5.81, -11.0]\n",
      "[78.94, 3.75, -4.0]\n",
      "[81.0, 3.0, -3.5]\n",
      "[81.75, 2.62, -1.88]\n",
      "[9.75, 0.62, -6.31]\n",
      "[355.0, -3.31, -17.81]\n",
      "[355.56, -44.44, -65.81]\n",
      "[355.81, -47.38, -67.38]\n",
      "[355.69, -48.75, -67.94]\n",
      "[355.44, -49.12, -68.62]\n",
      "[355.19, -49.62, -68.81]\n",
      "[354.94, -49.88, -69.12]\n",
      "[354.94, -50.19, -69.06]\n",
      "[355.0, -50.19, -69.06]\n",
      "[355.06, -50.38, -69.25]\n",
      "[355.19, -50.56, -69.38]\n",
      "[355.19, -50.56, -69.38]\n",
      "[355.31, -50.81, -69.75]\n",
      "[355.38, -50.94, -69.88]\n",
      "[355.12, -51.31, -70.25]\n",
      "[355.19, -51.5, -70.44]\n",
      "[355.31, -51.62, -70.69]\n",
      "[355.31, -51.69, -70.81]\n",
      "[355.31, -51.69, -70.81]\n",
      "[355.12, -51.94, -71.62]\n",
      "[355.19, -52.0, -71.69]\n",
      "[355.19, -52.0, -71.75]\n"
     ]
    }
   ],
   "source": [
    "# testing IMU\n",
    "import time \n",
    "i = 0\n",
    "while i <= 60:\n",
    "#     print(i, \" seconds\")\n",
    "#     print(tmp.get_gyro())\n",
    "#     print(tmp.get_compass())\n",
    "#     print(tmp.get_accl())\n",
    "    print(tmp.get_euler())\n",
    "#     print(tmp.get_temperature())\n",
    "    time.sleep(1)\n",
    "    i = i + 1"
   ]
  },
  {
   "cell_type": "code",
   "execution_count": 14,
   "metadata": {
    "scrolled": true
   },
   "outputs": [
    {
     "name": "stdout",
     "output_type": "stream",
     "text": [
      "0  seconds\n",
      "359.38\n",
      "2  seconds\n",
      "359.56\n",
      "4  seconds\n",
      "359.69\n",
      "6  seconds\n",
      "359.56\n",
      "8  seconds\n",
      "359.69\n",
      "10  seconds\n",
      "359.69\n",
      "12  seconds\n",
      "359.69\n",
      "14  seconds\n",
      "359.81\n",
      "16  seconds\n",
      "26.69\n",
      "17  seconds\n",
      "355.88\n",
      "19  seconds\n",
      "33.25\n",
      "20  seconds\n",
      "5.25\n",
      "22  seconds\n",
      "51.81\n",
      "23  seconds\n",
      "80.69\n",
      "24  seconds\n",
      "40.25\n",
      "25  seconds\n",
      "38.06\n",
      "26  seconds\n",
      "37.62\n",
      "27  seconds\n",
      "37.62\n",
      "28  seconds\n",
      "74.88\n",
      "29  seconds\n",
      "27.94\n",
      "30  seconds\n",
      "61.44\n",
      "31  seconds\n",
      "103.31\n",
      "32  seconds\n",
      "135.69\n",
      "33  seconds\n",
      "74.19\n",
      "34  seconds\n",
      "9.88\n",
      "36  seconds\n",
      "26.75\n",
      "37  seconds\n",
      "29.5\n"
     ]
    },
    {
     "ename": "KeyboardInterrupt",
     "evalue": "",
     "output_type": "error",
     "traceback": [
      "\u001b[0;31m---------------------------------------------------------------------------\u001b[0m",
      "\u001b[0;31mKeyboardInterrupt\u001b[0m                         Traceback (most recent call last)",
      "\u001b[0;32m<ipython-input-14-be0dbfb16b7d>\u001b[0m in \u001b[0;36m<module>\u001b[0;34m()\u001b[0m\n\u001b[1;32m      4\u001b[0m     \u001b[0;34m[\u001b[0m\u001b[0mex\u001b[0m\u001b[0;34m,\u001b[0m \u001b[0mey\u001b[0m\u001b[0;34m,\u001b[0m \u001b[0mez\u001b[0m\u001b[0;34m]\u001b[0m \u001b[0;34m=\u001b[0m \u001b[0mtmp\u001b[0m\u001b[0;34m.\u001b[0m\u001b[0mget_euler\u001b[0m\u001b[0;34m(\u001b[0m\u001b[0;34m)\u001b[0m\u001b[0;34m\u001b[0m\u001b[0m\n\u001b[1;32m      5\u001b[0m     \u001b[0mprint\u001b[0m\u001b[0;34m(\u001b[0m\u001b[0mex\u001b[0m\u001b[0;34m)\u001b[0m\u001b[0;34m\u001b[0m\u001b[0m\n\u001b[0;32m----> 6\u001b[0;31m     \u001b[0mtime\u001b[0m\u001b[0;34m.\u001b[0m\u001b[0msleep\u001b[0m\u001b[0;34m(\u001b[0m\u001b[0;36m1\u001b[0m\u001b[0;34m)\u001b[0m\u001b[0;34m\u001b[0m\u001b[0m\n\u001b[0m\u001b[1;32m      7\u001b[0m     \u001b[0mi\u001b[0m \u001b[0;34m=\u001b[0m \u001b[0mi\u001b[0m \u001b[0;34m+\u001b[0m \u001b[0;36m1\u001b[0m\u001b[0;34m\u001b[0m\u001b[0m\n\u001b[1;32m      8\u001b[0m     \u001b[0;32mif\u001b[0m\u001b[0;34m(\u001b[0m\u001b[0mex\u001b[0m \u001b[0;34m>\u001b[0m \u001b[0;36m350.0\u001b[0m\u001b[0;34m)\u001b[0m \u001b[0;34m:\u001b[0m\u001b[0;34m\u001b[0m\u001b[0m\n",
      "\u001b[0;31mKeyboardInterrupt\u001b[0m: "
     ]
    }
   ],
   "source": [
    "i = 0\n",
    "while i <= 60:\n",
    "    print(i, \" seconds\")\n",
    "    [ex, ey, ez] = tmp.get_euler()\n",
    "    print(ex)\n",
    "    time.sleep(1)\n",
    "    i = i + 1\n",
    "    if(ex > 350.0) :\n",
    "        tmp.play_sequence([16])\n",
    "        tmp.range_poll()\n",
    "        time.sleep(1)\n",
    "        i = i + 1\n",
    "    if(ex < 10.0) :\n",
    "        tmp.play_sequence([16])\n",
    "        tmp.range_poll()\n",
    "        time.sleep(1)\n",
    "        i = i + 1\n",
    "        \n",
    "tmp.stop()\n",
    "    \n"
   ]
  },
  {
   "cell_type": "code",
   "execution_count": 7,
   "metadata": {
    "scrolled": true
   },
   "outputs": [
    {
     "name": "stdout",
     "output_type": "stream",
     "text": [
      "54.0\n"
     ]
    }
   ],
   "source": [
    "# from statistics import median\n",
    "\n",
    "# def parseRange(val):\n",
    "#     returnString = \"\"\n",
    "#     for x in val:\n",
    "#         returnString += (chr(x))\n",
    "#     return int(returnString[1:])\n",
    "\n",
    "# #testing rangefinder\n",
    "# count = 0\n",
    "# medianList = []\n",
    "# while(count < 20):\n",
    "#     medianList.append(parseRange(tmp.range_poll()))\n",
    "#     count += 1\n",
    "# print(median(medianList))\n",
    "# print(medianList)\n",
    "\n",
    "print(tmp.medianRange())"
   ]
  },
  {
   "cell_type": "code",
   "execution_count": 3,
   "metadata": {},
   "outputs": [
    {
     "name": "stdout",
     "output_type": "stream",
     "text": [
      "None v,285.5,2.19,-178.25 r,248485255 t,Big Rock!\n"
     ]
    },
    {
     "ename": "KeyboardInterrupt",
     "evalue": "",
     "output_type": "error",
     "traceback": [
      "\u001b[0;31m---------------------------------------------------------------------------\u001b[0m",
      "\u001b[0;31mKeyboardInterrupt\u001b[0m                         Traceback (most recent call last)",
      "\u001b[0;32m<ipython-input-3-199d7cf021ec>\u001b[0m in \u001b[0;36m<module>\u001b[0;34m()\u001b[0m\n\u001b[1;32m     29\u001b[0m \u001b[0;34m\u001b[0m\u001b[0m\n\u001b[1;32m     30\u001b[0m \u001b[0;32mwhile\u001b[0m\u001b[0;34m(\u001b[0m\u001b[0;32mTrue\u001b[0m\u001b[0;34m)\u001b[0m\u001b[0;34m:\u001b[0m\u001b[0;34m\u001b[0m\u001b[0m\n\u001b[0;32m---> 31\u001b[0;31m     \u001b[0mprepareToSend\u001b[0m\u001b[0;34m(\u001b[0m\u001b[0;34m)\u001b[0m\u001b[0;34m\u001b[0m\u001b[0m\n\u001b[0m\u001b[1;32m     32\u001b[0m     \u001b[0mtime\u001b[0m\u001b[0;34m.\u001b[0m\u001b[0msleep\u001b[0m\u001b[0;34m(\u001b[0m\u001b[0;36m5\u001b[0m\u001b[0;34m)\u001b[0m\u001b[0;34m\u001b[0m\u001b[0m\n",
      "\u001b[0;32m<ipython-input-3-199d7cf021ec>\u001b[0m in \u001b[0;36mprepareToSend\u001b[0;34m()\u001b[0m\n\u001b[1;32m      2\u001b[0m \u001b[0;34m\u001b[0m\u001b[0m\n\u001b[1;32m      3\u001b[0m \u001b[0;32mdef\u001b[0m \u001b[0mprepareToSend\u001b[0m\u001b[0;34m(\u001b[0m\u001b[0;34m)\u001b[0m\u001b[0;34m:\u001b[0m\u001b[0;34m\u001b[0m\u001b[0m\n\u001b[0;32m----> 4\u001b[0;31m     \u001b[0mgpsVal\u001b[0m \u001b[0;34m=\u001b[0m \u001b[0mparseGPS\u001b[0m\u001b[0;34m(\u001b[0m\u001b[0mtmp\u001b[0m\u001b[0;34m.\u001b[0m\u001b[0mreadFromGPS\u001b[0m\u001b[0;34m(\u001b[0m\u001b[0;34m)\u001b[0m\u001b[0;34m)\u001b[0m\u001b[0;34m\u001b[0m\u001b[0m\n\u001b[0m\u001b[1;32m      5\u001b[0m     \u001b[0mimuVal\u001b[0m \u001b[0;34m=\u001b[0m \u001b[0mparseIMU\u001b[0m\u001b[0;34m(\u001b[0m\u001b[0mtmp\u001b[0m\u001b[0;34m.\u001b[0m\u001b[0mget_euler\u001b[0m\u001b[0;34m(\u001b[0m\u001b[0;34m)\u001b[0m\u001b[0;34m)\u001b[0m\u001b[0;34m\u001b[0m\u001b[0m\n\u001b[1;32m      6\u001b[0m     \u001b[0mrangeVal\u001b[0m \u001b[0;34m=\u001b[0m \u001b[0mparseRange\u001b[0m\u001b[0;34m(\u001b[0m\u001b[0mtmp\u001b[0m\u001b[0;34m.\u001b[0m\u001b[0mrange_poll\u001b[0m\u001b[0;34m(\u001b[0m\u001b[0;34m)\u001b[0m\u001b[0;34m)\u001b[0m\u001b[0;34m\u001b[0m\u001b[0m\n",
      "\u001b[0;32m/opt/python3.6/lib/python3.6/site-packages/pynq/lib/arduino/arduino_spot.py\u001b[0m in \u001b[0;36mreadFromGPS\u001b[0;34m(self)\u001b[0m\n\u001b[1;32m    277\u001b[0m                 \u001b[0mstringBuilder\u001b[0m \u001b[0;34m=\u001b[0m \u001b[0;34m\"\"\u001b[0m\u001b[0;34m\u001b[0m\u001b[0m\n\u001b[1;32m    278\u001b[0m                 \u001b[0mcounter\u001b[0m \u001b[0;34m=\u001b[0m \u001b[0;36m0\u001b[0m\u001b[0;34m\u001b[0m\u001b[0m\n\u001b[0;32m--> 279\u001b[0;31m                 \u001b[0mself\u001b[0m\u001b[0;34m.\u001b[0m\u001b[0mmicroblaze\u001b[0m\u001b[0;34m.\u001b[0m\u001b[0mwrite_blocking_command\u001b[0m\u001b[0;34m(\u001b[0m\u001b[0mGPS_READ\u001b[0m\u001b[0;34m)\u001b[0m\u001b[0;34m;\u001b[0m \u001b[0;31m# Returns 102 values\u001b[0m\u001b[0;34m\u001b[0m\u001b[0m\n\u001b[0m\u001b[1;32m    280\u001b[0m \u001b[0;34m\u001b[0m\u001b[0m\n\u001b[1;32m    281\u001b[0m                 \u001b[0mx\u001b[0m \u001b[0;34m=\u001b[0m \u001b[0;36m0\u001b[0m\u001b[0;34m;\u001b[0m\u001b[0;34m\u001b[0m\u001b[0m\n",
      "\u001b[0;32m/opt/python3.6/lib/python3.6/site-packages/pynq/lib/arduino/arduino.py\u001b[0m in \u001b[0;36mwrite_blocking_command\u001b[0;34m(self, command)\u001b[0m\n\u001b[1;32m    153\u001b[0m         \"\"\"\n\u001b[1;32m    154\u001b[0m         \u001b[0mself\u001b[0m\u001b[0;34m.\u001b[0m\u001b[0mwrite\u001b[0m\u001b[0;34m(\u001b[0m\u001b[0mMAILBOX_OFFSET\u001b[0m \u001b[0;34m+\u001b[0m \u001b[0mMAILBOX_PY2IOP_CMD_OFFSET\u001b[0m\u001b[0;34m,\u001b[0m \u001b[0mcommand\u001b[0m\u001b[0;34m)\u001b[0m\u001b[0;34m\u001b[0m\u001b[0m\n\u001b[0;32m--> 155\u001b[0;31m         \u001b[0;32mwhile\u001b[0m \u001b[0mself\u001b[0m\u001b[0;34m.\u001b[0m\u001b[0mread\u001b[0m\u001b[0;34m(\u001b[0m\u001b[0mMAILBOX_OFFSET\u001b[0m \u001b[0;34m+\u001b[0m \u001b[0mMAILBOX_PY2IOP_CMD_OFFSET\u001b[0m\u001b[0;34m)\u001b[0m \u001b[0;34m!=\u001b[0m \u001b[0;36m0\u001b[0m\u001b[0;34m:\u001b[0m\u001b[0;34m\u001b[0m\u001b[0m\n\u001b[0m\u001b[1;32m    156\u001b[0m             \u001b[0;32mpass\u001b[0m\u001b[0;34m\u001b[0m\u001b[0m\n\u001b[1;32m    157\u001b[0m \u001b[0;34m\u001b[0m\u001b[0m\n",
      "\u001b[0;32m/opt/python3.6/lib/python3.6/site-packages/pynq/lib/pynqmicroblaze/pynqmicroblaze.py\u001b[0m in \u001b[0;36mread\u001b[0;34m(self, offset, length)\u001b[0m\n\u001b[1;32m    287\u001b[0m             \u001b[0;32mraise\u001b[0m \u001b[0mValueError\u001b[0m\u001b[0;34m(\u001b[0m\u001b[0;34m'Type of write data has to be int or lists.'\u001b[0m\u001b[0;34m)\u001b[0m\u001b[0;34m\u001b[0m\u001b[0m\n\u001b[1;32m    288\u001b[0m \u001b[0;34m\u001b[0m\u001b[0m\n\u001b[0;32m--> 289\u001b[0;31m     \u001b[0;32mdef\u001b[0m \u001b[0mread\u001b[0m\u001b[0;34m(\u001b[0m\u001b[0mself\u001b[0m\u001b[0;34m,\u001b[0m \u001b[0moffset\u001b[0m\u001b[0;34m,\u001b[0m \u001b[0mlength\u001b[0m\u001b[0;34m=\u001b[0m\u001b[0;36m1\u001b[0m\u001b[0;34m)\u001b[0m\u001b[0;34m:\u001b[0m\u001b[0;34m\u001b[0m\u001b[0m\n\u001b[0m\u001b[1;32m    290\u001b[0m         \"\"\"This method reads data from the shared memory of Microblaze.\n\u001b[1;32m    291\u001b[0m \u001b[0;34m\u001b[0m\u001b[0m\n",
      "\u001b[0;31mKeyboardInterrupt\u001b[0m: "
     ]
    }
   ],
   "source": [
    "tmp.beginTX(1)\n",
    "\n",
    "def prepareToSend():\n",
    "    gpsVal = parseGPS(tmp.readFromGPS())\n",
    "    imuVal = parseIMU(tmp.get_euler())\n",
    "    rangeVal = parseRange(tmp.range_poll())\n",
    "    tag = \"t,Big Rock!\"\n",
    "#     tmp.writeToTX(4, gpsVal)\n",
    "    tmp.writeToTX(4, imuVal)\n",
    "    tmp.writeToTX(4, rangeVal)\n",
    "    tmp.writeToTX(4, tag)\n",
    "    print(gpsVal, imuVal, rangeVal, tag)\n",
    "    \n",
    "def parseGPS(val):\n",
    "    if(val[0] != None and val[1] != None):\n",
    "        return \"l,\" + str(round(val[0], 6)) + \",\" + str(round(val[1], 6))\n",
    "    \n",
    "def parseIMU(val):\n",
    "    returnString = \"\"\n",
    "    for x in val:\n",
    "        returnString += (str(x) + \",\")\n",
    "    return \"v,\" + returnString[0:-1]\n",
    "\n",
    "def parseRange(val):\n",
    "    returnString = \"\"\n",
    "    for x in val:\n",
    "        returnString += (str(x))\n",
    "    return \"r,\" + returnString[1:]\n",
    "\n",
    "while(True):\n",
    "    prepareToSend()\n",
    "    time.sleep(5)"
   ]
  },
  {
   "cell_type": "code",
   "execution_count": 8,
   "metadata": {
    "scrolled": true
   },
   "outputs": [
    {
     "name": "stdout",
     "output_type": "stream",
     "text": [
      "[82, 48, 48, 50, 53]\n",
      "None v,330.88,3.56,-179.06 r,0025 t,Big Rock\n",
      "[82, 48, 48, 50, 53]\n",
      "None v,330.88,3.56,-179.06 r,0002 t,Big Rock\n",
      "[82, 48, 48, 50, 53]\n",
      "None v,330.88,3.56,-179.06 r,0025 t,Big Rock\n",
      "[82, 48, 48, 50, 53]\n",
      "None v,330.88,3.56,-179.06 r,0002 t,Big Rock\n",
      "[82, 48, 48, 50, 53]\n",
      "None v,330.88,3.56,-179.06 r,0025 t,Big Rock\n",
      "[82, 48, 48, 50, 53]\n",
      "None v,330.88,3.56,-179.06 r,0002 t,Big Rock\n",
      "[82, 48, 48, 50, 53]\n",
      "0 t,Big Rock8,3.56,-179.06 r,25\n",
      "[82, 48, 48, 50, 53]\n",
      "None v,330.88,3.56,-179.06 r,0025 t,Big Rock\n",
      "[82, 48, 48, 50, 53]\n",
      "None v,330.88,3.56,-179.06 r,0020 t,Big Rock\n",
      "[82, 48, 48, 50, 53]\n",
      "None v,330.88,3.56,-179.06 r,0025 t,Big Rock\n",
      "[82, 48, 48, 50, 53]\n",
      "None v,330.88,3.56,-179.06 r,0000 t,Big Rock\n",
      "[82, 48, 48, 50, 53]\n",
      "None v,330.88,3.56,-179.06 r,0025 t,Big Rock\n",
      "[82, 48, 48, 50, 53]\n",
      "None v,330.88,3.56,-179.06 r,0000 t,Big Rock\n",
      "[82, 48, 48, 50, 53]\n",
      "None v,330.88,3.56,-179.06 r,0025 t,Big Rock\n",
      "[82, 48, 48, 50, 53]\n",
      "None v,330.88,3.56,-179.06 r,0000 t,Big Rock\n",
      "[82, 48, 48, 50, 53]\n",
      "None v,330.88,3.56,-179.06 r,0025 t,Big Rock\n",
      "[82, 48, 48, 50, 53]\n",
      "None v,330.88,3.56,-179.06 r,0000 t,Big Rock\n",
      "[82, 48, 48, 50, 53]\n",
      "None v,330.88,3.56,-179.06 r,0025 t,Big Rock\n",
      "[82, 48, 48, 50, 53]\n",
      "None v,330.88,3.56,-179.06 r,0000 t,Big Rock\n",
      "[82, 48, 48, 50, 53]\n",
      "None v,330.88,3.56,-179.06 r,0025 t,Big Rock\n",
      "[82, 48, 48, 50, 53]\n",
      "None v,330.88,3.56,-179.06 r,0000 t,Big Rock\n",
      "[82, 48, 48, 50, 53]\n",
      "None v,330.88,3.56,-179.06 r,0025 t,Big Rock\n",
      "[82, 48, 48, 50, 53]\n",
      "None v,330.88,3.56,-179.06 r,0000 t,Big Rock\n",
      "[82, 48, 48, 50, 53]\n",
      "None v,330.88,3.56,-179.06 r,0025 t,Big Rock\n",
      "[82, 48, 48, 50, 53]\n",
      "None v,330.88,3.56,-179.06 r,0000 t,Big Rock\n",
      "[82, 48, 48, 50, 53]\n",
      "None v,330.88,3.56,-179.06 r,0025 t,Big Rock\n",
      "[82, 48, 48, 50, 53]\n",
      "None v,330.88,3.56,-179.06 r,0025 t,Big Rock\n",
      "[82, 48, 48, 50, 53]\n",
      "None v,330.88,3.56,-179.06 r,0000 t,Big Rock\n",
      "[82, 48, 48, 50, 53]\n",
      "None v,330.88,3.56,-179.06 r,0025 t,Big Rock\n",
      "[82, 48, 48, 50, 53]\n",
      "None v,330.88,3.56,-179.06 r,0000 t,Big Rock\n",
      "[82, 48, 48, 50, 53]\n",
      "None v,330.88,3.56,-179.06 r,0025 t,Big Rock\n",
      "[82, 48, 48, 50, 53]\n",
      "None v,330.88,3.56,-179.06 r,0000 t,Big Rock\n",
      "[82, 48, 48, 50, 53]\n",
      "None v,330.88,3.62,-179.06 r,0025 t,Big Rock\n",
      "[82, 48, 48, 50, 53]\n",
      "None v,330.88,3.62,-179.06 r,0000 t,Big Rock\n",
      "[82, 48, 48, 50, 53]\n",
      "None v,330.88,3.62,-179.06 r,0025 t,Big Rock\n",
      "[82, 48, 48, 50, 53]\n",
      "None v,330.88,3.62,-179.06 r,0000 t,Big Rock\n",
      "[82, 48, 48, 50, 53]\n",
      "None v,330.88,3.62,-179.06 r,0025 t,Big Rock\n",
      "[82, 48, 48, 50, 53]\n",
      "None v,330.88,3.62,-179.06 r,0000 t,Big Rock\n",
      "[82, 48, 48, 50, 53]\n",
      "None v,330.88,3.62,-179.06 r,0025 t,Big Rock\n",
      "[82, 48, 48, 50, 53]\n",
      "None v,325.56,4.0,-179.0 r,0000 t,Big Rock\n",
      "[82, 48, 48, 50, 53]\n",
      "None v,313.06,2.75,-178.38 r,0025 t,Big Rock\n",
      "[82, 48, 48, 50, 56]\n",
      "None v,313.06,2.38,-178.25 r,0000 t,Big Rock\n",
      "[82, 48, 48, 50, 57]\n",
      "None v,313.06,2.38,-178.25 r,0029 t,Big Rock\n",
      "[82, 48, 48, 51, 49]\n",
      "None v,313.06,2.38,-178.25 r,0000 t,Big Rock\n",
      "[82, 48, 48, 51, 49]\n",
      "None v,313.06,2.38,-178.25 r,0031 t,Big Rock\n",
      "[82, 48, 48, 51, 48]\n",
      "None v,313.06,2.38,-178.25 r,0000 t,Big Rock\n",
      "[82, 48, 48, 51, 48]\n",
      "None v,313.06,2.38,-178.25 r,0031 t,Big Rock\n",
      "[82, 48, 48, 51, 49]\n",
      "None v,313.06,2.38,-178.25 r,0031 t,Big Rock\n",
      "[82, 48, 48, 51, 49]\n",
      "None v,313.06,2.38,-178.25 r,0031 t,Big Rock\n",
      "[82, 48, 48, 50, 53]\n",
      "None v,313.06,2.38,-178.25 r,0000 t,Big Rock\n",
      "[82, 48, 48, 50, 53]\n",
      "None v,313.06,2.38,-178.25 r,0025 t,Big Rock\n",
      "[82, 48, 48, 50, 53]\n",
      "None v,313.06,2.38,-178.25 r,0000 t,Big Rock\n",
      "[82, 48, 48, 50, 53]\n",
      "None v,313.06,2.38,-178.25 r,0025 t,Big Rock\n",
      "[82, 48, 48, 50, 53]\n",
      "None v,313.06,2.38,-178.25 r,0000 t,Big Rock\n",
      "[82, 48, 48, 50, 53]\n",
      "None v,313.06,2.38,-178.25 r,0025 t,Big Rock\n",
      "[82, 48, 48, 50, 53]\n",
      "None v,313.06,2.38,-178.25 r,0000 t,Big Rock\n",
      "[82, 48, 48, 50, 53]\n",
      "None v,313.06,2.38,-178.25 r,0025 t,Big Rock\n",
      "[82, 48, 48, 50, 53]\n",
      "None v,313.06,2.38,-178.25 r,0000 t,Big Rock\n",
      "[82, 48, 48, 50, 53]\n",
      "None v,313.06,2.38,-178.25 r,0025 t,Big Rock\n",
      "[82, 48, 48, 50, 53]\n",
      "None v,313.06,2.38,-178.25 r,0000 t,Big Rock\n",
      "[82, 48, 48, 50, 56]\n",
      "None v,313.06,2.38,-178.25 r,0028 t,Big Rock\n",
      "[82, 48, 48, 50, 57]\n",
      "None v,313.06,2.38,-178.25 r,0002 t,Big Rock\n",
      "[82, 48, 48, 51, 55]\n",
      "0 t,Big Rock6,2.38,-178.25 r,30\n",
      "[82, 48, 48, 50, 53]\n",
      "None v,313.06,2.38,-178.25 r,0025 t,Big Rock\n",
      "[82, 48, 48, 52, 50]\n",
      "None v,313.06,2.38,-178.25 r,0020 t,Big Rock\n",
      "[82, 48, 48, 52, 52]\n",
      "None v,314.38,7.0,179.62 r,0075 t,Big Rock\n",
      "[82, 48, 48, 50, 54]\n",
      "None v,321.5,28.69,175.56 r,0020 t,Big Rock\n",
      "[82, 48, 49, 48, 53]\n",
      "None v,322.0,30.19,170.38 r,0025 t,Big Rock\n",
      "[82, 48, 48, 56, 54]\n",
      "None v,322.44,29.81,170.19 r,0110 t,Big Rock\n",
      "[82, 48, 48, 51, 51]\n",
      "None v,322.44,29.81,170.19 r,0077 t,Big Rock\n",
      "[82, 48, 48, 57, 48]\n",
      "None v,322.56,29.81,170.19 r,0080 t,Big Rock\n",
      "[82, 48, 48, 57, 50]\n",
      "None v,322.56,29.81,170.19 r,0092 t,Big Rock\n",
      "[82, 48, 49, 48, 53]\n",
      "None v,322.56,29.81,170.19 r,0090 t,Big Rock\n",
      "[82, 48, 48, 57, 49]\n",
      "None v,322.56,29.81,170.19 r,0086 t,Big Rock\n",
      "[82, 48, 48, 56, 50]\n",
      "None v,322.5,29.75,170.19 r,0090 t,Big Rock\n",
      "[82, 48, 48, 56, 53]\n",
      "None v,322.5,29.75,170.19 r,0084 t,Big Rock\n",
      "[82, 48, 48, 55, 50]\n",
      "None v,322.5,29.75,170.25 r,0080 t,Big Rock\n",
      "[82, 48, 48, 55, 55]\n",
      "None v,322.62,29.75,170.25 r,0081 t,Big Rock\n",
      "[82, 48, 48, 50, 53]\n",
      "None v,323.56,30.0,170.81 r,0070 t,Big Rock\n",
      "[82, 48, 48, 50, 53]\n",
      "None v,323.56,29.88,170.88 r,0025 t,Big Rock\n",
      "[82, 48, 48, 50, 53]\n",
      "None v,323.69,29.81,170.75 r,0020 t,Big Rock\n",
      "[82, 48, 48, 50, 53]\n",
      "None v,323.75,29.81,170.75 r,0025 t,Big Rock\n",
      "[82, 48, 48, 50, 53]\n",
      "None v,323.69,29.88,170.81 r,0020 t,Big Rock\n",
      "[82, 48, 48, 50, 53]\n",
      "None v,323.88,29.88,170.75 r,0025 t,Big Rock\n",
      "[82, 48, 48, 50, 53]\n",
      "None v,323.88,29.81,170.75 r,0020 t,Big Rock\n",
      "[82, 48, 48, 50, 54]\n",
      "None v,323.88,29.81,170.75 r,0030 t,Big Rock\n",
      "[82, 48, 48, 50, 57]\n",
      "None v,323.88,29.81,170.75 r,0020 t,Big Rock\n",
      "[82, 48, 50, 57, 56]\n",
      "None v,324.56,30.25,170.25 r,0299 t,Big Rock\n",
      "[82, 48, 51, 48, 48]\n",
      "None v,325.62,38.56,173.56 r,0170 t,Big Rock\n",
      "[82, 48, 50, 57, 56]\n",
      "None v,334.38,31.44,159.12 r,0298 t,Big Rock\n",
      "[82, 48, 48, 51, 50]\n",
      "None v,341.56,30.62,157.19 r,0290 t,Big Rock\n",
      "[82, 48, 48, 57, 53]\n",
      "None v,299.25,44.06,160.25 r,0047 t,Big Rock\n",
      "[82, 48, 48, 56, 51]\n",
      "None v,300.75,51.44,153.44 r,0090 t,Big Rock\n",
      "[82, 48, 48, 55, 57]\n",
      "None v,302.19,55.12,148.12 r,0079 t,Big Rock\n",
      "[82, 48, 48, 54, 48]\n",
      "None v,295.69,50.44,143.69 r,0070 t,Big Rock\n",
      "[82, 48, 48, 56, 48]\n",
      "None v,295.38,50.62,142.69 r,0061 t,Big Rock\n",
      "[82, 48, 48, 57, 48]\n",
      "None v,295.25,50.75,142.19 r,0090 t,Big Rock\n",
      "[82, 48, 48, 53, 55]\n",
      "None v,295.06,50.75,141.94 r,0057 t,Big Rock\n",
      "[82, 48, 48, 53, 55]\n",
      "None v,294.88,50.75,141.75 r,0050 t,Big Rock\n",
      "[82, 48, 48, 56, 50]\n",
      "None v,294.5,50.88,141.5 r,0094 t,Big Rock\n",
      "[82, 48, 48, 57, 52]\n",
      "None v,294.38,50.88,141.38 r,0009 t,Big Rock\n",
      "[82, 48, 48, 57, 50]\n",
      "None v,294.38,50.88,141.44 r,0098 t,Big Rock\n",
      "[82, 48, 48, 57, 49]\n",
      "None v,294.31,50.81,141.5 r,0009 t,Big Rock\n",
      "[82, 48, 48, 53, 56]\n",
      "None v,294.12,50.81,141.25 r,0058 t,Big Rock\n",
      "[82, 48, 48, 57, 49]\n",
      "None v,294.06,51.0,140.94 r,0009 t,Big Rock\n",
      "[82, 48, 48, 55, 56]\n",
      "None v,287.88,48.69,137.75 r,0079 t,Big Rock\n",
      "[82, 48, 48, 53, 55]\n",
      "None v,287.56,48.56,137.56 r,0005 t,Big Rock\n",
      "[82, 48, 48, 53, 54]\n",
      "None v,284.75,47.12,136.44 r,0056 t,Big Rock\n",
      "[82, 48, 48, 50, 54]\n",
      "None v,285.44,47.56,136.88 r,0003 t,Big Rock\n",
      "[82, 48, 48, 53, 56]\n",
      "None v,284.5,47.81,136.44 r,0098 t,Big Rock\n",
      "[82, 48, 48, 53, 55]\n",
      "None v,284.38,47.81,136.38 r,0005 t,Big Rock\n",
      "[82, 48, 48, 53, 56]\n",
      "None v,284.5,47.94,136.25 r,0175 t,Big Rock\n",
      "[82, 48, 49, 48, 51]\n",
      "None v,284.56,47.94,136.19 r,0010 t,Big Rock\n",
      "[82, 48, 49, 48, 50]\n",
      "None v,283.06,46.19,138.88 r,0102 t,Big Rock\n",
      "[82, 48, 48, 54, 57]\n",
      "None v,331.5,7.5,178.06 r,0009 t,Big Rock\n",
      "[82, 48, 48, 50, 53]\n",
      "None v,325.06,3.19,-176.31 r,0025 t,Big Rock\n",
      "[82, 48, 48, 50, 53]\n",
      "None v,324.38,3.25,-176.5 r,0002 t,Big Rock\n",
      "[82, 48, 48, 50, 53]\n",
      "None v,324.38,3.25,-176.5 r,0025 t,Big Rock\n",
      "[82, 48, 48, 54, 54]\n",
      "None v,324.38,3.25,-176.5 r,0006 t,Big Rock\n"
     ]
    },
    {
     "ename": "KeyboardInterrupt",
     "evalue": "",
     "output_type": "error",
     "traceback": [
      "\u001b[0;31m---------------------------------------------------------------------------\u001b[0m",
      "\u001b[0;31mKeyboardInterrupt\u001b[0m                         Traceback (most recent call last)",
      "\u001b[0;32m<ipython-input-8-87a43b06c43f>\u001b[0m in \u001b[0;36m<module>\u001b[0;34m()\u001b[0m\n\u001b[1;32m      1\u001b[0m \u001b[0;32mwhile\u001b[0m\u001b[0;34m(\u001b[0m\u001b[0;32mTrue\u001b[0m\u001b[0;34m)\u001b[0m\u001b[0;34m:\u001b[0m\u001b[0;34m\u001b[0m\u001b[0m\n\u001b[1;32m      2\u001b[0m     \u001b[0mprepareToSend\u001b[0m\u001b[0;34m(\u001b[0m\u001b[0;34m)\u001b[0m\u001b[0;34m\u001b[0m\u001b[0m\n\u001b[0;32m----> 3\u001b[0;31m     \u001b[0mtime\u001b[0m\u001b[0;34m.\u001b[0m\u001b[0msleep\u001b[0m\u001b[0;34m(\u001b[0m\u001b[0;36m1\u001b[0m\u001b[0;34m)\u001b[0m\u001b[0;34m\u001b[0m\u001b[0m\n\u001b[0m",
      "\u001b[0;31mKeyboardInterrupt\u001b[0m: "
     ]
    }
   ],
   "source": [
    "while(True):\n",
    "    prepareToSend()\n",
    "    time.sleep(1)"
   ]
  },
  {
   "cell_type": "code",
   "execution_count": null,
   "metadata": {},
   "outputs": [],
   "source": []
  }
 ],
 "metadata": {
  "kernelspec": {
   "display_name": "Python 3",
   "language": "python",
   "name": "python3"
  },
  "language_info": {
   "codemirror_mode": {
    "name": "ipython",
    "version": 3
   },
   "file_extension": ".py",
   "mimetype": "text/x-python",
   "name": "python",
   "nbconvert_exporter": "python",
   "pygments_lexer": "ipython3",
   "version": "3.6.0"
  }
 },
 "nbformat": 4,
 "nbformat_minor": 2
}
